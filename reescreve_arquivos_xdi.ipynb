{
 "cells": [
  {
   "cell_type": "markdown",
   "id": "322c603d",
   "metadata": {},
   "source": [
    "# Reescreve Arquivos XDI"
   ]
  },
  {
   "cell_type": "code",
   "execution_count": 1,
   "id": "ffdf7532",
   "metadata": {},
   "outputs": [],
   "source": [
    "import regex as re\n",
    "import pandas as pd\n",
    "import os"
   ]
  },
  {
   "cell_type": "markdown",
   "id": "5ef2621c",
   "metadata": {},
   "source": [
    "___\n",
    "<font size=3> Este notebook foi criado para adicionar novos campos à arquivos XDI: `Citation.doi` e `Citation.comments`, o primeiro armazenará a referência aos autores do experimento contido no arquivo XDI lido e a referência à base de dados, enquanto o segundo armazenará os comentários sobre o experimento, caso existam. </font>\n",
    "____"
   ]
  },
  {
   "cell_type": "markdown",
   "id": "88ff69d9",
   "metadata": {},
   "source": [
    "**<font size=3>Objetivo deste notebook</font>**\n",
    "\n",
    "- <font size=3> Reconhecer onde termina a parte do header </font>\n",
    "\n",
    "- <font size=3> Reconhecer a parte do comentário, apagar a parte do comentário e adicionar o que estava no comentário em dois metadados novos: `Citation.doi` (referenciando os autores e a base de dados SSHADE) e `Citation.comments` (caso exista algum comentário no arquivo).</font>\n",
    "___"
   ]
  },
  {
   "cell_type": "markdown",
   "id": "c4a30217",
   "metadata": {},
   "source": [
    "<font size=3>Devido à grande quantidade de arquivos que obtivemos, fez-se necessário uma rotina que percorra toda a pasta em busca dos arquivos XDI que ela armazena e listá-los em uma lista do python para encontrar os arquivos de modo mais fácil quando a rotina de adição dos novos metadados for executada.</font>"
   ]
  },
  {
   "cell_type": "markdown",
   "id": "ab81ae94",
   "metadata": {},
   "source": [
    "______\n",
    "<font color='red' size=6>**Atenção!**</font>\n",
    "\n",
    "<font size=3>Antes de executar os códigos abaixo confira se há necessidade de mudar os valores de algumas variáveis, principalmente `caminho_raiz`, `arquivo_para_leitura`. Além disso, é fundamental observar no arquivo que você quer adicionar os novos campos se há um `doi`, pois do contrário ocorrerá um erro ao executar a função `reconhece_campos`.</font>\n",
    "_____"
   ]
  },
  {
   "cell_type": "code",
   "execution_count": 2,
   "id": "038a5b46",
   "metadata": {},
   "outputs": [],
   "source": [
    "#código construído com auxilio do chat GPT\n",
    "\n",
    "caminho_raiz = r\"C:\\Users\\izaque23003\\Downloads\\ip3\\SSHADE\" \n",
    "\n",
    "#Criando lista para guardar os nomes das pastas dos dados convertidos\n",
    "nomes_pastas = []\n",
    "padrao_arq = re.compile(r'(.+?).xdi$')\n",
    "arquivo = []\n",
    "# Percorrendo recursivamente todos os diretórios e subdiretórios\n",
    "for diretorio_atual, subdiretorios, arquivos in os.walk(caminho_raiz):\n",
    "    # Iterando sobre os arquivos no diretório atual\n",
    "    if not nomes_pastas:\n",
    "        nomes_pastas.extend(subdiretorios)\n",
    "    for nome_arquivo in arquivos:\n",
    "        # Verificando se o arquivo corresponde ao padrão .data\n",
    "        if padrao_arq.search(nome_arquivo):\n",
    "            # Construindo o caminho completo do arquivo\n",
    "            caminho_completo = os.path.join(diretorio_atual, nome_arquivo)\n",
    "            # Adicionando o caminho completo à lista de arquivos .data\n",
    "            arquivo.append(caminho_completo)"
   ]
  },
  {
   "cell_type": "markdown",
   "id": "77fe98bd",
   "metadata": {},
   "source": [
    "## Encontrando os comentários no arquivo XDI"
   ]
  },
  {
   "cell_type": "markdown",
   "id": "d267906d",
   "metadata": {},
   "source": [
    "<font size=3>Para identificar corretamente o campo que será mudado vamos realizar um teste para encontrar um padrão da localização do conteúdo de comentários buscado no arquivo XDI.<font>"
   ]
  },
  {
   "cell_type": "code",
   "execution_count": 9,
   "id": "edc6e003",
   "metadata": {},
   "outputs": [],
   "source": [
    "arquivo_para_leitura ='Ag K edge XAS fluorescence Ag-GSH 1.xdi'\n",
    "\n",
    "with open(arquivo_para_leitura, 'r') as arquivo:\n",
    "    texto = arquivo.readlines()\n"
   ]
  },
  {
   "cell_type": "code",
   "execution_count": 4,
   "id": "97398157",
   "metadata": {},
   "outputs": [
    {
     "data": {
      "text/plain": [
       "'# ////\\n'"
      ]
     },
     "execution_count": 4,
     "metadata": {},
     "output_type": "execute_result"
    }
   ],
   "source": [
    "texto[11] #encontrando trecho comentários"
   ]
  },
  {
   "cell_type": "code",
   "execution_count": 4,
   "id": "9d88e283",
   "metadata": {},
   "outputs": [
    {
     "data": {
      "text/plain": [
       "'#- Veronesi, Giulia; Delangle, Pascale; Carriere, Marie (2014): Ag K edge XAS fluorescence of Ag-GSH 1:1 solution (pH=7.4) at 16K. SSHADE/FAME (OSUG Data Center). Dataset/Spectral Data. https://doi.org/10.26302/SSHADE/EXPERIMENT_GV_20181121_001\\n'"
      ]
     },
     "execution_count": 4,
     "metadata": {},
     "output_type": "execute_result"
    }
   ],
   "source": [
    "texto[11+2] #pulando duas linhas consigo chegar na informação que eu desejo."
   ]
  },
  {
   "cell_type": "markdown",
   "id": "c7a8bda9",
   "metadata": {},
   "source": [
    "<font size=3> Foi observado que, ao encontrar as informações na posição 11 do arquivo XDI, onde o token de comentário característico dos arquivos XDI (`# ////\\n`, veja a documentação oficial em [1]) é encontrado, se avançarmos duas posições na lista `texto` é possível encontrar de fato o comentário que contém os autores que serão referenciados no novo metadado `Citation.doi`</font>"
   ]
  },
  {
   "cell_type": "markdown",
   "id": "54c462d8",
   "metadata": {},
   "source": [
    "# Função que reconhece os campos"
   ]
  },
  {
   "cell_type": "markdown",
   "id": "c9c3ac0f",
   "metadata": {},
   "source": [
    "<font size=3>Como há a possibilidade de nem sempre estar na mesma posição, o código abaixo foi escrito de forma a reconhecer, por meio da biblioteca `Regex`, onde inicia o token de comentário e adiciona 2 posições à posição na qual o token foi encontrada, devido ao que foi observado no raciocínio acima.</font>"
   ]
  },
  {
   "cell_type": "code",
   "execution_count": 6,
   "id": "f85e53f8",
   "metadata": {},
   "outputs": [],
   "source": [
    "def reconhece_campos(texto):\n",
    "    '''Esta função recebe uma lista de strings de arquivo XDI e encontra o token comentário.\n",
    "    Args:\n",
    "        texto: lista contendo os dados do arquivo XDI lidos com a função readlines\n",
    "    returns:\n",
    "        retorna os campos doi, indice onde inicia o token de comentário, lista contendo os dados dos novos campos e \n",
    "        a lista dada como argumento alterada.\n",
    "    '''\n",
    "    for linha in texto:\n",
    "        if re.search(r'#\\s?/+\\n', linha) != None: #posição de inicio dos comentários\n",
    "            indice_inicia = texto.index(linha)\n",
    "            texto[indice_inicia+2] = texto[indice_inicia+2].replace('#- ', '')\n",
    "            texto[indice_inicia+2] = texto[indice_inicia+2].replace('\\n', '')\n",
    "            texto[indice_inicia+3] = texto[indice_inicia+3].replace('# ', '')\n",
    "            texto[indice_inicia+3] = texto[indice_inicia+3].replace('\\n', '')\n",
    "            texto[indice_inicia+1] = texto[indice_inicia+1].replace('#', '')\n",
    "            texto[indice_inicia+1] = texto[indice_inicia+1].replace('\\n', '')\n",
    "            \n",
    "    novos_campos = [texto.pop(indice_inicia+2)]\n",
    "    novos_campos.append(texto.pop(indice_inicia+2))\n",
    "    novos_campos.append(texto.pop(indice_inicia+1))\n",
    "    \n",
    "    doi = re.search(r'\\s?https://doi.org(.+?)\\n?$', novos_campos[0])[0] #localiza o doi do experimento\n",
    "    \n",
    "    return indice_inicia, doi, novos_campos, texto\n",
    "    "
   ]
  },
  {
   "cell_type": "code",
   "execution_count": 7,
   "id": "fd244304",
   "metadata": {},
   "outputs": [],
   "source": [
    "indice, doi, campos, texto = reconhece_campos(texto)"
   ]
  },
  {
   "cell_type": "markdown",
   "id": "d0b24bd9",
   "metadata": {},
   "source": [
    "# Visualizando os dados obtidos"
   ]
  },
  {
   "cell_type": "code",
   "execution_count": 7,
   "id": "de637c77",
   "metadata": {
    "scrolled": false
   },
   "outputs": [
    {
     "data": {
      "text/plain": [
       "['Veronesi, Giulia; Delangle, Pascale; Carriere, Marie (2014): Ag K edge XAS fluorescence of Ag-GSH 1:1 solution (pH=7.4) at 16K. SSHADE/FAME (OSUG Data Center). Dataset/Spectral Data. https://doi.org/10.26302/SSHADE/EXPERIMENT_GV_20181121_001',\n",
       " \"Schmitt, Bernard; Bollard, Philippe; Albert, Damien; Garenne, Alexandre; Bonal, Lydie; and the SSHADE partner's consortium (2018). SSHADE: 'Solid Spectroscopy Hosting Architecture of Databases and Expertise'. OSUG Data Center. Service/Database infrastructure. https://doi.org/10.26302/SSHADE\",\n",
       " '']"
      ]
     },
     "execution_count": 7,
     "metadata": {},
     "output_type": "execute_result"
    }
   ],
   "source": [
    "campos"
   ]
  },
  {
   "cell_type": "code",
   "execution_count": 8,
   "id": "ba4a1124",
   "metadata": {
    "scrolled": true
   },
   "outputs": [
    {
     "data": {
      "text/plain": [
       "['# XDI/1.0\\n',\n",
       " '# Column.1: energy(ev)\\n',\n",
       " '# Column.2: fluorescence_emission(au)\\n',\n",
       " '# Element.symbol: Ag\\n',\n",
       " '# Element.edge: K\\n',\n",
       " '# Mono.name: Si 2 2 0\\n',\n",
       " '# Mono.d_spacing: 1.92\\n',\n",
       " '# Beamline.name: FAME\\n',\n",
       " '# Sample.name: Frozen solution of Ag-GSH 1:1 (pH=7.4), model for digonal AgS2 coordination\\n',\n",
       " '# Sample.temperature: 16.0 +/- 3.0 K\\n',\n",
       " '# Sample.pressure: None\\n']"
      ]
     },
     "execution_count": 8,
     "metadata": {},
     "output_type": "execute_result"
    }
   ],
   "source": [
    "texto[:indice]"
   ]
  },
  {
   "cell_type": "markdown",
   "id": "bbdfaed5",
   "metadata": {},
   "source": [
    "# Reescrevendo os arquivos"
   ]
  },
  {
   "cell_type": "markdown",
   "id": "2c5dab1f",
   "metadata": {},
   "source": [
    "<font size=3>Agora que os dados que serão utilizados para os novos metadados estão separados na variável `campos` e a lista `texto` está alterada, podemos reescrever o nosso arquivo adicionando os novos metadados `Citation.doi` e `Citation.comments`.</font>"
   ]
  },
  {
   "cell_type": "code",
   "execution_count": 8,
   "id": "def7131d",
   "metadata": {},
   "outputs": [],
   "source": [
    "def reescreve(arquivo):\n",
    "    '''Esta funcao recebe um arquivo e reescreve adicionando novos campos.\n",
    "    Args:\n",
    "        arquivo: arquivo/caminho do arquivo a ser reescrito.\n",
    "        \n",
    "    returns:\n",
    "        retorna o caminho do arquivo novo para visualização.\n",
    "    \n",
    "    '''\n",
    "    \n",
    "    new_arq = ''\n",
    "    caminho_arquivo_novo = ''\n",
    "    with open(arquivo, \"r\") as file:\n",
    "        # Leia todo o conteúdo do arquivo\n",
    "        novo_conteudo = ''\n",
    "        conteudo = file.readlines()\n",
    "\n",
    "        indice, doi, campos, conteudo = reconhece_campos(conteudo)\n",
    "\n",
    "        conteudo = conteudo[:indice] + [f\"# Citation.doi: {doi}\"] + ['\\n'] + [f\"# Citation.comments: {campos[0]}{campos[1]}{campos[2]}\"] + ['\\n'] + conteudo[indice:]\n",
    "        for texto in conteudo:\n",
    "            novo_conteudo += texto\n",
    "    #encontrando somente o nome do arquivo antes da extensão\n",
    "    sentenca = r'.*\\\\([^\\\\]*\\.xdi)'\n",
    "    new_arq = re.search(sentenca, arquivo)[1]+'_new.xdi'\n",
    "    novo_caminho = r\"C:\\Users\\izaque23003\\OneDrive - ILUM ESCOLA DE CIÊNCIA\\ilum_3s\\ip_3\\base_dados_fase1\\SSHADE\\dados_campos_novos\"\n",
    "    caminho_arquivo_novo = os.path.join(novo_caminho,new_arq)\n",
    "    print(caminho_arquivo_novo)\n",
    "    #salvando um novo arquivo na pasta com o nome new\n",
    "    with open(caminho_arquivo_novo, 'w') as fi:\n",
    "        fi.write(novo_conteudo)\n",
    "    \n",
    "    return caminho_arquivo_novo"
   ]
  },
  {
   "cell_type": "markdown",
   "id": "1af1fd30",
   "metadata": {},
   "source": [
    "<font size=3> Com a função para reescrever os arquivos pronta, agora é hora de reescrever todos os arquivos que convertemos adiconando os novos metadados</font>"
   ]
  },
  {
   "cell_type": "code",
   "execution_count": 53,
   "id": "db51b374",
   "metadata": {
    "scrolled": true
   },
   "outputs": [
    {
     "name": "stdout",
     "output_type": "stream",
     "text": [
      "C:\\Users\\izaque23003\\OneDrive - ILUM ESCOLA DE CIÊNCIA\\ilum_3s\\ip_3\\base_dados_fase1\\SSHADE\\dados_campos_novos\\ Ag K edge XAS fluorescence Ag-GSH 1.xdi_new.xdi\n",
      "O arquivo C:\\Users\\izaque23003\\Downloads\\ip3\\SSHADE\\convertidos\\Ag\\ Ag K edge XAS fluorescence Ag-GSH 1.xdi foi reescrito e salvo na pasta C:\\Users\\izaque23003\\OneDrive - ILUM ESCOLA DE CIÊNCIA\\ilum_3s\\ip_3\\base_dados_fase1\\SSHADE\\dados_campos_novos\\ Ag K edge XAS fluorescence Ag-GSH 1.xdi_new.xdi\n",
      "C:\\Users\\izaque23003\\OneDrive - ILUM ESCOLA DE CIÊNCIA\\ilum_3s\\ip_3\\base_dados_fase1\\SSHADE\\dados_campos_novos\\ Ag K edge XAS fluorescence of Ag malate solution at 10K.xdi_new.xdi\n",
      "O arquivo C:\\Users\\izaque23003\\Downloads\\ip3\\SSHADE\\convertidos\\Ag\\ Ag K edge XAS fluorescence of Ag malate solution at 10K.xdi foi reescrito e salvo na pasta C:\\Users\\izaque23003\\OneDrive - ILUM ESCOLA DE CIÊNCIA\\ilum_3s\\ip_3\\base_dados_fase1\\SSHADE\\dados_campos_novos\\ Ag K edge XAS fluorescence of Ag malate solution at 10K.xdi_new.xdi\n",
      "C:\\Users\\izaque23003\\OneDrive - ILUM ESCOLA DE CIÊNCIA\\ilum_3s\\ip_3\\base_dados_fase1\\SSHADE\\dados_campos_novos\\ Ag K edge XAS fluorescence of Ag-GSH solution (pH=4) at 10K.xdi_new.xdi\n",
      "O arquivo C:\\Users\\izaque23003\\Downloads\\ip3\\SSHADE\\convertidos\\Ag\\ Ag K edge XAS fluorescence of Ag-GSH solution (pH=4) at 10K.xdi foi reescrito e salvo na pasta C:\\Users\\izaque23003\\OneDrive - ILUM ESCOLA DE CIÊNCIA\\ilum_3s\\ip_3\\base_dados_fase1\\SSHADE\\dados_campos_novos\\ Ag K edge XAS fluorescence of Ag-GSH solution (pH=4) at 10K.xdi_new.xdi\n",
      "C:\\Users\\izaque23003\\OneDrive - ILUM ESCOLA DE CIÊNCIA\\ilum_3s\\ip_3\\base_dados_fase1\\SSHADE\\dados_campos_novos\\ Ag K edge XAS fluorescence of Ag-GSH solution (pH=5) at 10K.xdi_new.xdi\n",
      "O arquivo C:\\Users\\izaque23003\\Downloads\\ip3\\SSHADE\\convertidos\\Ag\\ Ag K edge XAS fluorescence of Ag-GSH solution (pH=5) at 10K.xdi foi reescrito e salvo na pasta C:\\Users\\izaque23003\\OneDrive - ILUM ESCOLA DE CIÊNCIA\\ilum_3s\\ip_3\\base_dados_fase1\\SSHADE\\dados_campos_novos\\ Ag K edge XAS fluorescence of Ag-GSH solution (pH=5) at 10K.xdi_new.xdi\n",
      "C:\\Users\\izaque23003\\OneDrive - ILUM ESCOLA DE CIÊNCIA\\ilum_3s\\ip_3\\base_dados_fase1\\SSHADE\\dados_campos_novos\\ Ag K edge XAS fluorescence of Ag-GSH solution (pH=7) at 10K.xdi_new.xdi\n",
      "O arquivo C:\\Users\\izaque23003\\Downloads\\ip3\\SSHADE\\convertidos\\Ag\\ Ag K edge XAS fluorescence of Ag-GSH solution (pH=7) at 10K.xdi foi reescrito e salvo na pasta C:\\Users\\izaque23003\\OneDrive - ILUM ESCOLA DE CIÊNCIA\\ilum_3s\\ip_3\\base_dados_fase1\\SSHADE\\dados_campos_novos\\ Ag K edge XAS fluorescence of Ag-GSH solution (pH=7) at 10K.xdi_new.xdi\n",
      "C:\\Users\\izaque23003\\OneDrive - ILUM ESCOLA DE CIÊNCIA\\ilum_3s\\ip_3\\base_dados_fase1\\SSHADE\\dados_campos_novos\\ Ag K edge XAS fluorescence of AgL1 complex solution (L1=NTA(CysOEt)3 and pH=7.4) at 16K.xdi_new.xdi\n",
      "O arquivo C:\\Users\\izaque23003\\Downloads\\ip3\\SSHADE\\convertidos\\Ag\\ Ag K edge XAS fluorescence of AgL1 complex solution (L1=NTA(CysOEt)3 and pH=7.4) at 16K.xdi foi reescrito e salvo na pasta C:\\Users\\izaque23003\\OneDrive - ILUM ESCOLA DE CIÊNCIA\\ilum_3s\\ip_3\\base_dados_fase1\\SSHADE\\dados_campos_novos\\ Ag K edge XAS fluorescence of AgL1 complex solution (L1=NTA(CysOEt)3 and pH=7.4) at 16K.xdi_new.xdi\n",
      "C:\\Users\\izaque23003\\OneDrive - ILUM ESCOLA DE CIÊNCIA\\ilum_3s\\ip_3\\base_dados_fase1\\SSHADE\\dados_campos_novos\\ Ag K edge XAS fluorescence of AgNO3 solution at 10K.xdi_new.xdi\n",
      "O arquivo C:\\Users\\izaque23003\\Downloads\\ip3\\SSHADE\\convertidos\\Ag\\ Ag K edge XAS fluorescence of AgNO3 solution at 10K.xdi foi reescrito e salvo na pasta C:\\Users\\izaque23003\\OneDrive - ILUM ESCOLA DE CIÊNCIA\\ilum_3s\\ip_3\\base_dados_fase1\\SSHADE\\dados_campos_novos\\ Ag K edge XAS fluorescence of AgNO3 solution at 10K.xdi_new.xdi\n",
      "C:\\Users\\izaque23003\\OneDrive - ILUM ESCOLA DE CIÊNCIA\\ilum_3s\\ip_3\\base_dados_fase1\\SSHADE\\dados_campos_novos\\ Ag K edge XAS transmission of Ag metallic foil reference at 10K.xdi_new.xdi\n",
      "O arquivo C:\\Users\\izaque23003\\Downloads\\ip3\\SSHADE\\convertidos\\Ag\\ Ag K edge XAS transmission of Ag metallic foil reference at 10K.xdi foi reescrito e salvo na pasta C:\\Users\\izaque23003\\OneDrive - ILUM ESCOLA DE CIÊNCIA\\ilum_3s\\ip_3\\base_dados_fase1\\SSHADE\\dados_campos_novos\\ Ag K edge XAS transmission of Ag metallic foil reference at 10K.xdi_new.xdi\n",
      "C:\\Users\\izaque23003\\OneDrive - ILUM ESCOLA DE CIÊNCIA\\ilum_3s\\ip_3\\base_dados_fase1\\SSHADE\\dados_campos_novos\\ Ag K edge XAS transmission of Ag metallic foil reference at ambient conditions.xdi_new.xdi\n",
      "O arquivo C:\\Users\\izaque23003\\Downloads\\ip3\\SSHADE\\convertidos\\Ag\\ Ag K edge XAS transmission of Ag metallic foil reference at ambient conditions.xdi foi reescrito e salvo na pasta C:\\Users\\izaque23003\\OneDrive - ILUM ESCOLA DE CIÊNCIA\\ilum_3s\\ip_3\\base_dados_fase1\\SSHADE\\dados_campos_novos\\ Ag K edge XAS transmission of Ag metallic foil reference at ambient conditions.xdi_new.xdi\n",
      "C:\\Users\\izaque23003\\OneDrive - ILUM ESCOLA DE CIÊNCIA\\ilum_3s\\ip_3\\base_dados_fase1\\SSHADE\\dados_campos_novos\\ Ag K edge XAS transmission of Ag-diethyldithiocarbamate at 10K.xdi_new.xdi\n",
      "O arquivo C:\\Users\\izaque23003\\Downloads\\ip3\\SSHADE\\convertidos\\Ag\\ Ag K edge XAS transmission of Ag-diethyldithiocarbamate at 10K.xdi foi reescrito e salvo na pasta C:\\Users\\izaque23003\\OneDrive - ILUM ESCOLA DE CIÊNCIA\\ilum_3s\\ip_3\\base_dados_fase1\\SSHADE\\dados_campos_novos\\ Ag K edge XAS transmission of Ag-diethyldithiocarbamate at 10K.xdi_new.xdi\n",
      "C:\\Users\\izaque23003\\OneDrive - ILUM ESCOLA DE CIÊNCIA\\ilum_3s\\ip_3\\base_dados_fase1\\SSHADE\\dados_campos_novos\\ Ag K edge XAS transmission of Ag2CO3 at 10K.xdi_new.xdi\n",
      "O arquivo C:\\Users\\izaque23003\\Downloads\\ip3\\SSHADE\\convertidos\\Ag\\ Ag K edge XAS transmission of Ag2CO3 at 10K.xdi foi reescrito e salvo na pasta C:\\Users\\izaque23003\\OneDrive - ILUM ESCOLA DE CIÊNCIA\\ilum_3s\\ip_3\\base_dados_fase1\\SSHADE\\dados_campos_novos\\ Ag K edge XAS transmission of Ag2CO3 at 10K.xdi_new.xdi\n",
      "C:\\Users\\izaque23003\\OneDrive - ILUM ESCOLA DE CIÊNCIA\\ilum_3s\\ip_3\\base_dados_fase1\\SSHADE\\dados_campos_novos\\ Ag K edge XAS transmission of Ag3PO4 at 10K.xdi_new.xdi\n",
      "O arquivo C:\\Users\\izaque23003\\Downloads\\ip3\\SSHADE\\convertidos\\Ag\\ Ag K edge XAS transmission of Ag3PO4 at 10K.xdi foi reescrito e salvo na pasta C:\\Users\\izaque23003\\OneDrive - ILUM ESCOLA DE CIÊNCIA\\ilum_3s\\ip_3\\base_dados_fase1\\SSHADE\\dados_campos_novos\\ Ag K edge XAS transmission of Ag3PO4 at 10K.xdi_new.xdi\n",
      "C:\\Users\\izaque23003\\OneDrive - ILUM ESCOLA DE CIÊNCIA\\ilum_3s\\ip_3\\base_dados_fase1\\SSHADE\\dados_campos_novos\\ Ag K edge XAS transmission of AgCl at 10K.xdi_new.xdi\n",
      "O arquivo C:\\Users\\izaque23003\\Downloads\\ip3\\SSHADE\\convertidos\\Ag\\ Ag K edge XAS transmission of AgCl at 10K.xdi foi reescrito e salvo na pasta C:\\Users\\izaque23003\\OneDrive - ILUM ESCOLA DE CIÊNCIA\\ilum_3s\\ip_3\\base_dados_fase1\\SSHADE\\dados_campos_novos\\ Ag K edge XAS transmission of AgCl at 10K.xdi_new.xdi\n",
      "C:\\Users\\izaque23003\\OneDrive - ILUM ESCOLA DE CIÊNCIA\\ilum_3s\\ip_3\\base_dados_fase1\\SSHADE\\dados_campos_novos\\ Ag K edge XAS transmission of AgO at 10K.xdi_new.xdi\n",
      "O arquivo C:\\Users\\izaque23003\\Downloads\\ip3\\SSHADE\\convertidos\\Ag\\ Ag K edge XAS transmission of AgO at 10K.xdi foi reescrito e salvo na pasta C:\\Users\\izaque23003\\OneDrive - ILUM ESCOLA DE CIÊNCIA\\ilum_3s\\ip_3\\base_dados_fase1\\SSHADE\\dados_campos_novos\\ Ag K edge XAS transmission of AgO at 10K.xdi_new.xdi\n",
      "C:\\Users\\izaque23003\\OneDrive - ILUM ESCOLA DE CIÊNCIA\\ilum_3s\\ip_3\\base_dados_fase1\\SSHADE\\dados_campos_novos\\ Ag K edge XAS transmission of natural Ag2S at 10K.xdi_new.xdi\n",
      "O arquivo C:\\Users\\izaque23003\\Downloads\\ip3\\SSHADE\\convertidos\\Ag\\ Ag K edge XAS transmission of natural Ag2S at 10K.xdi foi reescrito e salvo na pasta C:\\Users\\izaque23003\\OneDrive - ILUM ESCOLA DE CIÊNCIA\\ilum_3s\\ip_3\\base_dados_fase1\\SSHADE\\dados_campos_novos\\ Ag K edge XAS transmission of natural Ag2S at 10K.xdi_new.xdi\n",
      "C:\\Users\\izaque23003\\OneDrive - ILUM ESCOLA DE CIÊNCIA\\ilum_3s\\ip_3\\base_dados_fase1\\SSHADE\\dados_campos_novos\\ Ag K edge XAS transmission of PVP-coated Ag nano-particles at 10K.xdi_new.xdi\n",
      "O arquivo C:\\Users\\izaque23003\\Downloads\\ip3\\SSHADE\\convertidos\\Ag\\ Ag K edge XAS transmission of PVP-coated Ag nano-particles at 10K.xdi foi reescrito e salvo na pasta C:\\Users\\izaque23003\\OneDrive - ILUM ESCOLA DE CIÊNCIA\\ilum_3s\\ip_3\\base_dados_fase1\\SSHADE\\dados_campos_novos\\ Ag K edge XAS transmission of PVP-coated Ag nano-particles at 10K.xdi_new.xdi\n",
      "C:\\Users\\izaque23003\\OneDrive - ILUM ESCOLA DE CIÊNCIA\\ilum_3s\\ip_3\\base_dados_fase1\\SSHADE\\dados_campos_novos\\ Ag K edge XAS transmission of synthetic acanthite Ag2S (nanos) at 10K.xdi_new.xdi\n",
      "O arquivo C:\\Users\\izaque23003\\Downloads\\ip3\\SSHADE\\convertidos\\Ag\\ Ag K edge XAS transmission of synthetic acanthite Ag2S (nanos) at 10K.xdi foi reescrito e salvo na pasta C:\\Users\\izaque23003\\OneDrive - ILUM ESCOLA DE CIÊNCIA\\ilum_3s\\ip_3\\base_dados_fase1\\SSHADE\\dados_campos_novos\\ Ag K edge XAS transmission of synthetic acanthite Ag2S (nanos) at 10K.xdi_new.xdi\n",
      "C:\\Users\\izaque23003\\OneDrive - ILUM ESCOLA DE CIÊNCIA\\ilum_3s\\ip_3\\base_dados_fase1\\SSHADE\\dados_campos_novos\\ Ag K edge XAS transmission of synthetic acanthite Ag2S at 10K.xdi_new.xdi\n",
      "O arquivo C:\\Users\\izaque23003\\Downloads\\ip3\\SSHADE\\convertidos\\Ag\\ Ag K edge XAS transmission of synthetic acanthite Ag2S at 10K.xdi foi reescrito e salvo na pasta C:\\Users\\izaque23003\\OneDrive - ILUM ESCOLA DE CIÊNCIA\\ilum_3s\\ip_3\\base_dados_fase1\\SSHADE\\dados_campos_novos\\ Ag K edge XAS transmission of synthetic acanthite Ag2S at 10K.xdi_new.xdi\n",
      "C:\\Users\\izaque23003\\OneDrive - ILUM ESCOLA DE CIÊNCIA\\ilum_3s\\ip_3\\base_dados_fase1\\SSHADE\\dados_campos_novos\\ Ag K edge XAS transmission of uncoated Ag nano-particles at 10K.xdi_new.xdi\n"
     ]
    },
    {
     "name": "stdout",
     "output_type": "stream",
     "text": [
      "O arquivo C:\\Users\\izaque23003\\Downloads\\ip3\\SSHADE\\convertidos\\Ag\\ Ag K edge XAS transmission of uncoated Ag nano-particles at 10K.xdi foi reescrito e salvo na pasta C:\\Users\\izaque23003\\OneDrive - ILUM ESCOLA DE CIÊNCIA\\ilum_3s\\ip_3\\base_dados_fase1\\SSHADE\\dados_campos_novos\\ Ag K edge XAS transmission of uncoated Ag nano-particles at 10K.xdi_new.xdi\n",
      "C:\\Users\\izaque23003\\OneDrive - ILUM ESCOLA DE CIÊNCIA\\ilum_3s\\ip_3\\base_dados_fase1\\SSHADE\\dados_campos_novos\\ Br K edge XAS fluorescence of gallium bromide solution (Ga3+ 0.017m, Br- 0.051m) at 300bar and 300K.xdi_new.xdi\n",
      "O arquivo C:\\Users\\izaque23003\\Downloads\\ip3\\SSHADE\\convertidos\\Br\\ Br K edge XAS fluorescence of gallium bromide solution (Ga3+ 0.017m, Br- 0.051m) at 300bar and 300K.xdi foi reescrito e salvo na pasta C:\\Users\\izaque23003\\OneDrive - ILUM ESCOLA DE CIÊNCIA\\ilum_3s\\ip_3\\base_dados_fase1\\SSHADE\\dados_campos_novos\\ Br K edge XAS fluorescence of gallium bromide solution (Ga3+ 0.017m, Br- 0.051m) at 300bar and 300K.xdi_new.xdi\n",
      "C:\\Users\\izaque23003\\OneDrive - ILUM ESCOLA DE CIÊNCIA\\ilum_3s\\ip_3\\base_dados_fase1\\SSHADE\\dados_campos_novos\\ Br K edge XAS fluorescence of gallium bromide solution (Ga3+ 0.017m, Br- 0.051m) at 300bar and 370K.xdi_new.xdi\n",
      "O arquivo C:\\Users\\izaque23003\\Downloads\\ip3\\SSHADE\\convertidos\\Br\\ Br K edge XAS fluorescence of gallium bromide solution (Ga3+ 0.017m, Br- 0.051m) at 300bar and 370K.xdi foi reescrito e salvo na pasta C:\\Users\\izaque23003\\OneDrive - ILUM ESCOLA DE CIÊNCIA\\ilum_3s\\ip_3\\base_dados_fase1\\SSHADE\\dados_campos_novos\\ Br K edge XAS fluorescence of gallium bromide solution (Ga3+ 0.017m, Br- 0.051m) at 300bar and 370K.xdi_new.xdi\n",
      "C:\\Users\\izaque23003\\OneDrive - ILUM ESCOLA DE CIÊNCIA\\ilum_3s\\ip_3\\base_dados_fase1\\SSHADE\\dados_campos_novos\\ Br K edge XAS fluorescence of gallium bromide solution (Ga3+ 0.017m, Br- 0.051m) at 300bar and 420K.xdi_new.xdi\n",
      "O arquivo C:\\Users\\izaque23003\\Downloads\\ip3\\SSHADE\\convertidos\\Br\\ Br K edge XAS fluorescence of gallium bromide solution (Ga3+ 0.017m, Br- 0.051m) at 300bar and 420K.xdi foi reescrito e salvo na pasta C:\\Users\\izaque23003\\OneDrive - ILUM ESCOLA DE CIÊNCIA\\ilum_3s\\ip_3\\base_dados_fase1\\SSHADE\\dados_campos_novos\\ Br K edge XAS fluorescence of gallium bromide solution (Ga3+ 0.017m, Br- 0.051m) at 300bar and 420K.xdi_new.xdi\n",
      "C:\\Users\\izaque23003\\OneDrive - ILUM ESCOLA DE CIÊNCIA\\ilum_3s\\ip_3\\base_dados_fase1\\SSHADE\\dados_campos_novos\\ Br K edge XAS fluorescence of gallium bromide solution (Ga3+ 0.017m, Br- 0.051m) at 300bar and 470K.xdi_new.xdi\n",
      "O arquivo C:\\Users\\izaque23003\\Downloads\\ip3\\SSHADE\\convertidos\\Br\\ Br K edge XAS fluorescence of gallium bromide solution (Ga3+ 0.017m, Br- 0.051m) at 300bar and 470K.xdi foi reescrito e salvo na pasta C:\\Users\\izaque23003\\OneDrive - ILUM ESCOLA DE CIÊNCIA\\ilum_3s\\ip_3\\base_dados_fase1\\SSHADE\\dados_campos_novos\\ Br K edge XAS fluorescence of gallium bromide solution (Ga3+ 0.017m, Br- 0.051m) at 300bar and 470K.xdi_new.xdi\n",
      "C:\\Users\\izaque23003\\OneDrive - ILUM ESCOLA DE CIÊNCIA\\ilum_3s\\ip_3\\base_dados_fase1\\SSHADE\\dados_campos_novos\\ Br K edge XAS fluorescence of gallium bromide solution (Ga3+ 0.017m, Br- 0.051m) at 300bar and 560K.xdi_new.xdi\n",
      "O arquivo C:\\Users\\izaque23003\\Downloads\\ip3\\SSHADE\\convertidos\\Br\\ Br K edge XAS fluorescence of gallium bromide solution (Ga3+ 0.017m, Br- 0.051m) at 300bar and 560K.xdi foi reescrito e salvo na pasta C:\\Users\\izaque23003\\OneDrive - ILUM ESCOLA DE CIÊNCIA\\ilum_3s\\ip_3\\base_dados_fase1\\SSHADE\\dados_campos_novos\\ Br K edge XAS fluorescence of gallium bromide solution (Ga3+ 0.017m, Br- 0.051m) at 300bar and 560K.xdi_new.xdi\n",
      "C:\\Users\\izaque23003\\OneDrive - ILUM ESCOLA DE CIÊNCIA\\ilum_3s\\ip_3\\base_dados_fase1\\SSHADE\\dados_campos_novos\\ Br K edge XAS fluorescence of gallium bromide solution (Ga3+ 0.017m, Br- 0.051m) at 300bar and 605K.xdi_new.xdi\n",
      "O arquivo C:\\Users\\izaque23003\\Downloads\\ip3\\SSHADE\\convertidos\\Br\\ Br K edge XAS fluorescence of gallium bromide solution (Ga3+ 0.017m, Br- 0.051m) at 300bar and 605K.xdi foi reescrito e salvo na pasta C:\\Users\\izaque23003\\OneDrive - ILUM ESCOLA DE CIÊNCIA\\ilum_3s\\ip_3\\base_dados_fase1\\SSHADE\\dados_campos_novos\\ Br K edge XAS fluorescence of gallium bromide solution (Ga3+ 0.017m, Br- 0.051m) at 300bar and 605K.xdi_new.xdi\n",
      "C:\\Users\\izaque23003\\OneDrive - ILUM ESCOLA DE CIÊNCIA\\ilum_3s\\ip_3\\base_dados_fase1\\SSHADE\\dados_campos_novos\\ Br K edge XAS fluorescence of gallium bromide solution (Ga3+ 0.017m, Br- 0.051m) at 300bar and 630K.xdi_new.xdi\n",
      "O arquivo C:\\Users\\izaque23003\\Downloads\\ip3\\SSHADE\\convertidos\\Br\\ Br K edge XAS fluorescence of gallium bromide solution (Ga3+ 0.017m, Br- 0.051m) at 300bar and 630K.xdi foi reescrito e salvo na pasta C:\\Users\\izaque23003\\OneDrive - ILUM ESCOLA DE CIÊNCIA\\ilum_3s\\ip_3\\base_dados_fase1\\SSHADE\\dados_campos_novos\\ Br K edge XAS fluorescence of gallium bromide solution (Ga3+ 0.017m, Br- 0.051m) at 300bar and 630K.xdi_new.xdi\n",
      "C:\\Users\\izaque23003\\OneDrive - ILUM ESCOLA DE CIÊNCIA\\ilum_3s\\ip_3\\base_dados_fase1\\SSHADE\\dados_campos_novos\\ Br K edge XAS fluorescence of gallium bromide solution (Ga3+ 0.017m, Br- 0.051m) at 300bar and 650K.xdi_new.xdi\n",
      "O arquivo C:\\Users\\izaque23003\\Downloads\\ip3\\SSHADE\\convertidos\\Br\\ Br K edge XAS fluorescence of gallium bromide solution (Ga3+ 0.017m, Br- 0.051m) at 300bar and 650K.xdi foi reescrito e salvo na pasta C:\\Users\\izaque23003\\OneDrive - ILUM ESCOLA DE CIÊNCIA\\ilum_3s\\ip_3\\base_dados_fase1\\SSHADE\\dados_campos_novos\\ Br K edge XAS fluorescence of gallium bromide solution (Ga3+ 0.017m, Br- 0.051m) at 300bar and 650K.xdi_new.xdi\n",
      "C:\\Users\\izaque23003\\OneDrive - ILUM ESCOLA DE CIÊNCIA\\ilum_3s\\ip_3\\base_dados_fase1\\SSHADE\\dados_campos_novos\\ Br K edge XAS HERFD of cesium bromide anydrous salt at ambient conditions.xdi_new.xdi\n",
      "O arquivo C:\\Users\\izaque23003\\Downloads\\ip3\\SSHADE\\convertidos\\Br\\ Br K edge XAS HERFD of cesium bromide anydrous salt at ambient conditions.xdi foi reescrito e salvo na pasta C:\\Users\\izaque23003\\OneDrive - ILUM ESCOLA DE CIÊNCIA\\ilum_3s\\ip_3\\base_dados_fase1\\SSHADE\\dados_campos_novos\\ Br K edge XAS HERFD of cesium bromide anydrous salt at ambient conditions.xdi_new.xdi\n",
      "C:\\Users\\izaque23003\\OneDrive - ILUM ESCOLA DE CIÊNCIA\\ilum_3s\\ip_3\\base_dados_fase1\\SSHADE\\dados_campos_novos\\ Br K edge XAS HERFD of lithium bromide anydrous salt at ambient conditions.xdi_new.xdi\n",
      "O arquivo C:\\Users\\izaque23003\\Downloads\\ip3\\SSHADE\\convertidos\\Br\\ Br K edge XAS HERFD of lithium bromide anydrous salt at ambient conditions.xdi foi reescrito e salvo na pasta C:\\Users\\izaque23003\\OneDrive - ILUM ESCOLA DE CIÊNCIA\\ilum_3s\\ip_3\\base_dados_fase1\\SSHADE\\dados_campos_novos\\ Br K edge XAS HERFD of lithium bromide anydrous salt at ambient conditions.xdi_new.xdi\n",
      "C:\\Users\\izaque23003\\OneDrive - ILUM ESCOLA DE CIÊNCIA\\ilum_3s\\ip_3\\base_dados_fase1\\SSHADE\\dados_campos_novos\\ Br K edge XAS HERFD of potassium bromide anydrous salt at ambient conditions.xdi_new.xdi\n",
      "O arquivo C:\\Users\\izaque23003\\Downloads\\ip3\\SSHADE\\convertidos\\Br\\ Br K edge XAS HERFD of potassium bromide anydrous salt at ambient conditions.xdi foi reescrito e salvo na pasta C:\\Users\\izaque23003\\OneDrive - ILUM ESCOLA DE CIÊNCIA\\ilum_3s\\ip_3\\base_dados_fase1\\SSHADE\\dados_campos_novos\\ Br K edge XAS HERFD of potassium bromide anydrous salt at ambient conditions.xdi_new.xdi\n",
      "C:\\Users\\izaque23003\\OneDrive - ILUM ESCOLA DE CIÊNCIA\\ilum_3s\\ip_3\\base_dados_fase1\\SSHADE\\dados_campos_novos\\ Br K edge XAS HERFD of rubidium bromide anydrous salt at ambient conditions.xdi_new.xdi\n",
      "O arquivo C:\\Users\\izaque23003\\Downloads\\ip3\\SSHADE\\convertidos\\Br\\ Br K edge XAS HERFD of rubidium bromide anydrous salt at ambient conditions.xdi foi reescrito e salvo na pasta C:\\Users\\izaque23003\\OneDrive - ILUM ESCOLA DE CIÊNCIA\\ilum_3s\\ip_3\\base_dados_fase1\\SSHADE\\dados_campos_novos\\ Br K edge XAS HERFD of rubidium bromide anydrous salt at ambient conditions.xdi_new.xdi\n",
      "C:\\Users\\izaque23003\\OneDrive - ILUM ESCOLA DE CIÊNCIA\\ilum_3s\\ip_3\\base_dados_fase1\\SSHADE\\dados_campos_novos\\ Br K edge XAS HERFD of sodium bromide anydrous salt at ambient conditions.xdi_new.xdi\n",
      "O arquivo C:\\Users\\izaque23003\\Downloads\\ip3\\SSHADE\\convertidos\\Br\\ Br K edge XAS HERFD of sodium bromide anydrous salt at ambient conditions.xdi foi reescrito e salvo na pasta C:\\Users\\izaque23003\\OneDrive - ILUM ESCOLA DE CIÊNCIA\\ilum_3s\\ip_3\\base_dados_fase1\\SSHADE\\dados_campos_novos\\ Br K edge XAS HERFD of sodium bromide anydrous salt at ambient conditions.xdi_new.xdi\n",
      "C:\\Users\\izaque23003\\OneDrive - ILUM ESCOLA DE CIÊNCIA\\ilum_3s\\ip_3\\base_dados_fase1\\SSHADE\\dados_campos_novos\\ Br K edge XAS transmission of cesium bromide anydrous salt at ambient conditions.xdi_new.xdi\n",
      "O arquivo C:\\Users\\izaque23003\\Downloads\\ip3\\SSHADE\\convertidos\\Br\\ Br K edge XAS transmission of cesium bromide anydrous salt at ambient conditions.xdi foi reescrito e salvo na pasta C:\\Users\\izaque23003\\OneDrive - ILUM ESCOLA DE CIÊNCIA\\ilum_3s\\ip_3\\base_dados_fase1\\SSHADE\\dados_campos_novos\\ Br K edge XAS transmission of cesium bromide anydrous salt at ambient conditions.xdi_new.xdi\n",
      "C:\\Users\\izaque23003\\OneDrive - ILUM ESCOLA DE CIÊNCIA\\ilum_3s\\ip_3\\base_dados_fase1\\SSHADE\\dados_campos_novos\\ Br K edge XAS transmission of gallium bromide solution (Ga3+ 0.17m, Br- 0.51m) at 300bar and 300K.xdi_new.xdi\n",
      "O arquivo C:\\Users\\izaque23003\\Downloads\\ip3\\SSHADE\\convertidos\\Br\\ Br K edge XAS transmission of gallium bromide solution (Ga3+ 0.17m, Br- 0.51m) at 300bar and 300K.xdi foi reescrito e salvo na pasta C:\\Users\\izaque23003\\OneDrive - ILUM ESCOLA DE CIÊNCIA\\ilum_3s\\ip_3\\base_dados_fase1\\SSHADE\\dados_campos_novos\\ Br K edge XAS transmission of gallium bromide solution (Ga3+ 0.17m, Br- 0.51m) at 300bar and 300K.xdi_new.xdi\n",
      "C:\\Users\\izaque23003\\OneDrive - ILUM ESCOLA DE CIÊNCIA\\ilum_3s\\ip_3\\base_dados_fase1\\SSHADE\\dados_campos_novos\\ Br K edge XAS transmission of gallium bromide solution (Ga3+ 0.17m, Br- 0.51m) at 300bar and 370K.xdi_new.xdi\n",
      "O arquivo C:\\Users\\izaque23003\\Downloads\\ip3\\SSHADE\\convertidos\\Br\\ Br K edge XAS transmission of gallium bromide solution (Ga3+ 0.17m, Br- 0.51m) at 300bar and 370K.xdi foi reescrito e salvo na pasta C:\\Users\\izaque23003\\OneDrive - ILUM ESCOLA DE CIÊNCIA\\ilum_3s\\ip_3\\base_dados_fase1\\SSHADE\\dados_campos_novos\\ Br K edge XAS transmission of gallium bromide solution (Ga3+ 0.17m, Br- 0.51m) at 300bar and 370K.xdi_new.xdi\n"
     ]
    },
    {
     "name": "stdout",
     "output_type": "stream",
     "text": [
      "C:\\Users\\izaque23003\\OneDrive - ILUM ESCOLA DE CIÊNCIA\\ilum_3s\\ip_3\\base_dados_fase1\\SSHADE\\dados_campos_novos\\ Br K edge XAS transmission of gallium bromide solution (Ga3+ 0.17m, Br- 0.51m) at 300bar and 420K.xdi_new.xdi\n",
      "O arquivo C:\\Users\\izaque23003\\Downloads\\ip3\\SSHADE\\convertidos\\Br\\ Br K edge XAS transmission of gallium bromide solution (Ga3+ 0.17m, Br- 0.51m) at 300bar and 420K.xdi foi reescrito e salvo na pasta C:\\Users\\izaque23003\\OneDrive - ILUM ESCOLA DE CIÊNCIA\\ilum_3s\\ip_3\\base_dados_fase1\\SSHADE\\dados_campos_novos\\ Br K edge XAS transmission of gallium bromide solution (Ga3+ 0.17m, Br- 0.51m) at 300bar and 420K.xdi_new.xdi\n",
      "C:\\Users\\izaque23003\\OneDrive - ILUM ESCOLA DE CIÊNCIA\\ilum_3s\\ip_3\\base_dados_fase1\\SSHADE\\dados_campos_novos\\ Br K edge XAS transmission of gallium bromide solution (Ga3+ 0.17m, Br- 0.51m) at 300bar and 470K.xdi_new.xdi\n",
      "O arquivo C:\\Users\\izaque23003\\Downloads\\ip3\\SSHADE\\convertidos\\Br\\ Br K edge XAS transmission of gallium bromide solution (Ga3+ 0.17m, Br- 0.51m) at 300bar and 470K.xdi foi reescrito e salvo na pasta C:\\Users\\izaque23003\\OneDrive - ILUM ESCOLA DE CIÊNCIA\\ilum_3s\\ip_3\\base_dados_fase1\\SSHADE\\dados_campos_novos\\ Br K edge XAS transmission of gallium bromide solution (Ga3+ 0.17m, Br- 0.51m) at 300bar and 470K.xdi_new.xdi\n",
      "C:\\Users\\izaque23003\\OneDrive - ILUM ESCOLA DE CIÊNCIA\\ilum_3s\\ip_3\\base_dados_fase1\\SSHADE\\dados_campos_novos\\ Br K edge XAS transmission of gallium bromide solution (Ga3+ 0.17m, Br- 0.51m) at 300bar and 560K.xdi_new.xdi\n",
      "O arquivo C:\\Users\\izaque23003\\Downloads\\ip3\\SSHADE\\convertidos\\Br\\ Br K edge XAS transmission of gallium bromide solution (Ga3+ 0.17m, Br- 0.51m) at 300bar and 560K.xdi foi reescrito e salvo na pasta C:\\Users\\izaque23003\\OneDrive - ILUM ESCOLA DE CIÊNCIA\\ilum_3s\\ip_3\\base_dados_fase1\\SSHADE\\dados_campos_novos\\ Br K edge XAS transmission of gallium bromide solution (Ga3+ 0.17m, Br- 0.51m) at 300bar and 560K.xdi_new.xdi\n",
      "C:\\Users\\izaque23003\\OneDrive - ILUM ESCOLA DE CIÊNCIA\\ilum_3s\\ip_3\\base_dados_fase1\\SSHADE\\dados_campos_novos\\ Br K edge XAS transmission of gallium bromide solution (Ga3+ 0.17m, Br- 0.51m) at 300bar and 605K.xdi_new.xdi\n",
      "O arquivo C:\\Users\\izaque23003\\Downloads\\ip3\\SSHADE\\convertidos\\Br\\ Br K edge XAS transmission of gallium bromide solution (Ga3+ 0.17m, Br- 0.51m) at 300bar and 605K.xdi foi reescrito e salvo na pasta C:\\Users\\izaque23003\\OneDrive - ILUM ESCOLA DE CIÊNCIA\\ilum_3s\\ip_3\\base_dados_fase1\\SSHADE\\dados_campos_novos\\ Br K edge XAS transmission of gallium bromide solution (Ga3+ 0.17m, Br- 0.51m) at 300bar and 605K.xdi_new.xdi\n",
      "C:\\Users\\izaque23003\\OneDrive - ILUM ESCOLA DE CIÊNCIA\\ilum_3s\\ip_3\\base_dados_fase1\\SSHADE\\dados_campos_novos\\ Br K edge XAS transmission of gallium bromide solution (Ga3+ 0.17m, Br- 0.51m) at 300bar and 630K.xdi_new.xdi\n",
      "O arquivo C:\\Users\\izaque23003\\Downloads\\ip3\\SSHADE\\convertidos\\Br\\ Br K edge XAS transmission of gallium bromide solution (Ga3+ 0.17m, Br- 0.51m) at 300bar and 630K.xdi foi reescrito e salvo na pasta C:\\Users\\izaque23003\\OneDrive - ILUM ESCOLA DE CIÊNCIA\\ilum_3s\\ip_3\\base_dados_fase1\\SSHADE\\dados_campos_novos\\ Br K edge XAS transmission of gallium bromide solution (Ga3+ 0.17m, Br- 0.51m) at 300bar and 630K.xdi_new.xdi\n",
      "C:\\Users\\izaque23003\\OneDrive - ILUM ESCOLA DE CIÊNCIA\\ilum_3s\\ip_3\\base_dados_fase1\\SSHADE\\dados_campos_novos\\ Br K edge XAS transmission of gallium bromide solution (Ga3+ 0.17m, Br- 0.51m) at 300bar and 650K.xdi_new.xdi\n",
      "O arquivo C:\\Users\\izaque23003\\Downloads\\ip3\\SSHADE\\convertidos\\Br\\ Br K edge XAS transmission of gallium bromide solution (Ga3+ 0.17m, Br- 0.51m) at 300bar and 650K.xdi foi reescrito e salvo na pasta C:\\Users\\izaque23003\\OneDrive - ILUM ESCOLA DE CIÊNCIA\\ilum_3s\\ip_3\\base_dados_fase1\\SSHADE\\dados_campos_novos\\ Br K edge XAS transmission of gallium bromide solution (Ga3+ 0.17m, Br- 0.51m) at 300bar and 650K.xdi_new.xdi\n",
      "C:\\Users\\izaque23003\\OneDrive - ILUM ESCOLA DE CIÊNCIA\\ilum_3s\\ip_3\\base_dados_fase1\\SSHADE\\dados_campos_novos\\ Br K edge XAS transmission of lithium bromide anydrous salt at ambient conditions.xdi_new.xdi\n",
      "O arquivo C:\\Users\\izaque23003\\Downloads\\ip3\\SSHADE\\convertidos\\Br\\ Br K edge XAS transmission of lithium bromide anydrous salt at ambient conditions.xdi foi reescrito e salvo na pasta C:\\Users\\izaque23003\\OneDrive - ILUM ESCOLA DE CIÊNCIA\\ilum_3s\\ip_3\\base_dados_fase1\\SSHADE\\dados_campos_novos\\ Br K edge XAS transmission of lithium bromide anydrous salt at ambient conditions.xdi_new.xdi\n",
      "C:\\Users\\izaque23003\\OneDrive - ILUM ESCOLA DE CIÊNCIA\\ilum_3s\\ip_3\\base_dados_fase1\\SSHADE\\dados_campos_novos\\ Br K edge XAS transmission of potassium bromide anydrous salt at ambient conditions.xdi_new.xdi\n",
      "O arquivo C:\\Users\\izaque23003\\Downloads\\ip3\\SSHADE\\convertidos\\Br\\ Br K edge XAS transmission of potassium bromide anydrous salt at ambient conditions.xdi foi reescrito e salvo na pasta C:\\Users\\izaque23003\\OneDrive - ILUM ESCOLA DE CIÊNCIA\\ilum_3s\\ip_3\\base_dados_fase1\\SSHADE\\dados_campos_novos\\ Br K edge XAS transmission of potassium bromide anydrous salt at ambient conditions.xdi_new.xdi\n",
      "C:\\Users\\izaque23003\\OneDrive - ILUM ESCOLA DE CIÊNCIA\\ilum_3s\\ip_3\\base_dados_fase1\\SSHADE\\dados_campos_novos\\ Br K edge XAS transmission of rubidium bromide anydrous salt at ambient conditions.xdi_new.xdi\n",
      "O arquivo C:\\Users\\izaque23003\\Downloads\\ip3\\SSHADE\\convertidos\\Br\\ Br K edge XAS transmission of rubidium bromide anydrous salt at ambient conditions.xdi foi reescrito e salvo na pasta C:\\Users\\izaque23003\\OneDrive - ILUM ESCOLA DE CIÊNCIA\\ilum_3s\\ip_3\\base_dados_fase1\\SSHADE\\dados_campos_novos\\ Br K edge XAS transmission of rubidium bromide anydrous salt at ambient conditions.xdi_new.xdi\n",
      "C:\\Users\\izaque23003\\OneDrive - ILUM ESCOLA DE CIÊNCIA\\ilum_3s\\ip_3\\base_dados_fase1\\SSHADE\\dados_campos_novos\\ Br K edge XAS transmission of sodium bromide anydrous salt at ambient conditions.xdi_new.xdi\n",
      "O arquivo C:\\Users\\izaque23003\\Downloads\\ip3\\SSHADE\\convertidos\\Br\\ Br K edge XAS transmission of sodium bromide anydrous salt at ambient conditions.xdi foi reescrito e salvo na pasta C:\\Users\\izaque23003\\OneDrive - ILUM ESCOLA DE CIÊNCIA\\ilum_3s\\ip_3\\base_dados_fase1\\SSHADE\\dados_campos_novos\\ Br K edge XAS transmission of sodium bromide anydrous salt at ambient conditions.xdi_new.xdi\n",
      "C:\\Users\\izaque23003\\OneDrive - ILUM ESCOLA DE CIÊNCIA\\ilum_3s\\ip_3\\base_dados_fase1\\SSHADE\\dados_campos_novos\\ Cd K edge XAS fluorescence of $Cd^{2+}$ at 15K.xdi_new.xdi\n",
      "O arquivo C:\\Users\\izaque23003\\Downloads\\ip3\\SSHADE\\convertidos\\Cd\\ Cd K edge XAS fluorescence of $Cd^{2+}$ at 15K.xdi foi reescrito e salvo na pasta C:\\Users\\izaque23003\\OneDrive - ILUM ESCOLA DE CIÊNCIA\\ilum_3s\\ip_3\\base_dados_fase1\\SSHADE\\dados_campos_novos\\ Cd K edge XAS fluorescence of $Cd^{2+}$ at 15K.xdi_new.xdi\n",
      "C:\\Users\\izaque23003\\OneDrive - ILUM ESCOLA DE CIÊNCIA\\ilum_3s\\ip_3\\base_dados_fase1\\SSHADE\\dados_campos_novos\\ Cd K edge XAS fluorescence of (Cd,Zn,Fe)S at 15K.xdi_new.xdi\n",
      "O arquivo C:\\Users\\izaque23003\\Downloads\\ip3\\SSHADE\\convertidos\\Cd\\ Cd K edge XAS fluorescence of (Cd,Zn,Fe)S at 15K.xdi foi reescrito e salvo na pasta C:\\Users\\izaque23003\\OneDrive - ILUM ESCOLA DE CIÊNCIA\\ilum_3s\\ip_3\\base_dados_fase1\\SSHADE\\dados_campos_novos\\ Cd K edge XAS fluorescence of (Cd,Zn,Fe)S at 15K.xdi_new.xdi\n",
      "C:\\Users\\izaque23003\\OneDrive - ILUM ESCOLA DE CIÊNCIA\\ilum_3s\\ip_3\\base_dados_fase1\\SSHADE\\dados_campos_novos\\ Cd K edge XAS fluorescence of Cd in organic acids at 15K.xdi_new.xdi\n",
      "O arquivo C:\\Users\\izaque23003\\Downloads\\ip3\\SSHADE\\convertidos\\Cd\\ Cd K edge XAS fluorescence of Cd in organic acids at 15K.xdi foi reescrito e salvo na pasta C:\\Users\\izaque23003\\OneDrive - ILUM ESCOLA DE CIÊNCIA\\ilum_3s\\ip_3\\base_dados_fase1\\SSHADE\\dados_campos_novos\\ Cd K edge XAS fluorescence of Cd in organic acids at 15K.xdi_new.xdi\n",
      "C:\\Users\\izaque23003\\OneDrive - ILUM ESCOLA DE CIÊNCIA\\ilum_3s\\ip_3\\base_dados_fase1\\SSHADE\\dados_campos_novos\\ Cd K edge XAS fluorescence of Cd-citrate at 15K.xdi_new.xdi\n",
      "O arquivo C:\\Users\\izaque23003\\Downloads\\ip3\\SSHADE\\convertidos\\Cd\\ Cd K edge XAS fluorescence of Cd-citrate at 15K.xdi foi reescrito e salvo na pasta C:\\Users\\izaque23003\\OneDrive - ILUM ESCOLA DE CIÊNCIA\\ilum_3s\\ip_3\\base_dados_fase1\\SSHADE\\dados_campos_novos\\ Cd K edge XAS fluorescence of Cd-citrate at 15K.xdi_new.xdi\n",
      "C:\\Users\\izaque23003\\OneDrive - ILUM ESCOLA DE CIÊNCIA\\ilum_3s\\ip_3\\base_dados_fase1\\SSHADE\\dados_campos_novos\\ Cd K edge XAS fluorescence of Cd-cysteine at 15K.xdi_new.xdi\n",
      "O arquivo C:\\Users\\izaque23003\\Downloads\\ip3\\SSHADE\\convertidos\\Cd\\ Cd K edge XAS fluorescence of Cd-cysteine at 15K.xdi foi reescrito e salvo na pasta C:\\Users\\izaque23003\\OneDrive - ILUM ESCOLA DE CIÊNCIA\\ilum_3s\\ip_3\\base_dados_fase1\\SSHADE\\dados_campos_novos\\ Cd K edge XAS fluorescence of Cd-cysteine at 15K.xdi_new.xdi\n",
      "C:\\Users\\izaque23003\\OneDrive - ILUM ESCOLA DE CIÊNCIA\\ilum_3s\\ip_3\\base_dados_fase1\\SSHADE\\dados_campos_novos\\ Cd K edge XAS fluorescence of Cd-GSH at 15K.xdi_new.xdi\n",
      "O arquivo C:\\Users\\izaque23003\\Downloads\\ip3\\SSHADE\\convertidos\\Cd\\ Cd K edge XAS fluorescence of Cd-GSH at 15K.xdi foi reescrito e salvo na pasta C:\\Users\\izaque23003\\OneDrive - ILUM ESCOLA DE CIÊNCIA\\ilum_3s\\ip_3\\base_dados_fase1\\SSHADE\\dados_campos_novos\\ Cd K edge XAS fluorescence of Cd-GSH at 15K.xdi_new.xdi\n",
      "C:\\Users\\izaque23003\\OneDrive - ILUM ESCOLA DE CIÊNCIA\\ilum_3s\\ip_3\\base_dados_fase1\\SSHADE\\dados_campos_novos\\ Cd K edge XAS fluorescence of Cd-malate at 15K.xdi_new.xdi\n",
      "O arquivo C:\\Users\\izaque23003\\Downloads\\ip3\\SSHADE\\convertidos\\Cd\\ Cd K edge XAS fluorescence of Cd-malate at 15K.xdi foi reescrito e salvo na pasta C:\\Users\\izaque23003\\OneDrive - ILUM ESCOLA DE CIÊNCIA\\ilum_3s\\ip_3\\base_dados_fase1\\SSHADE\\dados_campos_novos\\ Cd K edge XAS fluorescence of Cd-malate at 15K.xdi_new.xdi\n",
      "C:\\Users\\izaque23003\\OneDrive - ILUM ESCOLA DE CIÊNCIA\\ilum_3s\\ip_3\\base_dados_fase1\\SSHADE\\dados_campos_novos\\ Cd K edge XAS transmission of Cadmium acetate dihydrate at 15K.xdi_new.xdi\n"
     ]
    },
    {
     "name": "stdout",
     "output_type": "stream",
     "text": [
      "O arquivo C:\\Users\\izaque23003\\Downloads\\ip3\\SSHADE\\convertidos\\Cd\\ Cd K edge XAS transmission of Cadmium acetate dihydrate at 15K.xdi foi reescrito e salvo na pasta C:\\Users\\izaque23003\\OneDrive - ILUM ESCOLA DE CIÊNCIA\\ilum_3s\\ip_3\\base_dados_fase1\\SSHADE\\dados_campos_novos\\ Cd K edge XAS transmission of Cadmium acetate dihydrate at 15K.xdi_new.xdi\n",
      "C:\\Users\\izaque23003\\OneDrive - ILUM ESCOLA DE CIÊNCIA\\ilum_3s\\ip_3\\base_dados_fase1\\SSHADE\\dados_campos_novos\\ Cd K edge XAS transmission of cadmium carbonate $CdCO_3$ at 15K.xdi_new.xdi\n",
      "O arquivo C:\\Users\\izaque23003\\Downloads\\ip3\\SSHADE\\convertidos\\Cd\\ Cd K edge XAS transmission of cadmium carbonate $CdCO_3$ at 15K.xdi foi reescrito e salvo na pasta C:\\Users\\izaque23003\\OneDrive - ILUM ESCOLA DE CIÊNCIA\\ilum_3s\\ip_3\\base_dados_fase1\\SSHADE\\dados_campos_novos\\ Cd K edge XAS transmission of cadmium carbonate $CdCO_3$ at 15K.xdi_new.xdi\n",
      "C:\\Users\\izaque23003\\OneDrive - ILUM ESCOLA DE CIÊNCIA\\ilum_3s\\ip_3\\base_dados_fase1\\SSHADE\\dados_campos_novos\\ Cd K edge XAS transmission of cadmium chloride $CdCl_2$ at 15K.xdi_new.xdi\n",
      "O arquivo C:\\Users\\izaque23003\\Downloads\\ip3\\SSHADE\\convertidos\\Cd\\ Cd K edge XAS transmission of cadmium chloride $CdCl_2$ at 15K.xdi foi reescrito e salvo na pasta C:\\Users\\izaque23003\\OneDrive - ILUM ESCOLA DE CIÊNCIA\\ilum_3s\\ip_3\\base_dados_fase1\\SSHADE\\dados_campos_novos\\ Cd K edge XAS transmission of cadmium chloride $CdCl_2$ at 15K.xdi_new.xdi\n",
      "C:\\Users\\izaque23003\\OneDrive - ILUM ESCOLA DE CIÊNCIA\\ilum_3s\\ip_3\\base_dados_fase1\\SSHADE\\dados_campos_novos\\ Cd K edge XAS transmission of cadmium hydrogen phosphate hydrate at 15K.xdi_new.xdi\n",
      "O arquivo C:\\Users\\izaque23003\\Downloads\\ip3\\SSHADE\\convertidos\\Cd\\ Cd K edge XAS transmission of cadmium hydrogen phosphate hydrate at 15K.xdi foi reescrito e salvo na pasta C:\\Users\\izaque23003\\OneDrive - ILUM ESCOLA DE CIÊNCIA\\ilum_3s\\ip_3\\base_dados_fase1\\SSHADE\\dados_campos_novos\\ Cd K edge XAS transmission of cadmium hydrogen phosphate hydrate at 15K.xdi_new.xdi\n",
      "C:\\Users\\izaque23003\\OneDrive - ILUM ESCOLA DE CIÊNCIA\\ilum_3s\\ip_3\\base_dados_fase1\\SSHADE\\dados_campos_novos\\ Cd K edge XAS transmission of cadmium hydroxide $Cd(OH)_2$ at 15K.xdi_new.xdi\n",
      "O arquivo C:\\Users\\izaque23003\\Downloads\\ip3\\SSHADE\\convertidos\\Cd\\ Cd K edge XAS transmission of cadmium hydroxide $Cd(OH)_2$ at 15K.xdi foi reescrito e salvo na pasta C:\\Users\\izaque23003\\OneDrive - ILUM ESCOLA DE CIÊNCIA\\ilum_3s\\ip_3\\base_dados_fase1\\SSHADE\\dados_campos_novos\\ Cd K edge XAS transmission of cadmium hydroxide $Cd(OH)_2$ at 15K.xdi_new.xdi\n",
      "C:\\Users\\izaque23003\\OneDrive - ILUM ESCOLA DE CIÊNCIA\\ilum_3s\\ip_3\\base_dados_fase1\\SSHADE\\dados_campos_novos\\ Cd K edge XAS transmission of cadmium nitrate $Cd(NO_3)_2$ at 15K.xdi_new.xdi\n",
      "O arquivo C:\\Users\\izaque23003\\Downloads\\ip3\\SSHADE\\convertidos\\Cd\\ Cd K edge XAS transmission of cadmium nitrate $Cd(NO_3)_2$ at 15K.xdi foi reescrito e salvo na pasta C:\\Users\\izaque23003\\OneDrive - ILUM ESCOLA DE CIÊNCIA\\ilum_3s\\ip_3\\base_dados_fase1\\SSHADE\\dados_campos_novos\\ Cd K edge XAS transmission of cadmium nitrate $Cd(NO_3)_2$ at 15K.xdi_new.xdi\n",
      "C:\\Users\\izaque23003\\OneDrive - ILUM ESCOLA DE CIÊNCIA\\ilum_3s\\ip_3\\base_dados_fase1\\SSHADE\\dados_campos_novos\\ Cd K edge XAS transmission of cadmium sulfate $CdSO_4$ at 15K.xdi_new.xdi\n",
      "O arquivo C:\\Users\\izaque23003\\Downloads\\ip3\\SSHADE\\convertidos\\Cd\\ Cd K edge XAS transmission of cadmium sulfate $CdSO_4$ at 15K.xdi foi reescrito e salvo na pasta C:\\Users\\izaque23003\\OneDrive - ILUM ESCOLA DE CIÊNCIA\\ilum_3s\\ip_3\\base_dados_fase1\\SSHADE\\dados_campos_novos\\ Cd K edge XAS transmission of cadmium sulfate $CdSO_4$ at 15K.xdi_new.xdi\n",
      "C:\\Users\\izaque23003\\OneDrive - ILUM ESCOLA DE CIÊNCIA\\ilum_3s\\ip_3\\base_dados_fase1\\SSHADE\\dados_campos_novos\\ Cd K edge XAS transmission of Cd metallic reference foil at ambient conditions.xdi_new.xdi\n",
      "O arquivo C:\\Users\\izaque23003\\Downloads\\ip3\\SSHADE\\convertidos\\Cd\\ Cd K edge XAS transmission of Cd metallic reference foil at ambient conditions.xdi foi reescrito e salvo na pasta C:\\Users\\izaque23003\\OneDrive - ILUM ESCOLA DE CIÊNCIA\\ilum_3s\\ip_3\\base_dados_fase1\\SSHADE\\dados_campos_novos\\ Cd K edge XAS transmission of Cd metallic reference foil at ambient conditions.xdi_new.xdi\n",
      "C:\\Users\\izaque23003\\OneDrive - ILUM ESCOLA DE CIÊNCIA\\ilum_3s\\ip_3\\base_dados_fase1\\SSHADE\\dados_campos_novos\\ Ce L3 edge XAS HERFD of Ce3+ acetate at 10K.xdi_new.xdi\n",
      "O arquivo C:\\Users\\izaque23003\\Downloads\\ip3\\SSHADE\\convertidos\\Ce\\ Ce L3 edge XAS HERFD of Ce3+ acetate at 10K.xdi foi reescrito e salvo na pasta C:\\Users\\izaque23003\\OneDrive - ILUM ESCOLA DE CIÊNCIA\\ilum_3s\\ip_3\\base_dados_fase1\\SSHADE\\dados_campos_novos\\ Ce L3 edge XAS HERFD of Ce3+ acetate at 10K.xdi_new.xdi\n",
      "C:\\Users\\izaque23003\\OneDrive - ILUM ESCOLA DE CIÊNCIA\\ilum_3s\\ip_3\\base_dados_fase1\\SSHADE\\dados_campos_novos\\ Ce L3 edge XAS HERFD of CeO2 (nanos) at 10K.xdi_new.xdi\n",
      "O arquivo C:\\Users\\izaque23003\\Downloads\\ip3\\SSHADE\\convertidos\\Ce\\ Ce L3 edge XAS HERFD of CeO2 (nanos) at 10K.xdi foi reescrito e salvo na pasta C:\\Users\\izaque23003\\OneDrive - ILUM ESCOLA DE CIÊNCIA\\ilum_3s\\ip_3\\base_dados_fase1\\SSHADE\\dados_campos_novos\\ Ce L3 edge XAS HERFD of CeO2 (nanos) at 10K.xdi_new.xdi\n",
      "C:\\Users\\izaque23003\\OneDrive - ILUM ESCOLA DE CIÊNCIA\\ilum_3s\\ip_3\\base_dados_fase1\\SSHADE\\dados_campos_novos\\ Co K edge XAS fluorescence of $L1_0$ CoPt deposited on silicium (grazing incidence.xdi_new.xdi\n",
      "O arquivo C:\\Users\\izaque23003\\Downloads\\ip3\\SSHADE\\convertidos\\Co\\ Co K edge XAS fluorescence of $L1_0$ CoPt deposited on silicium (grazing incidence.xdi foi reescrito e salvo na pasta C:\\Users\\izaque23003\\OneDrive - ILUM ESCOLA DE CIÊNCIA\\ilum_3s\\ip_3\\base_dados_fase1\\SSHADE\\dados_campos_novos\\ Co K edge XAS fluorescence of $L1_0$ CoPt deposited on silicium (grazing incidence.xdi_new.xdi\n",
      "C:\\Users\\izaque23003\\OneDrive - ILUM ESCOLA DE CIÊNCIA\\ilum_3s\\ip_3\\base_dados_fase1\\SSHADE\\dados_campos_novos\\ Co K edge XAS fluorescence of $L1_0$ CoPt deposited on silicium (normal incidence.xdi_new.xdi\n",
      "O arquivo C:\\Users\\izaque23003\\Downloads\\ip3\\SSHADE\\convertidos\\Co\\ Co K edge XAS fluorescence of $L1_0$ CoPt deposited on silicium (normal incidence.xdi foi reescrito e salvo na pasta C:\\Users\\izaque23003\\OneDrive - ILUM ESCOLA DE CIÊNCIA\\ilum_3s\\ip_3\\base_dados_fase1\\SSHADE\\dados_campos_novos\\ Co K edge XAS fluorescence of $L1_0$ CoPt deposited on silicium (normal incidence.xdi_new.xdi\n",
      "C:\\Users\\izaque23003\\OneDrive - ILUM ESCOLA DE CIÊNCIA\\ilum_3s\\ip_3\\base_dados_fase1\\SSHADE\\dados_campos_novos\\ Co K edge XAS fluorescence of Co doped aluminun oxide.xdi_new.xdi\n",
      "O arquivo C:\\Users\\izaque23003\\Downloads\\ip3\\SSHADE\\convertidos\\Co\\ Co K edge XAS fluorescence of Co doped aluminun oxide.xdi foi reescrito e salvo na pasta C:\\Users\\izaque23003\\OneDrive - ILUM ESCOLA DE CIÊNCIA\\ilum_3s\\ip_3\\base_dados_fase1\\SSHADE\\dados_campos_novos\\ Co K edge XAS fluorescence of Co doped aluminun oxide.xdi_new.xdi\n",
      "C:\\Users\\izaque23003\\OneDrive - ILUM ESCOLA DE CIÊNCIA\\ilum_3s\\ip_3\\base_dados_fase1\\SSHADE\\dados_campos_novos\\ Co K edge XAS fluorescence of Co doped zinc oxide.xdi_new.xdi\n",
      "O arquivo C:\\Users\\izaque23003\\Downloads\\ip3\\SSHADE\\convertidos\\Co\\ Co K edge XAS fluorescence of Co doped zinc oxide.xdi foi reescrito e salvo na pasta C:\\Users\\izaque23003\\OneDrive - ILUM ESCOLA DE CIÊNCIA\\ilum_3s\\ip_3\\base_dados_fase1\\SSHADE\\dados_campos_novos\\ Co K edge XAS fluorescence of Co doped zinc oxide.xdi_new.xdi\n",
      "C:\\Users\\izaque23003\\OneDrive - ILUM ESCOLA DE CIÊNCIA\\ilum_3s\\ip_3\\base_dados_fase1\\SSHADE\\dados_campos_novos\\ Co K edge XAS fluorescence of Co-cysteine.xdi_new.xdi\n",
      "O arquivo C:\\Users\\izaque23003\\Downloads\\ip3\\SSHADE\\convertidos\\Co\\ Co K edge XAS fluorescence of Co-cysteine.xdi foi reescrito e salvo na pasta C:\\Users\\izaque23003\\OneDrive - ILUM ESCOLA DE CIÊNCIA\\ilum_3s\\ip_3\\base_dados_fase1\\SSHADE\\dados_campos_novos\\ Co K edge XAS fluorescence of Co-cysteine.xdi_new.xdi\n",
      "C:\\Users\\izaque23003\\OneDrive - ILUM ESCOLA DE CIÊNCIA\\ilum_3s\\ip_3\\base_dados_fase1\\SSHADE\\dados_campos_novos\\ Co K edge XAS fluorescence of Co-glutathione.xdi_new.xdi\n",
      "O arquivo C:\\Users\\izaque23003\\Downloads\\ip3\\SSHADE\\convertidos\\Co\\ Co K edge XAS fluorescence of Co-glutathione.xdi foi reescrito e salvo na pasta C:\\Users\\izaque23003\\OneDrive - ILUM ESCOLA DE CIÊNCIA\\ilum_3s\\ip_3\\base_dados_fase1\\SSHADE\\dados_campos_novos\\ Co K edge XAS fluorescence of Co-glutathione.xdi_new.xdi\n",
      "C:\\Users\\izaque23003\\OneDrive - ILUM ESCOLA DE CIÊNCIA\\ilum_3s\\ip_3\\base_dados_fase1\\SSHADE\\dados_campos_novos\\ Co K edge XAS fluorescence of Co-histidine.xdi_new.xdi\n",
      "O arquivo C:\\Users\\izaque23003\\Downloads\\ip3\\SSHADE\\convertidos\\Co\\ Co K edge XAS fluorescence of Co-histidine.xdi foi reescrito e salvo na pasta C:\\Users\\izaque23003\\OneDrive - ILUM ESCOLA DE CIÊNCIA\\ilum_3s\\ip_3\\base_dados_fase1\\SSHADE\\dados_campos_novos\\ Co K edge XAS fluorescence of Co-histidine.xdi_new.xdi\n",
      "C:\\Users\\izaque23003\\OneDrive - ILUM ESCOLA DE CIÊNCIA\\ilum_3s\\ip_3\\base_dados_fase1\\SSHADE\\dados_campos_novos\\ Co K edge XAS fluorescence of Co-nicotianamine.xdi_new.xdi\n",
      "O arquivo C:\\Users\\izaque23003\\Downloads\\ip3\\SSHADE\\convertidos\\Co\\ Co K edge XAS fluorescence of Co-nicotianamine.xdi foi reescrito e salvo na pasta C:\\Users\\izaque23003\\OneDrive - ILUM ESCOLA DE CIÊNCIA\\ilum_3s\\ip_3\\base_dados_fase1\\SSHADE\\dados_campos_novos\\ Co K edge XAS fluorescence of Co-nicotianamine.xdi_new.xdi\n",
      "C:\\Users\\izaque23003\\OneDrive - ILUM ESCOLA DE CIÊNCIA\\ilum_3s\\ip_3\\base_dados_fase1\\SSHADE\\dados_campos_novos\\ Co K edge XAS fluorescence of CoFePt deposited on silicium (classical incidence.xdi_new.xdi\n"
     ]
    },
    {
     "name": "stdout",
     "output_type": "stream",
     "text": [
      "O arquivo C:\\Users\\izaque23003\\Downloads\\ip3\\SSHADE\\convertidos\\Co\\ Co K edge XAS fluorescence of CoFePt deposited on silicium (classical incidence.xdi foi reescrito e salvo na pasta C:\\Users\\izaque23003\\OneDrive - ILUM ESCOLA DE CIÊNCIA\\ilum_3s\\ip_3\\base_dados_fase1\\SSHADE\\dados_campos_novos\\ Co K edge XAS fluorescence of CoFePt deposited on silicium (classical incidence.xdi_new.xdi\n",
      "C:\\Users\\izaque23003\\OneDrive - ILUM ESCOLA DE CIÊNCIA\\ilum_3s\\ip_3\\base_dados_fase1\\SSHADE\\dados_campos_novos\\ Co K edge XAS fluorescence of CoFePt deposited on silicium (grazing incidence.xdi_new.xdi\n",
      "O arquivo C:\\Users\\izaque23003\\Downloads\\ip3\\SSHADE\\convertidos\\Co\\ Co K edge XAS fluorescence of CoFePt deposited on silicium (grazing incidence.xdi foi reescrito e salvo na pasta C:\\Users\\izaque23003\\OneDrive - ILUM ESCOLA DE CIÊNCIA\\ilum_3s\\ip_3\\base_dados_fase1\\SSHADE\\dados_campos_novos\\ Co K edge XAS fluorescence of CoFePt deposited on silicium (grazing incidence.xdi_new.xdi\n",
      "C:\\Users\\izaque23003\\OneDrive - ILUM ESCOLA DE CIÊNCIA\\ilum_3s\\ip_3\\base_dados_fase1\\SSHADE\\dados_campos_novos\\ Co K edge XAS fluorescence of CoFePt deposited on silicium (normal incidence.xdi_new.xdi\n",
      "O arquivo C:\\Users\\izaque23003\\Downloads\\ip3\\SSHADE\\convertidos\\Co\\ Co K edge XAS fluorescence of CoFePt deposited on silicium (normal incidence.xdi foi reescrito e salvo na pasta C:\\Users\\izaque23003\\OneDrive - ILUM ESCOLA DE CIÊNCIA\\ilum_3s\\ip_3\\base_dados_fase1\\SSHADE\\dados_campos_novos\\ Co K edge XAS fluorescence of CoFePt deposited on silicium (normal incidence.xdi_new.xdi\n",
      "C:\\Users\\izaque23003\\OneDrive - ILUM ESCOLA DE CIÊNCIA\\ilum_3s\\ip_3\\base_dados_fase1\\SSHADE\\dados_campos_novos\\ Co K edge XAS fluorescence of Co_buffer.xdi_new.xdi\n",
      "O arquivo C:\\Users\\izaque23003\\Downloads\\ip3\\SSHADE\\convertidos\\Co\\ Co K edge XAS fluorescence of Co_buffer.xdi foi reescrito e salvo na pasta C:\\Users\\izaque23003\\OneDrive - ILUM ESCOLA DE CIÊNCIA\\ilum_3s\\ip_3\\base_dados_fase1\\SSHADE\\dados_campos_novos\\ Co K edge XAS fluorescence of Co_buffer.xdi_new.xdi\n",
      "C:\\Users\\izaque23003\\OneDrive - ILUM ESCOLA DE CIÊNCIA\\ilum_3s\\ip_3\\base_dados_fase1\\SSHADE\\dados_campos_novos\\ Co K edge XAS fluorescence of Vitamin B12.xdi_new.xdi\n",
      "O arquivo C:\\Users\\izaque23003\\Downloads\\ip3\\SSHADE\\convertidos\\Co\\ Co K edge XAS fluorescence of Vitamin B12.xdi foi reescrito e salvo na pasta C:\\Users\\izaque23003\\OneDrive - ILUM ESCOLA DE CIÊNCIA\\ilum_3s\\ip_3\\base_dados_fase1\\SSHADE\\dados_campos_novos\\ Co K edge XAS fluorescence of Vitamin B12.xdi_new.xdi\n",
      "C:\\Users\\izaque23003\\OneDrive - ILUM ESCOLA DE CIÊNCIA\\ilum_3s\\ip_3\\base_dados_fase1\\SSHADE\\dados_campos_novos\\ Co K edge XAS HERFD of Co doped maghemite nanoparticles (Fe2O3.xdi_new.xdi\n",
      "O arquivo C:\\Users\\izaque23003\\Downloads\\ip3\\SSHADE\\convertidos\\Co\\ Co K edge XAS HERFD of Co doped maghemite nanoparticles (Fe2O3.xdi foi reescrito e salvo na pasta C:\\Users\\izaque23003\\OneDrive - ILUM ESCOLA DE CIÊNCIA\\ilum_3s\\ip_3\\base_dados_fase1\\SSHADE\\dados_campos_novos\\ Co K edge XAS HERFD of Co doped maghemite nanoparticles (Fe2O3.xdi_new.xdi\n",
      "C:\\Users\\izaque23003\\OneDrive - ILUM ESCOLA DE CIÊNCIA\\ilum_3s\\ip_3\\base_dados_fase1\\SSHADE\\dados_campos_novos\\ Co K edge XAS transmission of Co(II)-acetate.xdi_new.xdi\n",
      "O arquivo C:\\Users\\izaque23003\\Downloads\\ip3\\SSHADE\\convertidos\\Co\\ Co K edge XAS transmission of Co(II)-acetate.xdi foi reescrito e salvo na pasta C:\\Users\\izaque23003\\OneDrive - ILUM ESCOLA DE CIÊNCIA\\ilum_3s\\ip_3\\base_dados_fase1\\SSHADE\\dados_campos_novos\\ Co K edge XAS transmission of Co(II)-acetate.xdi_new.xdi\n",
      "C:\\Users\\izaque23003\\OneDrive - ILUM ESCOLA DE CIÊNCIA\\ilum_3s\\ip_3\\base_dados_fase1\\SSHADE\\dados_campos_novos\\ Co K edge XAS transmission of Co(II)-nitrate hexahydrate.xdi_new.xdi\n",
      "O arquivo C:\\Users\\izaque23003\\Downloads\\ip3\\SSHADE\\convertidos\\Co\\ Co K edge XAS transmission of Co(II)-nitrate hexahydrate.xdi foi reescrito e salvo na pasta C:\\Users\\izaque23003\\OneDrive - ILUM ESCOLA DE CIÊNCIA\\ilum_3s\\ip_3\\base_dados_fase1\\SSHADE\\dados_campos_novos\\ Co K edge XAS transmission of Co(II)-nitrate hexahydrate.xdi_new.xdi\n",
      "C:\\Users\\izaque23003\\OneDrive - ILUM ESCOLA DE CIÊNCIA\\ilum_3s\\ip_3\\base_dados_fase1\\SSHADE\\dados_campos_novos\\ Co K edge XAS transmission of Co(II)-nitrate.xdi_new.xdi\n",
      "O arquivo C:\\Users\\izaque23003\\Downloads\\ip3\\SSHADE\\convertidos\\Co\\ Co K edge XAS transmission of Co(II)-nitrate.xdi foi reescrito e salvo na pasta C:\\Users\\izaque23003\\OneDrive - ILUM ESCOLA DE CIÊNCIA\\ilum_3s\\ip_3\\base_dados_fase1\\SSHADE\\dados_campos_novos\\ Co K edge XAS transmission of Co(II)-nitrate.xdi_new.xdi\n",
      "C:\\Users\\izaque23003\\OneDrive - ILUM ESCOLA DE CIÊNCIA\\ilum_3s\\ip_3\\base_dados_fase1\\SSHADE\\dados_campos_novos\\ Co K edge XAS transmission of Co(II)-phosphate.xdi_new.xdi\n",
      "O arquivo C:\\Users\\izaque23003\\Downloads\\ip3\\SSHADE\\convertidos\\Co\\ Co K edge XAS transmission of Co(II)-phosphate.xdi foi reescrito e salvo na pasta C:\\Users\\izaque23003\\OneDrive - ILUM ESCOLA DE CIÊNCIA\\ilum_3s\\ip_3\\base_dados_fase1\\SSHADE\\dados_campos_novos\\ Co K edge XAS transmission of Co(II)-phosphate.xdi_new.xdi\n",
      "C:\\Users\\izaque23003\\OneDrive - ILUM ESCOLA DE CIÊNCIA\\ilum_3s\\ip_3\\base_dados_fase1\\SSHADE\\dados_campos_novos\\ Co K edge XAS transmission of Co(III)-acethylacetonate.xdi_new.xdi\n",
      "O arquivo C:\\Users\\izaque23003\\Downloads\\ip3\\SSHADE\\convertidos\\Co\\ Co K edge XAS transmission of Co(III)-acethylacetonate.xdi foi reescrito e salvo na pasta C:\\Users\\izaque23003\\OneDrive - ILUM ESCOLA DE CIÊNCIA\\ilum_3s\\ip_3\\base_dados_fase1\\SSHADE\\dados_campos_novos\\ Co K edge XAS transmission of Co(III)-acethylacetonate.xdi_new.xdi\n",
      "C:\\Users\\izaque23003\\OneDrive - ILUM ESCOLA DE CIÊNCIA\\ilum_3s\\ip_3\\base_dados_fase1\\SSHADE\\dados_campos_novos\\ Co K edge XAS transmission of Cobalt oxide Co(II,III).xdi_new.xdi\n",
      "O arquivo C:\\Users\\izaque23003\\Downloads\\ip3\\SSHADE\\convertidos\\Co\\ Co K edge XAS transmission of Cobalt oxide Co(II,III).xdi foi reescrito e salvo na pasta C:\\Users\\izaque23003\\OneDrive - ILUM ESCOLA DE CIÊNCIA\\ilum_3s\\ip_3\\base_dados_fase1\\SSHADE\\dados_campos_novos\\ Co K edge XAS transmission of Cobalt oxide Co(II,III).xdi_new.xdi\n",
      "C:\\Users\\izaque23003\\OneDrive - ILUM ESCOLA DE CIÊNCIA\\ilum_3s\\ip_3\\base_dados_fase1\\SSHADE\\dados_campos_novos\\ Co K edge XAS transmission of CoFe2O4.xdi_new.xdi\n",
      "O arquivo C:\\Users\\izaque23003\\Downloads\\ip3\\SSHADE\\convertidos\\Co\\ Co K edge XAS transmission of CoFe2O4.xdi foi reescrito e salvo na pasta C:\\Users\\izaque23003\\OneDrive - ILUM ESCOLA DE CIÊNCIA\\ilum_3s\\ip_3\\base_dados_fase1\\SSHADE\\dados_campos_novos\\ Co K edge XAS transmission of CoFe2O4.xdi_new.xdi\n",
      "C:\\Users\\izaque23003\\OneDrive - ILUM ESCOLA DE CIÊNCIA\\ilum_3s\\ip_3\\base_dados_fase1\\SSHADE\\dados_campos_novos\\ Co K edge XAS transmission of Potassium hexacyanocobaltate(III).xdi_new.xdi\n",
      "O arquivo C:\\Users\\izaque23003\\Downloads\\ip3\\SSHADE\\convertidos\\Co\\ Co K edge XAS transmission of Potassium hexacyanocobaltate(III).xdi foi reescrito e salvo na pasta C:\\Users\\izaque23003\\OneDrive - ILUM ESCOLA DE CIÊNCIA\\ilum_3s\\ip_3\\base_dados_fase1\\SSHADE\\dados_campos_novos\\ Co K edge XAS transmission of Potassium hexacyanocobaltate(III).xdi_new.xdi\n",
      "C:\\Users\\izaque23003\\OneDrive - ILUM ESCOLA DE CIÊNCIA\\ilum_3s\\ip_3\\base_dados_fase1\\SSHADE\\dados_campos_novos\\ Cu K edge XAS fluorescence of Cu(II) in solution (pure water) at 10K.xdi_new.xdi\n",
      "O arquivo C:\\Users\\izaque23003\\Downloads\\ip3\\SSHADE\\convertidos\\Cu\\ Cu K edge XAS fluorescence of Cu(II) in solution (pure water) at 10K.xdi foi reescrito e salvo na pasta C:\\Users\\izaque23003\\OneDrive - ILUM ESCOLA DE CIÊNCIA\\ilum_3s\\ip_3\\base_dados_fase1\\SSHADE\\dados_campos_novos\\ Cu K edge XAS fluorescence of Cu(II) in solution (pure water) at 10K.xdi_new.xdi\n",
      "C:\\Users\\izaque23003\\OneDrive - ILUM ESCOLA DE CIÊNCIA\\ilum_3s\\ip_3\\base_dados_fase1\\SSHADE\\dados_campos_novos\\ Cu K edge XAS fluorescence of Cu(II) in solution (water-glycerol, 50_50 in volume) at 10K.xdi_new.xdi\n",
      "O arquivo C:\\Users\\izaque23003\\Downloads\\ip3\\SSHADE\\convertidos\\Cu\\ Cu K edge XAS fluorescence of Cu(II) in solution (water-glycerol, 50_50 in volume) at 10K.xdi foi reescrito e salvo na pasta C:\\Users\\izaque23003\\OneDrive - ILUM ESCOLA DE CIÊNCIA\\ilum_3s\\ip_3\\base_dados_fase1\\SSHADE\\dados_campos_novos\\ Cu K edge XAS fluorescence of Cu(II) in solution (water-glycerol, 50_50 in volume) at 10K.xdi_new.xdi\n"
     ]
    },
    {
     "name": "stdout",
     "output_type": "stream",
     "text": [
      "C:\\Users\\izaque23003\\OneDrive - ILUM ESCOLA DE CIÊNCIA\\ilum_3s\\ip_3\\base_dados_fase1\\SSHADE\\dados_campos_novos\\ Cu K edge XAS HERFD (Kalpha1) of CuO at ambient conditions.xdi_new.xdi\n",
      "O arquivo C:\\Users\\izaque23003\\Downloads\\ip3\\SSHADE\\convertidos\\Cu\\ Cu K edge XAS HERFD (Kalpha1) of CuO at ambient conditions.xdi foi reescrito e salvo na pasta C:\\Users\\izaque23003\\OneDrive - ILUM ESCOLA DE CIÊNCIA\\ilum_3s\\ip_3\\base_dados_fase1\\SSHADE\\dados_campos_novos\\ Cu K edge XAS HERFD (Kalpha1) of CuO at ambient conditions.xdi_new.xdi\n",
      "C:\\Users\\izaque23003\\OneDrive - ILUM ESCOLA DE CIÊNCIA\\ilum_3s\\ip_3\\base_dados_fase1\\SSHADE\\dados_campos_novos\\ Cu K edge XAS HERFD (Kalpha1) of CuSO4 in aqueous solution at ambient conditions.xdi_new.xdi\n",
      "O arquivo C:\\Users\\izaque23003\\Downloads\\ip3\\SSHADE\\convertidos\\Cu\\ Cu K edge XAS HERFD (Kalpha1) of CuSO4 in aqueous solution at ambient conditions.xdi foi reescrito e salvo na pasta C:\\Users\\izaque23003\\OneDrive - ILUM ESCOLA DE CIÊNCIA\\ilum_3s\\ip_3\\base_dados_fase1\\SSHADE\\dados_campos_novos\\ Cu K edge XAS HERFD (Kalpha1) of CuSO4 in aqueous solution at ambient conditions.xdi_new.xdi\n",
      "C:\\Users\\izaque23003\\OneDrive - ILUM ESCOLA DE CIÊNCIA\\ilum_3s\\ip_3\\base_dados_fase1\\SSHADE\\dados_campos_novos\\ Cu K edge XAS HERFD (Kalpha1) of CuSO4.n(H2O) at ambient conditions.xdi_new.xdi\n",
      "O arquivo C:\\Users\\izaque23003\\Downloads\\ip3\\SSHADE\\convertidos\\Cu\\ Cu K edge XAS HERFD (Kalpha1) of CuSO4.n(H2O) at ambient conditions.xdi foi reescrito e salvo na pasta C:\\Users\\izaque23003\\OneDrive - ILUM ESCOLA DE CIÊNCIA\\ilum_3s\\ip_3\\base_dados_fase1\\SSHADE\\dados_campos_novos\\ Cu K edge XAS HERFD (Kalpha1) of CuSO4.n(H2O) at ambient conditions.xdi_new.xdi\n",
      "C:\\Users\\izaque23003\\OneDrive - ILUM ESCOLA DE CIÊNCIA\\ilum_3s\\ip_3\\base_dados_fase1\\SSHADE\\dados_campos_novos\\ Fe K edge XAS fluorescence of $L1_0$ FePt deposited on silicium (classical incidence.xdi_new.xdi\n",
      "O arquivo C:\\Users\\izaque23003\\Downloads\\ip3\\SSHADE\\convertidos\\Fe\\ Fe K edge XAS fluorescence of $L1_0$ FePt deposited on silicium (classical incidence.xdi foi reescrito e salvo na pasta C:\\Users\\izaque23003\\OneDrive - ILUM ESCOLA DE CIÊNCIA\\ilum_3s\\ip_3\\base_dados_fase1\\SSHADE\\dados_campos_novos\\ Fe K edge XAS fluorescence of $L1_0$ FePt deposited on silicium (classical incidence.xdi_new.xdi\n",
      "C:\\Users\\izaque23003\\OneDrive - ILUM ESCOLA DE CIÊNCIA\\ilum_3s\\ip_3\\base_dados_fase1\\SSHADE\\dados_campos_novos\\ Fe K edge XAS fluorescence of $L1_0$ FePt deposited on silicium (grazing incidence.xdi_new.xdi\n",
      "O arquivo C:\\Users\\izaque23003\\Downloads\\ip3\\SSHADE\\convertidos\\Fe\\ Fe K edge XAS fluorescence of $L1_0$ FePt deposited on silicium (grazing incidence.xdi foi reescrito e salvo na pasta C:\\Users\\izaque23003\\OneDrive - ILUM ESCOLA DE CIÊNCIA\\ilum_3s\\ip_3\\base_dados_fase1\\SSHADE\\dados_campos_novos\\ Fe K edge XAS fluorescence of $L1_0$ FePt deposited on silicium (grazing incidence.xdi_new.xdi\n",
      "C:\\Users\\izaque23003\\OneDrive - ILUM ESCOLA DE CIÊNCIA\\ilum_3s\\ip_3\\base_dados_fase1\\SSHADE\\dados_campos_novos\\ Fe K edge XAS fluorescence of $L1_0$ FePt deposited on silicium (normal incidence.xdi_new.xdi\n",
      "O arquivo C:\\Users\\izaque23003\\Downloads\\ip3\\SSHADE\\convertidos\\Fe\\ Fe K edge XAS fluorescence of $L1_0$ FePt deposited on silicium (normal incidence.xdi foi reescrito e salvo na pasta C:\\Users\\izaque23003\\OneDrive - ILUM ESCOLA DE CIÊNCIA\\ilum_3s\\ip_3\\base_dados_fase1\\SSHADE\\dados_campos_novos\\ Fe K edge XAS fluorescence of $L1_0$ FePt deposited on silicium (normal incidence.xdi_new.xdi\n",
      "C:\\Users\\izaque23003\\OneDrive - ILUM ESCOLA DE CIÊNCIA\\ilum_3s\\ip_3\\base_dados_fase1\\SSHADE\\dados_campos_novos\\ Fe K edge XAS fluorescence of CoFePt deposited on silicium (classical incidence.xdi_new.xdi\n",
      "O arquivo C:\\Users\\izaque23003\\Downloads\\ip3\\SSHADE\\convertidos\\Fe\\ Fe K edge XAS fluorescence of CoFePt deposited on silicium (classical incidence.xdi foi reescrito e salvo na pasta C:\\Users\\izaque23003\\OneDrive - ILUM ESCOLA DE CIÊNCIA\\ilum_3s\\ip_3\\base_dados_fase1\\SSHADE\\dados_campos_novos\\ Fe K edge XAS fluorescence of CoFePt deposited on silicium (classical incidence.xdi_new.xdi\n",
      "C:\\Users\\izaque23003\\OneDrive - ILUM ESCOLA DE CIÊNCIA\\ilum_3s\\ip_3\\base_dados_fase1\\SSHADE\\dados_campos_novos\\ Fe K edge XAS fluorescence of CoFePt deposited on silicium (grazing incidence.xdi_new.xdi\n",
      "O arquivo C:\\Users\\izaque23003\\Downloads\\ip3\\SSHADE\\convertidos\\Fe\\ Fe K edge XAS fluorescence of CoFePt deposited on silicium (grazing incidence.xdi foi reescrito e salvo na pasta C:\\Users\\izaque23003\\OneDrive - ILUM ESCOLA DE CIÊNCIA\\ilum_3s\\ip_3\\base_dados_fase1\\SSHADE\\dados_campos_novos\\ Fe K edge XAS fluorescence of CoFePt deposited on silicium (grazing incidence.xdi_new.xdi\n",
      "C:\\Users\\izaque23003\\OneDrive - ILUM ESCOLA DE CIÊNCIA\\ilum_3s\\ip_3\\base_dados_fase1\\SSHADE\\dados_campos_novos\\ Fe K edge XAS fluorescence of CoFePt deposited on silicium (normal incidence.xdi_new.xdi\n",
      "O arquivo C:\\Users\\izaque23003\\Downloads\\ip3\\SSHADE\\convertidos\\Fe\\ Fe K edge XAS fluorescence of CoFePt deposited on silicium (normal incidence.xdi foi reescrito e salvo na pasta C:\\Users\\izaque23003\\OneDrive - ILUM ESCOLA DE CIÊNCIA\\ilum_3s\\ip_3\\base_dados_fase1\\SSHADE\\dados_campos_novos\\ Fe K edge XAS fluorescence of CoFePt deposited on silicium (normal incidence.xdi_new.xdi\n",
      "C:\\Users\\izaque23003\\OneDrive - ILUM ESCOLA DE CIÊNCIA\\ilum_3s\\ip_3\\base_dados_fase1\\SSHADE\\dados_campos_novos\\ Fe K edge XAS fluorescence of FeSO4 in buffer.xdi_new.xdi\n",
      "O arquivo C:\\Users\\izaque23003\\Downloads\\ip3\\SSHADE\\convertidos\\Fe\\ Fe K edge XAS fluorescence of FeSO4 in buffer.xdi foi reescrito e salvo na pasta C:\\Users\\izaque23003\\OneDrive - ILUM ESCOLA DE CIÊNCIA\\ilum_3s\\ip_3\\base_dados_fase1\\SSHADE\\dados_campos_novos\\ Fe K edge XAS fluorescence of FeSO4 in buffer.xdi_new.xdi\n",
      "C:\\Users\\izaque23003\\OneDrive - ILUM ESCOLA DE CIÊNCIA\\ilum_3s\\ip_3\\base_dados_fase1\\SSHADE\\dados_campos_novos\\ Fe K edge XAS fluorescence of iron ferrous solution (Fe2+ 0.045m, HCl 0.1m, Na 0.356m, Cl 0.547m) at 500bar and 25Â°C.xdi_new.xdi\n",
      "O arquivo C:\\Users\\izaque23003\\Downloads\\ip3\\SSHADE\\convertidos\\Fe\\ Fe K edge XAS fluorescence of iron ferrous solution (Fe2+ 0.045m, HCl 0.1m, Na 0.356m, Cl 0.547m) at 500bar and 25Â°C.xdi foi reescrito e salvo na pasta C:\\Users\\izaque23003\\OneDrive - ILUM ESCOLA DE CIÊNCIA\\ilum_3s\\ip_3\\base_dados_fase1\\SSHADE\\dados_campos_novos\\ Fe K edge XAS fluorescence of iron ferrous solution (Fe2+ 0.045m, HCl 0.1m, Na 0.356m, Cl 0.547m) at 500bar and 25Â°C.xdi_new.xdi\n",
      "C:\\Users\\izaque23003\\OneDrive - ILUM ESCOLA DE CIÊNCIA\\ilum_3s\\ip_3\\base_dados_fase1\\SSHADE\\dados_campos_novos\\ Fe K edge XAS HERFD of synthetic cementite Fe3C at ambient conditions.xdi_new.xdi\n",
      "O arquivo C:\\Users\\izaque23003\\Downloads\\ip3\\SSHADE\\convertidos\\Fe\\ Fe K edge XAS HERFD of synthetic cementite Fe3C at ambient conditions.xdi foi reescrito e salvo na pasta C:\\Users\\izaque23003\\OneDrive - ILUM ESCOLA DE CIÊNCIA\\ilum_3s\\ip_3\\base_dados_fase1\\SSHADE\\dados_campos_novos\\ Fe K edge XAS HERFD of synthetic cementite Fe3C at ambient conditions.xdi_new.xdi\n",
      "C:\\Users\\izaque23003\\OneDrive - ILUM ESCOLA DE CIÊNCIA\\ilum_3s\\ip_3\\base_dados_fase1\\SSHADE\\dados_campos_novos\\ Fe K edge XAS HERFD of synthetic HÃ¤gg-carbide Fe5C2 at ambient conditions.xdi_new.xdi\n",
      "O arquivo C:\\Users\\izaque23003\\Downloads\\ip3\\SSHADE\\convertidos\\Fe\\ Fe K edge XAS HERFD of synthetic HÃ¤gg-carbide Fe5C2 at ambient conditions.xdi foi reescrito e salvo na pasta C:\\Users\\izaque23003\\OneDrive - ILUM ESCOLA DE CIÊNCIA\\ilum_3s\\ip_3\\base_dados_fase1\\SSHADE\\dados_campos_novos\\ Fe K edge XAS HERFD of synthetic HÃ¤gg-carbide Fe5C2 at ambient conditions.xdi_new.xdi\n",
      "C:\\Users\\izaque23003\\OneDrive - ILUM ESCOLA DE CIÊNCIA\\ilum_3s\\ip_3\\base_dados_fase1\\SSHADE\\dados_campos_novos\\ Fe K edge XAS HERFD of synthetic maghemite gamma-Fe2O3 at ambient conditions.xdi_new.xdi\n",
      "O arquivo C:\\Users\\izaque23003\\Downloads\\ip3\\SSHADE\\convertidos\\Fe\\ Fe K edge XAS HERFD of synthetic maghemite gamma-Fe2O3 at ambient conditions.xdi foi reescrito e salvo na pasta C:\\Users\\izaque23003\\OneDrive - ILUM ESCOLA DE CIÊNCIA\\ilum_3s\\ip_3\\base_dados_fase1\\SSHADE\\dados_campos_novos\\ Fe K edge XAS HERFD of synthetic maghemite gamma-Fe2O3 at ambient conditions.xdi_new.xdi\n",
      "C:\\Users\\izaque23003\\OneDrive - ILUM ESCOLA DE CIÊNCIA\\ilum_3s\\ip_3\\base_dados_fase1\\SSHADE\\dados_campos_novos\\ Fe K edge XAS transmission of bulk ALH83100 CM chondrite.xdi_new.xdi\n",
      "O arquivo C:\\Users\\izaque23003\\Downloads\\ip3\\SSHADE\\convertidos\\Fe\\ Fe K edge XAS transmission of bulk ALH83100 CM chondrite.xdi foi reescrito e salvo na pasta C:\\Users\\izaque23003\\OneDrive - ILUM ESCOLA DE CIÊNCIA\\ilum_3s\\ip_3\\base_dados_fase1\\SSHADE\\dados_campos_novos\\ Fe K edge XAS transmission of bulk ALH83100 CM chondrite.xdi_new.xdi\n",
      "C:\\Users\\izaque23003\\OneDrive - ILUM ESCOLA DE CIÊNCIA\\ilum_3s\\ip_3\\base_dados_fase1\\SSHADE\\dados_campos_novos\\ Fe K edge XAS transmission of bulk ALH84029 CM chondrite.xdi_new.xdi\n",
      "O arquivo C:\\Users\\izaque23003\\Downloads\\ip3\\SSHADE\\convertidos\\Fe\\ Fe K edge XAS transmission of bulk ALH84029 CM chondrite.xdi foi reescrito e salvo na pasta C:\\Users\\izaque23003\\OneDrive - ILUM ESCOLA DE CIÊNCIA\\ilum_3s\\ip_3\\base_dados_fase1\\SSHADE\\dados_campos_novos\\ Fe K edge XAS transmission of bulk ALH84029 CM chondrite.xdi_new.xdi\n",
      "C:\\Users\\izaque23003\\OneDrive - ILUM ESCOLA DE CIÊNCIA\\ilum_3s\\ip_3\\base_dados_fase1\\SSHADE\\dados_campos_novos\\ Fe K edge XAS transmission of bulk ALH84033 CM chondrite.xdi_new.xdi\n",
      "O arquivo C:\\Users\\izaque23003\\Downloads\\ip3\\SSHADE\\convertidos\\Fe\\ Fe K edge XAS transmission of bulk ALH84033 CM chondrite.xdi foi reescrito e salvo na pasta C:\\Users\\izaque23003\\OneDrive - ILUM ESCOLA DE CIÊNCIA\\ilum_3s\\ip_3\\base_dados_fase1\\SSHADE\\dados_campos_novos\\ Fe K edge XAS transmission of bulk ALH84033 CM chondrite.xdi_new.xdi\n"
     ]
    },
    {
     "name": "stdout",
     "output_type": "stream",
     "text": [
      "C:\\Users\\izaque23003\\OneDrive - ILUM ESCOLA DE CIÊNCIA\\ilum_3s\\ip_3\\base_dados_fase1\\SSHADE\\dados_campos_novos\\ Fe K edge XAS transmission of bulk ALH84044 CM chondrite.xdi_new.xdi\n",
      "O arquivo C:\\Users\\izaque23003\\Downloads\\ip3\\SSHADE\\convertidos\\Fe\\ Fe K edge XAS transmission of bulk ALH84044 CM chondrite.xdi foi reescrito e salvo na pasta C:\\Users\\izaque23003\\OneDrive - ILUM ESCOLA DE CIÊNCIA\\ilum_3s\\ip_3\\base_dados_fase1\\SSHADE\\dados_campos_novos\\ Fe K edge XAS transmission of bulk ALH84044 CM chondrite.xdi_new.xdi\n",
      "C:\\Users\\izaque23003\\OneDrive - ILUM ESCOLA DE CIÊNCIA\\ilum_3s\\ip_3\\base_dados_fase1\\SSHADE\\dados_campos_novos\\ Fe K edge XAS transmission of bulk Allende CV chondrite.xdi_new.xdi\n",
      "O arquivo C:\\Users\\izaque23003\\Downloads\\ip3\\SSHADE\\convertidos\\Fe\\ Fe K edge XAS transmission of bulk Allende CV chondrite.xdi foi reescrito e salvo na pasta C:\\Users\\izaque23003\\OneDrive - ILUM ESCOLA DE CIÊNCIA\\ilum_3s\\ip_3\\base_dados_fase1\\SSHADE\\dados_campos_novos\\ Fe K edge XAS transmission of bulk Allende CV chondrite.xdi_new.xdi\n",
      "C:\\Users\\izaque23003\\OneDrive - ILUM ESCOLA DE CIÊNCIA\\ilum_3s\\ip_3\\base_dados_fase1\\SSHADE\\dados_campos_novos\\ Fe K edge XAS transmission of bulk AXTELL CV chondrite.xdi_new.xdi\n",
      "O arquivo C:\\Users\\izaque23003\\Downloads\\ip3\\SSHADE\\convertidos\\Fe\\ Fe K edge XAS transmission of bulk AXTELL CV chondrite.xdi foi reescrito e salvo na pasta C:\\Users\\izaque23003\\OneDrive - ILUM ESCOLA DE CIÊNCIA\\ilum_3s\\ip_3\\base_dados_fase1\\SSHADE\\dados_campos_novos\\ Fe K edge XAS transmission of bulk AXTELL CV chondrite.xdi_new.xdi\n",
      "C:\\Users\\izaque23003\\OneDrive - ILUM ESCOLA DE CIÊNCIA\\ilum_3s\\ip_3\\base_dados_fase1\\SSHADE\\dados_campos_novos\\ Fe K edge XAS transmission of bulk Bali CV chondrite.xdi_new.xdi\n",
      "O arquivo C:\\Users\\izaque23003\\Downloads\\ip3\\SSHADE\\convertidos\\Fe\\ Fe K edge XAS transmission of bulk Bali CV chondrite.xdi foi reescrito e salvo na pasta C:\\Users\\izaque23003\\OneDrive - ILUM ESCOLA DE CIÊNCIA\\ilum_3s\\ip_3\\base_dados_fase1\\SSHADE\\dados_campos_novos\\ Fe K edge XAS transmission of bulk Bali CV chondrite.xdi_new.xdi\n",
      "C:\\Users\\izaque23003\\OneDrive - ILUM ESCOLA DE CIÊNCIA\\ilum_3s\\ip_3\\base_dados_fase1\\SSHADE\\dados_campos_novos\\ Fe K edge XAS transmission of bulk Banten CM chondrite.xdi_new.xdi\n",
      "O arquivo C:\\Users\\izaque23003\\Downloads\\ip3\\SSHADE\\convertidos\\Fe\\ Fe K edge XAS transmission of bulk Banten CM chondrite.xdi foi reescrito e salvo na pasta C:\\Users\\izaque23003\\OneDrive - ILUM ESCOLA DE CIÊNCIA\\ilum_3s\\ip_3\\base_dados_fase1\\SSHADE\\dados_campos_novos\\ Fe K edge XAS transmission of bulk Banten CM chondrite.xdi_new.xdi\n",
      "C:\\Users\\izaque23003\\OneDrive - ILUM ESCOLA DE CIÊNCIA\\ilum_3s\\ip_3\\base_dados_fase1\\SSHADE\\dados_campos_novos\\ Fe K edge XAS transmission of bulk Boriskino CM chondrite.xdi_new.xdi\n",
      "O arquivo C:\\Users\\izaque23003\\Downloads\\ip3\\SSHADE\\convertidos\\Fe\\ Fe K edge XAS transmission of bulk Boriskino CM chondrite.xdi foi reescrito e salvo na pasta C:\\Users\\izaque23003\\OneDrive - ILUM ESCOLA DE CIÊNCIA\\ilum_3s\\ip_3\\base_dados_fase1\\SSHADE\\dados_campos_novos\\ Fe K edge XAS transmission of bulk Boriskino CM chondrite.xdi_new.xdi\n",
      "C:\\Users\\izaque23003\\OneDrive - ILUM ESCOLA DE CIÊNCIA\\ilum_3s\\ip_3\\base_dados_fase1\\SSHADE\\dados_campos_novos\\ Fe K edge XAS transmission of bulk COLD BOKKEVELD CM chondrite.xdi_new.xdi\n",
      "O arquivo C:\\Users\\izaque23003\\Downloads\\ip3\\SSHADE\\convertidos\\Fe\\ Fe K edge XAS transmission of bulk COLD BOKKEVELD CM chondrite.xdi foi reescrito e salvo na pasta C:\\Users\\izaque23003\\OneDrive - ILUM ESCOLA DE CIÊNCIA\\ilum_3s\\ip_3\\base_dados_fase1\\SSHADE\\dados_campos_novos\\ Fe K edge XAS transmission of bulk COLD BOKKEVELD CM chondrite.xdi_new.xdi\n",
      "C:\\Users\\izaque23003\\OneDrive - ILUM ESCOLA DE CIÊNCIA\\ilum_3s\\ip_3\\base_dados_fase1\\SSHADE\\dados_campos_novos\\ Fe K edge XAS transmission of bulk DOM03183 CM chondrite.xdi_new.xdi\n",
      "O arquivo C:\\Users\\izaque23003\\Downloads\\ip3\\SSHADE\\convertidos\\Fe\\ Fe K edge XAS transmission of bulk DOM03183 CM chondrite.xdi foi reescrito e salvo na pasta C:\\Users\\izaque23003\\OneDrive - ILUM ESCOLA DE CIÊNCIA\\ilum_3s\\ip_3\\base_dados_fase1\\SSHADE\\dados_campos_novos\\ Fe K edge XAS transmission of bulk DOM03183 CM chondrite.xdi_new.xdi\n",
      "C:\\Users\\izaque23003\\OneDrive - ILUM ESCOLA DE CIÊNCIA\\ilum_3s\\ip_3\\base_dados_fase1\\SSHADE\\dados_campos_novos\\ Fe K edge XAS transmission of bulk DOM03183 heated CM chondrite.xdi_new.xdi\n",
      "O arquivo C:\\Users\\izaque23003\\Downloads\\ip3\\SSHADE\\convertidos\\Fe\\ Fe K edge XAS transmission of bulk DOM03183 heated CM chondrite.xdi foi reescrito e salvo na pasta C:\\Users\\izaque23003\\OneDrive - ILUM ESCOLA DE CIÊNCIA\\ilum_3s\\ip_3\\base_dados_fase1\\SSHADE\\dados_campos_novos\\ Fe K edge XAS transmission of bulk DOM03183 heated CM chondrite.xdi_new.xdi\n",
      "C:\\Users\\izaque23003\\OneDrive - ILUM ESCOLA DE CIÊNCIA\\ilum_3s\\ip_3\\base_dados_fase1\\SSHADE\\dados_campos_novos\\ Fe K edge XAS transmission of bulk DOM08003 CM chondrite.xdi_new.xdi\n",
      "O arquivo C:\\Users\\izaque23003\\Downloads\\ip3\\SSHADE\\convertidos\\Fe\\ Fe K edge XAS transmission of bulk DOM08003 CM chondrite.xdi foi reescrito e salvo na pasta C:\\Users\\izaque23003\\OneDrive - ILUM ESCOLA DE CIÊNCIA\\ilum_3s\\ip_3\\base_dados_fase1\\SSHADE\\dados_campos_novos\\ Fe K edge XAS transmission of bulk DOM08003 CM chondrite.xdi_new.xdi\n",
      "C:\\Users\\izaque23003\\OneDrive - ILUM ESCOLA DE CIÊNCIA\\ilum_3s\\ip_3\\base_dados_fase1\\SSHADE\\dados_campos_novos\\ Fe K edge XAS transmission of bulk EET83355 CM chondrite.xdi_new.xdi\n",
      "O arquivo C:\\Users\\izaque23003\\Downloads\\ip3\\SSHADE\\convertidos\\Fe\\ Fe K edge XAS transmission of bulk EET83355 CM chondrite.xdi foi reescrito e salvo na pasta C:\\Users\\izaque23003\\OneDrive - ILUM ESCOLA DE CIÊNCIA\\ilum_3s\\ip_3\\base_dados_fase1\\SSHADE\\dados_campos_novos\\ Fe K edge XAS transmission of bulk EET83355 CM chondrite.xdi_new.xdi\n",
      "C:\\Users\\izaque23003\\OneDrive - ILUM ESCOLA DE CIÊNCIA\\ilum_3s\\ip_3\\base_dados_fase1\\SSHADE\\dados_campos_novos\\ Fe K edge XAS transmission of bulk EET83355 heated CM chondrite.xdi_new.xdi\n",
      "O arquivo C:\\Users\\izaque23003\\Downloads\\ip3\\SSHADE\\convertidos\\Fe\\ Fe K edge XAS transmission of bulk EET83355 heated CM chondrite.xdi foi reescrito e salvo na pasta C:\\Users\\izaque23003\\OneDrive - ILUM ESCOLA DE CIÊNCIA\\ilum_3s\\ip_3\\base_dados_fase1\\SSHADE\\dados_campos_novos\\ Fe K edge XAS transmission of bulk EET83355 heated CM chondrite.xdi_new.xdi\n",
      "C:\\Users\\izaque23003\\OneDrive - ILUM ESCOLA DE CIÊNCIA\\ilum_3s\\ip_3\\base_dados_fase1\\SSHADE\\dados_campos_novos\\ Fe K edge XAS transmission of bulk EET87522 CM chondrite.xdi_new.xdi\n",
      "O arquivo C:\\Users\\izaque23003\\Downloads\\ip3\\SSHADE\\convertidos\\Fe\\ Fe K edge XAS transmission of bulk EET87522 CM chondrite.xdi foi reescrito e salvo na pasta C:\\Users\\izaque23003\\OneDrive - ILUM ESCOLA DE CIÊNCIA\\ilum_3s\\ip_3\\base_dados_fase1\\SSHADE\\dados_campos_novos\\ Fe K edge XAS transmission of bulk EET87522 CM chondrite.xdi_new.xdi\n",
      "C:\\Users\\izaque23003\\OneDrive - ILUM ESCOLA DE CIÊNCIA\\ilum_3s\\ip_3\\base_dados_fase1\\SSHADE\\dados_campos_novos\\ Fe K edge XAS transmission of bulk EET92042 CR chondrite.xdi_new.xdi\n",
      "O arquivo C:\\Users\\izaque23003\\Downloads\\ip3\\SSHADE\\convertidos\\Fe\\ Fe K edge XAS transmission of bulk EET92042 CR chondrite.xdi foi reescrito e salvo na pasta C:\\Users\\izaque23003\\OneDrive - ILUM ESCOLA DE CIÊNCIA\\ilum_3s\\ip_3\\base_dados_fase1\\SSHADE\\dados_campos_novos\\ Fe K edge XAS transmission of bulk EET92042 CR chondrite.xdi_new.xdi\n",
      "C:\\Users\\izaque23003\\OneDrive - ILUM ESCOLA DE CIÊNCIA\\ilum_3s\\ip_3\\base_dados_fase1\\SSHADE\\dados_campos_novos\\ Fe K edge XAS transmission of bulk EET92159 CR chondrite.xdi_new.xdi\n",
      "O arquivo C:\\Users\\izaque23003\\Downloads\\ip3\\SSHADE\\convertidos\\Fe\\ Fe K edge XAS transmission of bulk EET92159 CR chondrite.xdi foi reescrito e salvo na pasta C:\\Users\\izaque23003\\OneDrive - ILUM ESCOLA DE CIÊNCIA\\ilum_3s\\ip_3\\base_dados_fase1\\SSHADE\\dados_campos_novos\\ Fe K edge XAS transmission of bulk EET92159 CR chondrite.xdi_new.xdi\n",
      "C:\\Users\\izaque23003\\OneDrive - ILUM ESCOLA DE CIÊNCIA\\ilum_3s\\ip_3\\base_dados_fase1\\SSHADE\\dados_campos_novos\\ Fe K edge XAS transmission of bulk EET96029 CM chondrite.xdi_new.xdi\n",
      "O arquivo C:\\Users\\izaque23003\\Downloads\\ip3\\SSHADE\\convertidos\\Fe\\ Fe K edge XAS transmission of bulk EET96029 CM chondrite.xdi foi reescrito e salvo na pasta C:\\Users\\izaque23003\\OneDrive - ILUM ESCOLA DE CIÊNCIA\\ilum_3s\\ip_3\\base_dados_fase1\\SSHADE\\dados_campos_novos\\ Fe K edge XAS transmission of bulk EET96029 CM chondrite.xdi_new.xdi\n",
      "C:\\Users\\izaque23003\\OneDrive - ILUM ESCOLA DE CIÊNCIA\\ilum_3s\\ip_3\\base_dados_fase1\\SSHADE\\dados_campos_novos\\ Fe K edge XAS transmission of bulk EET96029 heated CM chondrite.xdi_new.xdi\n",
      "O arquivo C:\\Users\\izaque23003\\Downloads\\ip3\\SSHADE\\convertidos\\Fe\\ Fe K edge XAS transmission of bulk EET96029 heated CM chondrite.xdi foi reescrito e salvo na pasta C:\\Users\\izaque23003\\OneDrive - ILUM ESCOLA DE CIÊNCIA\\ilum_3s\\ip_3\\base_dados_fase1\\SSHADE\\dados_campos_novos\\ Fe K edge XAS transmission of bulk EET96029 heated CM chondrite.xdi_new.xdi\n",
      "C:\\Users\\izaque23003\\OneDrive - ILUM ESCOLA DE CIÊNCIA\\ilum_3s\\ip_3\\base_dados_fase1\\SSHADE\\dados_campos_novos\\ Fe K edge XAS transmission of bulk EFREMOVKA CV chondrite.xdi_new.xdi\n",
      "O arquivo C:\\Users\\izaque23003\\Downloads\\ip3\\SSHADE\\convertidos\\Fe\\ Fe K edge XAS transmission of bulk EFREMOVKA CV chondrite.xdi foi reescrito e salvo na pasta C:\\Users\\izaque23003\\OneDrive - ILUM ESCOLA DE CIÊNCIA\\ilum_3s\\ip_3\\base_dados_fase1\\SSHADE\\dados_campos_novos\\ Fe K edge XAS transmission of bulk EFREMOVKA CV chondrite.xdi_new.xdi\n",
      "C:\\Users\\izaque23003\\OneDrive - ILUM ESCOLA DE CIÊNCIA\\ilum_3s\\ip_3\\base_dados_fase1\\SSHADE\\dados_campos_novos\\ Fe K edge XAS transmission of bulk Essebi CM chondrite.xdi_new.xdi\n",
      "O arquivo C:\\Users\\izaque23003\\Downloads\\ip3\\SSHADE\\convertidos\\Fe\\ Fe K edge XAS transmission of bulk Essebi CM chondrite.xdi foi reescrito e salvo na pasta C:\\Users\\izaque23003\\OneDrive - ILUM ESCOLA DE CIÊNCIA\\ilum_3s\\ip_3\\base_dados_fase1\\SSHADE\\dados_campos_novos\\ Fe K edge XAS transmission of bulk Essebi CM chondrite.xdi_new.xdi\n",
      "C:\\Users\\izaque23003\\OneDrive - ILUM ESCOLA DE CIÊNCIA\\ilum_3s\\ip_3\\base_dados_fase1\\SSHADE\\dados_campos_novos\\ Fe K edge XAS transmission of bulk GRA06100 CR chondrite.xdi_new.xdi\n",
      "O arquivo C:\\Users\\izaque23003\\Downloads\\ip3\\SSHADE\\convertidos\\Fe\\ Fe K edge XAS transmission of bulk GRA06100 CR chondrite.xdi foi reescrito e salvo na pasta C:\\Users\\izaque23003\\OneDrive - ILUM ESCOLA DE CIÊNCIA\\ilum_3s\\ip_3\\base_dados_fase1\\SSHADE\\dados_campos_novos\\ Fe K edge XAS transmission of bulk GRA06100 CR chondrite.xdi_new.xdi\n",
      "C:\\Users\\izaque23003\\OneDrive - ILUM ESCOLA DE CIÊNCIA\\ilum_3s\\ip_3\\base_dados_fase1\\SSHADE\\dados_campos_novos\\ Fe K edge XAS transmission of bulk GRA95229 CR chondrite.xdi_new.xdi\n",
      "O arquivo C:\\Users\\izaque23003\\Downloads\\ip3\\SSHADE\\convertidos\\Fe\\ Fe K edge XAS transmission of bulk GRA95229 CR chondrite.xdi foi reescrito e salvo na pasta C:\\Users\\izaque23003\\OneDrive - ILUM ESCOLA DE CIÊNCIA\\ilum_3s\\ip_3\\base_dados_fase1\\SSHADE\\dados_campos_novos\\ Fe K edge XAS transmission of bulk GRA95229 CR chondrite.xdi_new.xdi\n",
      "C:\\Users\\izaque23003\\OneDrive - ILUM ESCOLA DE CIÊNCIA\\ilum_3s\\ip_3\\base_dados_fase1\\SSHADE\\dados_campos_novos\\ Fe K edge XAS transmission of bulk GRO03116 CR chondrite.xdi_new.xdi\n",
      "O arquivo C:\\Users\\izaque23003\\Downloads\\ip3\\SSHADE\\convertidos\\Fe\\ Fe K edge XAS transmission of bulk GRO03116 CR chondrite.xdi foi reescrito e salvo na pasta C:\\Users\\izaque23003\\OneDrive - ILUM ESCOLA DE CIÊNCIA\\ilum_3s\\ip_3\\base_dados_fase1\\SSHADE\\dados_campos_novos\\ Fe K edge XAS transmission of bulk GRO03116 CR chondrite.xdi_new.xdi\n",
      "C:\\Users\\izaque23003\\OneDrive - ILUM ESCOLA DE CIÊNCIA\\ilum_3s\\ip_3\\base_dados_fase1\\SSHADE\\dados_campos_novos\\ Fe K edge XAS transmission of bulk GRO95577 CR chondrite.xdi_new.xdi\n",
      "O arquivo C:\\Users\\izaque23003\\Downloads\\ip3\\SSHADE\\convertidos\\Fe\\ Fe K edge XAS transmission of bulk GRO95577 CR chondrite.xdi foi reescrito e salvo na pasta C:\\Users\\izaque23003\\OneDrive - ILUM ESCOLA DE CIÊNCIA\\ilum_3s\\ip_3\\base_dados_fase1\\SSHADE\\dados_campos_novos\\ Fe K edge XAS transmission of bulk GRO95577 CR chondrite.xdi_new.xdi\n",
      "C:\\Users\\izaque23003\\OneDrive - ILUM ESCOLA DE CIÊNCIA\\ilum_3s\\ip_3\\base_dados_fase1\\SSHADE\\dados_campos_novos\\ Fe K edge XAS transmission of bulk GROSNAJA CV chondrite.xdi_new.xdi\n",
      "O arquivo C:\\Users\\izaque23003\\Downloads\\ip3\\SSHADE\\convertidos\\Fe\\ Fe K edge XAS transmission of bulk GROSNAJA CV chondrite.xdi foi reescrito e salvo na pasta C:\\Users\\izaque23003\\OneDrive - ILUM ESCOLA DE CIÊNCIA\\ilum_3s\\ip_3\\base_dados_fase1\\SSHADE\\dados_campos_novos\\ Fe K edge XAS transmission of bulk GROSNAJA CV chondrite.xdi_new.xdi\n"
     ]
    },
    {
     "name": "stdout",
     "output_type": "stream",
     "text": [
      "C:\\Users\\izaque23003\\OneDrive - ILUM ESCOLA DE CIÊNCIA\\ilum_3s\\ip_3\\base_dados_fase1\\SSHADE\\dados_campos_novos\\ Fe K edge XAS transmission of bulk Ivuna CI chondrite.xdi_new.xdi\n",
      "O arquivo C:\\Users\\izaque23003\\Downloads\\ip3\\SSHADE\\convertidos\\Fe\\ Fe K edge XAS transmission of bulk Ivuna CI chondrite.xdi foi reescrito e salvo na pasta C:\\Users\\izaque23003\\OneDrive - ILUM ESCOLA DE CIÊNCIA\\ilum_3s\\ip_3\\base_dados_fase1\\SSHADE\\dados_campos_novos\\ Fe K edge XAS transmission of bulk Ivuna CI chondrite.xdi_new.xdi\n",
      "C:\\Users\\izaque23003\\OneDrive - ILUM ESCOLA DE CIÊNCIA\\ilum_3s\\ip_3\\base_dados_fase1\\SSHADE\\dados_campos_novos\\ Fe K edge XAS transmission of bulk KABA CV chondrite.xdi_new.xdi\n",
      "O arquivo C:\\Users\\izaque23003\\Downloads\\ip3\\SSHADE\\convertidos\\Fe\\ Fe K edge XAS transmission of bulk KABA CV chondrite.xdi foi reescrito e salvo na pasta C:\\Users\\izaque23003\\OneDrive - ILUM ESCOLA DE CIÊNCIA\\ilum_3s\\ip_3\\base_dados_fase1\\SSHADE\\dados_campos_novos\\ Fe K edge XAS transmission of bulk KABA CV chondrite.xdi_new.xdi\n",
      "C:\\Users\\izaque23003\\OneDrive - ILUM ESCOLA DE CIÊNCIA\\ilum_3s\\ip_3\\base_dados_fase1\\SSHADE\\dados_campos_novos\\ Fe K edge XAS transmission of bulk LAP02333 CM chondrite.xdi_new.xdi\n",
      "O arquivo C:\\Users\\izaque23003\\Downloads\\ip3\\SSHADE\\convertidos\\Fe\\ Fe K edge XAS transmission of bulk LAP02333 CM chondrite.xdi foi reescrito e salvo na pasta C:\\Users\\izaque23003\\OneDrive - ILUM ESCOLA DE CIÊNCIA\\ilum_3s\\ip_3\\base_dados_fase1\\SSHADE\\dados_campos_novos\\ Fe K edge XAS transmission of bulk LAP02333 CM chondrite.xdi_new.xdi\n",
      "C:\\Users\\izaque23003\\OneDrive - ILUM ESCOLA DE CIÊNCIA\\ilum_3s\\ip_3\\base_dados_fase1\\SSHADE\\dados_campos_novos\\ Fe K edge XAS transmission of bulk LAP02336 CM chondrite.xdi_new.xdi\n",
      "O arquivo C:\\Users\\izaque23003\\Downloads\\ip3\\SSHADE\\convertidos\\Fe\\ Fe K edge XAS transmission of bulk LAP02336 CM chondrite.xdi foi reescrito e salvo na pasta C:\\Users\\izaque23003\\OneDrive - ILUM ESCOLA DE CIÊNCIA\\ilum_3s\\ip_3\\base_dados_fase1\\SSHADE\\dados_campos_novos\\ Fe K edge XAS transmission of bulk LAP02336 CM chondrite.xdi_new.xdi\n",
      "C:\\Users\\izaque23003\\OneDrive - ILUM ESCOLA DE CIÊNCIA\\ilum_3s\\ip_3\\base_dados_fase1\\SSHADE\\dados_campos_novos\\ Fe K edge XAS transmission of bulk LAP03718 CM chondrite.xdi_new.xdi\n",
      "O arquivo C:\\Users\\izaque23003\\Downloads\\ip3\\SSHADE\\convertidos\\Fe\\ Fe K edge XAS transmission of bulk LAP03718 CM chondrite.xdi foi reescrito e salvo na pasta C:\\Users\\izaque23003\\OneDrive - ILUM ESCOLA DE CIÊNCIA\\ilum_3s\\ip_3\\base_dados_fase1\\SSHADE\\dados_campos_novos\\ Fe K edge XAS transmission of bulk LAP03718 CM chondrite.xdi_new.xdi\n",
      "C:\\Users\\izaque23003\\OneDrive - ILUM ESCOLA DE CIÊNCIA\\ilum_3s\\ip_3\\base_dados_fase1\\SSHADE\\dados_campos_novos\\ Fe K edge XAS transmission of bulk LAP04516 CR chondrite.xdi_new.xdi\n",
      "O arquivo C:\\Users\\izaque23003\\Downloads\\ip3\\SSHADE\\convertidos\\Fe\\ Fe K edge XAS transmission of bulk LAP04516 CR chondrite.xdi foi reescrito e salvo na pasta C:\\Users\\izaque23003\\OneDrive - ILUM ESCOLA DE CIÊNCIA\\ilum_3s\\ip_3\\base_dados_fase1\\SSHADE\\dados_campos_novos\\ Fe K edge XAS transmission of bulk LAP04516 CR chondrite.xdi_new.xdi\n",
      "C:\\Users\\izaque23003\\OneDrive - ILUM ESCOLA DE CIÊNCIA\\ilum_3s\\ip_3\\base_dados_fase1\\SSHADE\\dados_campos_novos\\ Fe K edge XAS transmission of bulk LEOVILLE CV chondrite.xdi_new.xdi\n",
      "O arquivo C:\\Users\\izaque23003\\Downloads\\ip3\\SSHADE\\convertidos\\Fe\\ Fe K edge XAS transmission of bulk LEOVILLE CV chondrite.xdi foi reescrito e salvo na pasta C:\\Users\\izaque23003\\OneDrive - ILUM ESCOLA DE CIÊNCIA\\ilum_3s\\ip_3\\base_dados_fase1\\SSHADE\\dados_campos_novos\\ Fe K edge XAS transmission of bulk LEOVILLE CV chondrite.xdi_new.xdi\n",
      "C:\\Users\\izaque23003\\OneDrive - ILUM ESCOLA DE CIÊNCIA\\ilum_3s\\ip_3\\base_dados_fase1\\SSHADE\\dados_campos_novos\\ Fe K edge XAS transmission of bulk LEW85311 CM chondrite.xdi_new.xdi\n",
      "O arquivo C:\\Users\\izaque23003\\Downloads\\ip3\\SSHADE\\convertidos\\Fe\\ Fe K edge XAS transmission of bulk LEW85311 CM chondrite.xdi foi reescrito e salvo na pasta C:\\Users\\izaque23003\\OneDrive - ILUM ESCOLA DE CIÊNCIA\\ilum_3s\\ip_3\\base_dados_fase1\\SSHADE\\dados_campos_novos\\ Fe K edge XAS transmission of bulk LEW85311 CM chondrite.xdi_new.xdi\n",
      "C:\\Users\\izaque23003\\OneDrive - ILUM ESCOLA DE CIÊNCIA\\ilum_3s\\ip_3\\base_dados_fase1\\SSHADE\\dados_campos_novos\\ Fe K edge XAS transmission of bulk LEW85312 CM chondrite.xdi_new.xdi\n",
      "O arquivo C:\\Users\\izaque23003\\Downloads\\ip3\\SSHADE\\convertidos\\Fe\\ Fe K edge XAS transmission of bulk LEW85312 CM chondrite.xdi foi reescrito e salvo na pasta C:\\Users\\izaque23003\\OneDrive - ILUM ESCOLA DE CIÊNCIA\\ilum_3s\\ip_3\\base_dados_fase1\\SSHADE\\dados_campos_novos\\ Fe K edge XAS transmission of bulk LEW85312 CM chondrite.xdi_new.xdi\n",
      "C:\\Users\\izaque23003\\OneDrive - ILUM ESCOLA DE CIÊNCIA\\ilum_3s\\ip_3\\base_dados_fase1\\SSHADE\\dados_campos_novos\\ Fe K edge XAS transmission of bulk LEW87022 CM chondrite.xdi_new.xdi\n",
      "O arquivo C:\\Users\\izaque23003\\Downloads\\ip3\\SSHADE\\convertidos\\Fe\\ Fe K edge XAS transmission of bulk LEW87022 CM chondrite.xdi foi reescrito e salvo na pasta C:\\Users\\izaque23003\\OneDrive - ILUM ESCOLA DE CIÊNCIA\\ilum_3s\\ip_3\\base_dados_fase1\\SSHADE\\dados_campos_novos\\ Fe K edge XAS transmission of bulk LEW87022 CM chondrite.xdi_new.xdi\n",
      "C:\\Users\\izaque23003\\OneDrive - ILUM ESCOLA DE CIÊNCIA\\ilum_3s\\ip_3\\base_dados_fase1\\SSHADE\\dados_campos_novos\\ Fe K edge XAS transmission of bulk LEW90500 CM chondrite.xdi_new.xdi\n",
      "O arquivo C:\\Users\\izaque23003\\Downloads\\ip3\\SSHADE\\convertidos\\Fe\\ Fe K edge XAS transmission of bulk LEW90500 CM chondrite.xdi foi reescrito e salvo na pasta C:\\Users\\izaque23003\\OneDrive - ILUM ESCOLA DE CIÊNCIA\\ilum_3s\\ip_3\\base_dados_fase1\\SSHADE\\dados_campos_novos\\ Fe K edge XAS transmission of bulk LEW90500 CM chondrite.xdi_new.xdi\n",
      "C:\\Users\\izaque23003\\OneDrive - ILUM ESCOLA DE CIÊNCIA\\ilum_3s\\ip_3\\base_dados_fase1\\SSHADE\\dados_campos_novos\\ Fe K edge XAS transmission of bulk LON94101 CM chondrite.xdi_new.xdi\n",
      "O arquivo C:\\Users\\izaque23003\\Downloads\\ip3\\SSHADE\\convertidos\\Fe\\ Fe K edge XAS transmission of bulk LON94101 CM chondrite.xdi foi reescrito e salvo na pasta C:\\Users\\izaque23003\\OneDrive - ILUM ESCOLA DE CIÊNCIA\\ilum_3s\\ip_3\\base_dados_fase1\\SSHADE\\dados_campos_novos\\ Fe K edge XAS transmission of bulk LON94101 CM chondrite.xdi_new.xdi\n",
      "C:\\Users\\izaque23003\\OneDrive - ILUM ESCOLA DE CIÊNCIA\\ilum_3s\\ip_3\\base_dados_fase1\\SSHADE\\dados_campos_novos\\ Fe K edge XAS transmission of bulk MAC88100 CM chondrite.xdi_new.xdi\n",
      "O arquivo C:\\Users\\izaque23003\\Downloads\\ip3\\SSHADE\\convertidos\\Fe\\ Fe K edge XAS transmission of bulk MAC88100 CM chondrite.xdi foi reescrito e salvo na pasta C:\\Users\\izaque23003\\OneDrive - ILUM ESCOLA DE CIÊNCIA\\ilum_3s\\ip_3\\base_dados_fase1\\SSHADE\\dados_campos_novos\\ Fe K edge XAS transmission of bulk MAC88100 CM chondrite.xdi_new.xdi\n",
      "C:\\Users\\izaque23003\\OneDrive - ILUM ESCOLA DE CIÊNCIA\\ilum_3s\\ip_3\\base_dados_fase1\\SSHADE\\dados_campos_novos\\ Fe K edge XAS transmission of bulk MCY05230 CM chondrite.xdi_new.xdi\n",
      "O arquivo C:\\Users\\izaque23003\\Downloads\\ip3\\SSHADE\\convertidos\\Fe\\ Fe K edge XAS transmission of bulk MCY05230 CM chondrite.xdi foi reescrito e salvo na pasta C:\\Users\\izaque23003\\OneDrive - ILUM ESCOLA DE CIÊNCIA\\ilum_3s\\ip_3\\base_dados_fase1\\SSHADE\\dados_campos_novos\\ Fe K edge XAS transmission of bulk MCY05230 CM chondrite.xdi_new.xdi\n",
      "C:\\Users\\izaque23003\\OneDrive - ILUM ESCOLA DE CIÊNCIA\\ilum_3s\\ip_3\\base_dados_fase1\\SSHADE\\dados_campos_novos\\ Fe K edge XAS transmission of bulk MET00426 CR chondrite.xdi_new.xdi\n",
      "O arquivo C:\\Users\\izaque23003\\Downloads\\ip3\\SSHADE\\convertidos\\Fe\\ Fe K edge XAS transmission of bulk MET00426 CR chondrite.xdi foi reescrito e salvo na pasta C:\\Users\\izaque23003\\OneDrive - ILUM ESCOLA DE CIÊNCIA\\ilum_3s\\ip_3\\base_dados_fase1\\SSHADE\\dados_campos_novos\\ Fe K edge XAS transmission of bulk MET00426 CR chondrite.xdi_new.xdi\n",
      "C:\\Users\\izaque23003\\OneDrive - ILUM ESCOLA DE CIÊNCIA\\ilum_3s\\ip_3\\base_dados_fase1\\SSHADE\\dados_campos_novos\\ Fe K edge XAS transmission of bulk MET01070 CM chondrite.xdi_new.xdi\n",
      "O arquivo C:\\Users\\izaque23003\\Downloads\\ip3\\SSHADE\\convertidos\\Fe\\ Fe K edge XAS transmission of bulk MET01070 CM chondrite.xdi foi reescrito e salvo na pasta C:\\Users\\izaque23003\\OneDrive - ILUM ESCOLA DE CIÊNCIA\\ilum_3s\\ip_3\\base_dados_fase1\\SSHADE\\dados_campos_novos\\ Fe K edge XAS transmission of bulk MET01070 CM chondrite.xdi_new.xdi\n",
      "C:\\Users\\izaque23003\\OneDrive - ILUM ESCOLA DE CIÊNCIA\\ilum_3s\\ip_3\\base_dados_fase1\\SSHADE\\dados_campos_novos\\ Fe K edge XAS transmission of bulk Mighei CM chondrite.xdi_new.xdi\n",
      "O arquivo C:\\Users\\izaque23003\\Downloads\\ip3\\SSHADE\\convertidos\\Fe\\ Fe K edge XAS transmission of bulk Mighei CM chondrite.xdi foi reescrito e salvo na pasta C:\\Users\\izaque23003\\OneDrive - ILUM ESCOLA DE CIÊNCIA\\ilum_3s\\ip_3\\base_dados_fase1\\SSHADE\\dados_campos_novos\\ Fe K edge XAS transmission of bulk Mighei CM chondrite.xdi_new.xdi\n"
     ]
    },
    {
     "name": "stdout",
     "output_type": "stream",
     "text": [
      "C:\\Users\\izaque23003\\OneDrive - ILUM ESCOLA DE CIÊNCIA\\ilum_3s\\ip_3\\base_dados_fase1\\SSHADE\\dados_campos_novos\\ Fe K edge XAS transmission of bulk MIL07700 CM chondrite.xdi_new.xdi\n",
      "O arquivo C:\\Users\\izaque23003\\Downloads\\ip3\\SSHADE\\convertidos\\Fe\\ Fe K edge XAS transmission of bulk MIL07700 CM chondrite.xdi foi reescrito e salvo na pasta C:\\Users\\izaque23003\\OneDrive - ILUM ESCOLA DE CIÊNCIA\\ilum_3s\\ip_3\\base_dados_fase1\\SSHADE\\dados_campos_novos\\ Fe K edge XAS transmission of bulk MIL07700 CM chondrite.xdi_new.xdi\n",
      "C:\\Users\\izaque23003\\OneDrive - ILUM ESCOLA DE CIÊNCIA\\ilum_3s\\ip_3\\base_dados_fase1\\SSHADE\\dados_campos_novos\\ Fe K edge XAS transmission of bulk MOKOIA CV chondrite.xdi_new.xdi\n",
      "O arquivo C:\\Users\\izaque23003\\Downloads\\ip3\\SSHADE\\convertidos\\Fe\\ Fe K edge XAS transmission of bulk MOKOIA CV chondrite.xdi foi reescrito e salvo na pasta C:\\Users\\izaque23003\\OneDrive - ILUM ESCOLA DE CIÊNCIA\\ilum_3s\\ip_3\\base_dados_fase1\\SSHADE\\dados_campos_novos\\ Fe K edge XAS transmission of bulk MOKOIA CV chondrite.xdi_new.xdi\n",
      "C:\\Users\\izaque23003\\OneDrive - ILUM ESCOLA DE CIÊNCIA\\ilum_3s\\ip_3\\base_dados_fase1\\SSHADE\\dados_campos_novos\\ Fe K edge XAS transmission of bulk Murchison CM chondrite.xdi_new.xdi\n",
      "O arquivo C:\\Users\\izaque23003\\Downloads\\ip3\\SSHADE\\convertidos\\Fe\\ Fe K edge XAS transmission of bulk Murchison CM chondrite.xdi foi reescrito e salvo na pasta C:\\Users\\izaque23003\\OneDrive - ILUM ESCOLA DE CIÊNCIA\\ilum_3s\\ip_3\\base_dados_fase1\\SSHADE\\dados_campos_novos\\ Fe K edge XAS transmission of bulk Murchison CM chondrite.xdi_new.xdi\n",
      "C:\\Users\\izaque23003\\OneDrive - ILUM ESCOLA DE CIÊNCIA\\ilum_3s\\ip_3\\base_dados_fase1\\SSHADE\\dados_campos_novos\\ Fe K edge XAS transmission of bulk Murray CM chondrite.xdi_new.xdi\n",
      "O arquivo C:\\Users\\izaque23003\\Downloads\\ip3\\SSHADE\\convertidos\\Fe\\ Fe K edge XAS transmission of bulk Murray CM chondrite.xdi foi reescrito e salvo na pasta C:\\Users\\izaque23003\\OneDrive - ILUM ESCOLA DE CIÊNCIA\\ilum_3s\\ip_3\\base_dados_fase1\\SSHADE\\dados_campos_novos\\ Fe K edge XAS transmission of bulk Murray CM chondrite.xdi_new.xdi\n",
      "C:\\Users\\izaque23003\\OneDrive - ILUM ESCOLA DE CIÊNCIA\\ilum_3s\\ip_3\\base_dados_fase1\\SSHADE\\dados_campos_novos\\ Fe K edge XAS transmission of bulk Niger CM chondrite.xdi_new.xdi\n",
      "O arquivo C:\\Users\\izaque23003\\Downloads\\ip3\\SSHADE\\convertidos\\Fe\\ Fe K edge XAS transmission of bulk Niger CM chondrite.xdi foi reescrito e salvo na pasta C:\\Users\\izaque23003\\OneDrive - ILUM ESCOLA DE CIÊNCIA\\ilum_3s\\ip_3\\base_dados_fase1\\SSHADE\\dados_campos_novos\\ Fe K edge XAS transmission of bulk Niger CM chondrite.xdi_new.xdi\n",
      "C:\\Users\\izaque23003\\OneDrive - ILUM ESCOLA DE CIÊNCIA\\ilum_3s\\ip_3\\base_dados_fase1\\SSHADE\\dados_campos_novos\\ Fe K edge XAS transmission of bulk Nogoya CM chondrite.xdi_new.xdi\n",
      "O arquivo C:\\Users\\izaque23003\\Downloads\\ip3\\SSHADE\\convertidos\\Fe\\ Fe K edge XAS transmission of bulk Nogoya CM chondrite.xdi foi reescrito e salvo na pasta C:\\Users\\izaque23003\\OneDrive - ILUM ESCOLA DE CIÊNCIA\\ilum_3s\\ip_3\\base_dados_fase1\\SSHADE\\dados_campos_novos\\ Fe K edge XAS transmission of bulk Nogoya CM chondrite.xdi_new.xdi\n",
      "C:\\Users\\izaque23003\\OneDrive - ILUM ESCOLA DE CIÊNCIA\\ilum_3s\\ip_3\\base_dados_fase1\\SSHADE\\dados_campos_novos\\ Fe K edge XAS transmission of bulk Orgueil CI chondrite.xdi_new.xdi\n",
      "O arquivo C:\\Users\\izaque23003\\Downloads\\ip3\\SSHADE\\convertidos\\Fe\\ Fe K edge XAS transmission of bulk Orgueil CI chondrite.xdi foi reescrito e salvo na pasta C:\\Users\\izaque23003\\OneDrive - ILUM ESCOLA DE CIÊNCIA\\ilum_3s\\ip_3\\base_dados_fase1\\SSHADE\\dados_campos_novos\\ Fe K edge XAS transmission of bulk Orgueil CI chondrite.xdi_new.xdi\n",
      "C:\\Users\\izaque23003\\OneDrive - ILUM ESCOLA DE CIÊNCIA\\ilum_3s\\ip_3\\base_dados_fase1\\SSHADE\\dados_campos_novos\\ Fe K edge XAS transmission of bulk PCA02010 CM chondrite.xdi_new.xdi\n",
      "O arquivo C:\\Users\\izaque23003\\Downloads\\ip3\\SSHADE\\convertidos\\Fe\\ Fe K edge XAS transmission of bulk PCA02010 CM chondrite.xdi foi reescrito e salvo na pasta C:\\Users\\izaque23003\\OneDrive - ILUM ESCOLA DE CIÊNCIA\\ilum_3s\\ip_3\\base_dados_fase1\\SSHADE\\dados_campos_novos\\ Fe K edge XAS transmission of bulk PCA02010 CM chondrite.xdi_new.xdi\n",
      "C:\\Users\\izaque23003\\OneDrive - ILUM ESCOLA DE CIÊNCIA\\ilum_3s\\ip_3\\base_dados_fase1\\SSHADE\\dados_campos_novos\\ Fe K edge XAS transmission of bulk PCA02012 CM chondrite.xdi_new.xdi\n",
      "O arquivo C:\\Users\\izaque23003\\Downloads\\ip3\\SSHADE\\convertidos\\Fe\\ Fe K edge XAS transmission of bulk PCA02012 CM chondrite.xdi foi reescrito e salvo na pasta C:\\Users\\izaque23003\\OneDrive - ILUM ESCOLA DE CIÊNCIA\\ilum_3s\\ip_3\\base_dados_fase1\\SSHADE\\dados_campos_novos\\ Fe K edge XAS transmission of bulk PCA02012 CM chondrite.xdi_new.xdi\n",
      "C:\\Users\\izaque23003\\OneDrive - ILUM ESCOLA DE CIÊNCIA\\ilum_3s\\ip_3\\base_dados_fase1\\SSHADE\\dados_campos_novos\\ Fe K edge XAS transmission of bulk PCA91008 CM chondrite.xdi_new.xdi\n",
      "O arquivo C:\\Users\\izaque23003\\Downloads\\ip3\\SSHADE\\convertidos\\Fe\\ Fe K edge XAS transmission of bulk PCA91008 CM chondrite.xdi foi reescrito e salvo na pasta C:\\Users\\izaque23003\\OneDrive - ILUM ESCOLA DE CIÊNCIA\\ilum_3s\\ip_3\\base_dados_fase1\\SSHADE\\dados_campos_novos\\ Fe K edge XAS transmission of bulk PCA91008 CM chondrite.xdi_new.xdi\n",
      "C:\\Users\\izaque23003\\OneDrive - ILUM ESCOLA DE CIÊNCIA\\ilum_3s\\ip_3\\base_dados_fase1\\SSHADE\\dados_campos_novos\\ Fe K edge XAS transmission of bulk QUE93005 heated CM chondrite.xdi_new.xdi\n",
      "O arquivo C:\\Users\\izaque23003\\Downloads\\ip3\\SSHADE\\convertidos\\Fe\\ Fe K edge XAS transmission of bulk QUE93005 heated CM chondrite.xdi foi reescrito e salvo na pasta C:\\Users\\izaque23003\\OneDrive - ILUM ESCOLA DE CIÊNCIA\\ilum_3s\\ip_3\\base_dados_fase1\\SSHADE\\dados_campos_novos\\ Fe K edge XAS transmission of bulk QUE93005 heated CM chondrite.xdi_new.xdi\n",
      "C:\\Users\\izaque23003\\OneDrive - ILUM ESCOLA DE CIÊNCIA\\ilum_3s\\ip_3\\base_dados_fase1\\SSHADE\\dados_campos_novos\\ Fe K edge XAS transmission of bulk QUE97990 CM chondrite.xdi_new.xdi\n",
      "O arquivo C:\\Users\\izaque23003\\Downloads\\ip3\\SSHADE\\convertidos\\Fe\\ Fe K edge XAS transmission of bulk QUE97990 CM chondrite.xdi foi reescrito e salvo na pasta C:\\Users\\izaque23003\\OneDrive - ILUM ESCOLA DE CIÊNCIA\\ilum_3s\\ip_3\\base_dados_fase1\\SSHADE\\dados_campos_novos\\ Fe K edge XAS transmission of bulk QUE97990 CM chondrite.xdi_new.xdi\n",
      "C:\\Users\\izaque23003\\OneDrive - ILUM ESCOLA DE CIÊNCIA\\ilum_3s\\ip_3\\base_dados_fase1\\SSHADE\\dados_campos_novos\\ Fe K edge XAS transmission of bulk RBT04133 CV chondrite.xdi_new.xdi\n",
      "O arquivo C:\\Users\\izaque23003\\Downloads\\ip3\\SSHADE\\convertidos\\Fe\\ Fe K edge XAS transmission of bulk RBT04133 CV chondrite.xdi foi reescrito e salvo na pasta C:\\Users\\izaque23003\\OneDrive - ILUM ESCOLA DE CIÊNCIA\\ilum_3s\\ip_3\\base_dados_fase1\\SSHADE\\dados_campos_novos\\ Fe K edge XAS transmission of bulk RBT04133 CV chondrite.xdi_new.xdi\n",
      "C:\\Users\\izaque23003\\OneDrive - ILUM ESCOLA DE CIÊNCIA\\ilum_3s\\ip_3\\base_dados_fase1\\SSHADE\\dados_campos_novos\\ Fe K edge XAS transmission of bulk RENAZZO CR chondrite.xdi_new.xdi\n",
      "O arquivo C:\\Users\\izaque23003\\Downloads\\ip3\\SSHADE\\convertidos\\Fe\\ Fe K edge XAS transmission of bulk RENAZZO CR chondrite.xdi foi reescrito e salvo na pasta C:\\Users\\izaque23003\\OneDrive - ILUM ESCOLA DE CIÊNCIA\\ilum_3s\\ip_3\\base_dados_fase1\\SSHADE\\dados_campos_novos\\ Fe K edge XAS transmission of bulk RENAZZO CR chondrite.xdi_new.xdi\n",
      "C:\\Users\\izaque23003\\OneDrive - ILUM ESCOLA DE CIÊNCIA\\ilum_3s\\ip_3\\base_dados_fase1\\SSHADE\\dados_campos_novos\\ Fe K edge XAS transmission of bulk VIGARANO CV chondrite.xdi_new.xdi\n",
      "O arquivo C:\\Users\\izaque23003\\Downloads\\ip3\\SSHADE\\convertidos\\Fe\\ Fe K edge XAS transmission of bulk VIGARANO CV chondrite.xdi foi reescrito e salvo na pasta C:\\Users\\izaque23003\\OneDrive - ILUM ESCOLA DE CIÊNCIA\\ilum_3s\\ip_3\\base_dados_fase1\\SSHADE\\dados_campos_novos\\ Fe K edge XAS transmission of bulk VIGARANO CV chondrite.xdi_new.xdi\n",
      "C:\\Users\\izaque23003\\OneDrive - ILUM ESCOLA DE CIÊNCIA\\ilum_3s\\ip_3\\base_dados_fase1\\SSHADE\\dados_campos_novos\\ Fe K edge XAS transmission of bulk WIS91600 CM chondrite.xdi_new.xdi\n",
      "O arquivo C:\\Users\\izaque23003\\Downloads\\ip3\\SSHADE\\convertidos\\Fe\\ Fe K edge XAS transmission of bulk WIS91600 CM chondrite.xdi foi reescrito e salvo na pasta C:\\Users\\izaque23003\\OneDrive - ILUM ESCOLA DE CIÊNCIA\\ilum_3s\\ip_3\\base_dados_fase1\\SSHADE\\dados_campos_novos\\ Fe K edge XAS transmission of bulk WIS91600 CM chondrite.xdi_new.xdi\n",
      "C:\\Users\\izaque23003\\OneDrive - ILUM ESCOLA DE CIÊNCIA\\ilum_3s\\ip_3\\base_dados_fase1\\SSHADE\\dados_campos_novos\\ Fe K edge XAS transmission of natural ankerite Ca(Fe,Mg,Mn)(CO3)2 at ambient conditions.xdi_new.xdi\n",
      "O arquivo C:\\Users\\izaque23003\\Downloads\\ip3\\SSHADE\\convertidos\\Fe\\ Fe K edge XAS transmission of natural ankerite Ca(Fe,Mg,Mn)(CO3)2 at ambient conditions.xdi foi reescrito e salvo na pasta C:\\Users\\izaque23003\\OneDrive - ILUM ESCOLA DE CIÊNCIA\\ilum_3s\\ip_3\\base_dados_fase1\\SSHADE\\dados_campos_novos\\ Fe K edge XAS transmission of natural ankerite Ca(Fe,Mg,Mn)(CO3)2 at ambient conditions.xdi_new.xdi\n",
      "C:\\Users\\izaque23003\\OneDrive - ILUM ESCOLA DE CIÊNCIA\\ilum_3s\\ip_3\\base_dados_fase1\\SSHADE\\dados_campos_novos\\ Fe K edge XAS transmission of natural goethite FeO(OH) at ambient conditions.xdi_new.xdi\n",
      "O arquivo C:\\Users\\izaque23003\\Downloads\\ip3\\SSHADE\\convertidos\\Fe\\ Fe K edge XAS transmission of natural goethite FeO(OH) at ambient conditions.xdi foi reescrito e salvo na pasta C:\\Users\\izaque23003\\OneDrive - ILUM ESCOLA DE CIÊNCIA\\ilum_3s\\ip_3\\base_dados_fase1\\SSHADE\\dados_campos_novos\\ Fe K edge XAS transmission of natural goethite FeO(OH) at ambient conditions.xdi_new.xdi\n",
      "C:\\Users\\izaque23003\\OneDrive - ILUM ESCOLA DE CIÊNCIA\\ilum_3s\\ip_3\\base_dados_fase1\\SSHADE\\dados_campos_novos\\ Fe K edge XAS transmission of natural hedenbergite CaFeSi2O6 at ambient conditions.xdi_new.xdi\n",
      "O arquivo C:\\Users\\izaque23003\\Downloads\\ip3\\SSHADE\\convertidos\\Fe\\ Fe K edge XAS transmission of natural hedenbergite CaFeSi2O6 at ambient conditions.xdi foi reescrito e salvo na pasta C:\\Users\\izaque23003\\OneDrive - ILUM ESCOLA DE CIÊNCIA\\ilum_3s\\ip_3\\base_dados_fase1\\SSHADE\\dados_campos_novos\\ Fe K edge XAS transmission of natural hedenbergite CaFeSi2O6 at ambient conditions.xdi_new.xdi\n",
      "C:\\Users\\izaque23003\\OneDrive - ILUM ESCOLA DE CIÊNCIA\\ilum_3s\\ip_3\\base_dados_fase1\\SSHADE\\dados_campos_novos\\ Fe K edge XAS transmission of natural magnetite Fe3O4 at ambient conditions.xdi_new.xdi\n",
      "O arquivo C:\\Users\\izaque23003\\Downloads\\ip3\\SSHADE\\convertidos\\Fe\\ Fe K edge XAS transmission of natural magnetite Fe3O4 at ambient conditions.xdi foi reescrito e salvo na pasta C:\\Users\\izaque23003\\OneDrive - ILUM ESCOLA DE CIÊNCIA\\ilum_3s\\ip_3\\base_dados_fase1\\SSHADE\\dados_campos_novos\\ Fe K edge XAS transmission of natural magnetite Fe3O4 at ambient conditions.xdi_new.xdi\n",
      "C:\\Users\\izaque23003\\OneDrive - ILUM ESCOLA DE CIÊNCIA\\ilum_3s\\ip_3\\base_dados_fase1\\SSHADE\\dados_campos_novos\\ Fe K edge XAS transmission of natural siderite FeCO3 at ambient conditions.xdi_new.xdi\n",
      "O arquivo C:\\Users\\izaque23003\\Downloads\\ip3\\SSHADE\\convertidos\\Fe\\ Fe K edge XAS transmission of natural siderite FeCO3 at ambient conditions.xdi foi reescrito e salvo na pasta C:\\Users\\izaque23003\\OneDrive - ILUM ESCOLA DE CIÊNCIA\\ilum_3s\\ip_3\\base_dados_fase1\\SSHADE\\dados_campos_novos\\ Fe K edge XAS transmission of natural siderite FeCO3 at ambient conditions.xdi_new.xdi\n",
      "C:\\Users\\izaque23003\\OneDrive - ILUM ESCOLA DE CIÊNCIA\\ilum_3s\\ip_3\\base_dados_fase1\\SSHADE\\dados_campos_novos\\ Fe K edge XAS transmission of synthetic fayalite Fe2SiO4 at ambient conditions.xdi_new.xdi\n",
      "O arquivo C:\\Users\\izaque23003\\Downloads\\ip3\\SSHADE\\convertidos\\Fe\\ Fe K edge XAS transmission of synthetic fayalite Fe2SiO4 at ambient conditions.xdi foi reescrito e salvo na pasta C:\\Users\\izaque23003\\OneDrive - ILUM ESCOLA DE CIÊNCIA\\ilum_3s\\ip_3\\base_dados_fase1\\SSHADE\\dados_campos_novos\\ Fe K edge XAS transmission of synthetic fayalite Fe2SiO4 at ambient conditions.xdi_new.xdi\n",
      "C:\\Users\\izaque23003\\OneDrive - ILUM ESCOLA DE CIÊNCIA\\ilum_3s\\ip_3\\base_dados_fase1\\SSHADE\\dados_campos_novos\\ Ga K edge XAS fluorescence of gallium bromide solution (Ga3+ 0.017m, Br- 0.051m) at 300bar and 300K.xdi_new.xdi\n",
      "O arquivo C:\\Users\\izaque23003\\Downloads\\ip3\\SSHADE\\convertidos\\Ga\\ Ga K edge XAS fluorescence of gallium bromide solution (Ga3+ 0.017m, Br- 0.051m) at 300bar and 300K.xdi foi reescrito e salvo na pasta C:\\Users\\izaque23003\\OneDrive - ILUM ESCOLA DE CIÊNCIA\\ilum_3s\\ip_3\\base_dados_fase1\\SSHADE\\dados_campos_novos\\ Ga K edge XAS fluorescence of gallium bromide solution (Ga3+ 0.017m, Br- 0.051m) at 300bar and 300K.xdi_new.xdi\n"
     ]
    },
    {
     "name": "stdout",
     "output_type": "stream",
     "text": [
      "C:\\Users\\izaque23003\\OneDrive - ILUM ESCOLA DE CIÊNCIA\\ilum_3s\\ip_3\\base_dados_fase1\\SSHADE\\dados_campos_novos\\ Ga K edge XAS fluorescence of gallium bromide solution (Ga3+ 0.017m, Br- 0.051m) at 300bar and 370K.xdi_new.xdi\n",
      "O arquivo C:\\Users\\izaque23003\\Downloads\\ip3\\SSHADE\\convertidos\\Ga\\ Ga K edge XAS fluorescence of gallium bromide solution (Ga3+ 0.017m, Br- 0.051m) at 300bar and 370K.xdi foi reescrito e salvo na pasta C:\\Users\\izaque23003\\OneDrive - ILUM ESCOLA DE CIÊNCIA\\ilum_3s\\ip_3\\base_dados_fase1\\SSHADE\\dados_campos_novos\\ Ga K edge XAS fluorescence of gallium bromide solution (Ga3+ 0.017m, Br- 0.051m) at 300bar and 370K.xdi_new.xdi\n",
      "C:\\Users\\izaque23003\\OneDrive - ILUM ESCOLA DE CIÊNCIA\\ilum_3s\\ip_3\\base_dados_fase1\\SSHADE\\dados_campos_novos\\ Ga K edge XAS fluorescence of gallium bromide solution (Ga3+ 0.017m, Br- 0.051m) at 300bar and 420K.xdi_new.xdi\n",
      "O arquivo C:\\Users\\izaque23003\\Downloads\\ip3\\SSHADE\\convertidos\\Ga\\ Ga K edge XAS fluorescence of gallium bromide solution (Ga3+ 0.017m, Br- 0.051m) at 300bar and 420K.xdi foi reescrito e salvo na pasta C:\\Users\\izaque23003\\OneDrive - ILUM ESCOLA DE CIÊNCIA\\ilum_3s\\ip_3\\base_dados_fase1\\SSHADE\\dados_campos_novos\\ Ga K edge XAS fluorescence of gallium bromide solution (Ga3+ 0.017m, Br- 0.051m) at 300bar and 420K.xdi_new.xdi\n",
      "C:\\Users\\izaque23003\\OneDrive - ILUM ESCOLA DE CIÊNCIA\\ilum_3s\\ip_3\\base_dados_fase1\\SSHADE\\dados_campos_novos\\ Ga K edge XAS fluorescence of gallium bromide solution (Ga3+ 0.017m, Br- 0.051m) at 300bar and 470K.xdi_new.xdi\n",
      "O arquivo C:\\Users\\izaque23003\\Downloads\\ip3\\SSHADE\\convertidos\\Ga\\ Ga K edge XAS fluorescence of gallium bromide solution (Ga3+ 0.017m, Br- 0.051m) at 300bar and 470K.xdi foi reescrito e salvo na pasta C:\\Users\\izaque23003\\OneDrive - ILUM ESCOLA DE CIÊNCIA\\ilum_3s\\ip_3\\base_dados_fase1\\SSHADE\\dados_campos_novos\\ Ga K edge XAS fluorescence of gallium bromide solution (Ga3+ 0.017m, Br- 0.051m) at 300bar and 470K.xdi_new.xdi\n",
      "C:\\Users\\izaque23003\\OneDrive - ILUM ESCOLA DE CIÊNCIA\\ilum_3s\\ip_3\\base_dados_fase1\\SSHADE\\dados_campos_novos\\ Ga K edge XAS fluorescence of gallium bromide solution (Ga3+ 0.017m, Br- 0.051m) at 300bar and 560K.xdi_new.xdi\n",
      "O arquivo C:\\Users\\izaque23003\\Downloads\\ip3\\SSHADE\\convertidos\\Ga\\ Ga K edge XAS fluorescence of gallium bromide solution (Ga3+ 0.017m, Br- 0.051m) at 300bar and 560K.xdi foi reescrito e salvo na pasta C:\\Users\\izaque23003\\OneDrive - ILUM ESCOLA DE CIÊNCIA\\ilum_3s\\ip_3\\base_dados_fase1\\SSHADE\\dados_campos_novos\\ Ga K edge XAS fluorescence of gallium bromide solution (Ga3+ 0.017m, Br- 0.051m) at 300bar and 560K.xdi_new.xdi\n",
      "C:\\Users\\izaque23003\\OneDrive - ILUM ESCOLA DE CIÊNCIA\\ilum_3s\\ip_3\\base_dados_fase1\\SSHADE\\dados_campos_novos\\ Ga K edge XAS fluorescence of gallium bromide solution (Ga3+ 0.017m, Br- 0.051m) at 300bar and 605K.xdi_new.xdi\n",
      "O arquivo C:\\Users\\izaque23003\\Downloads\\ip3\\SSHADE\\convertidos\\Ga\\ Ga K edge XAS fluorescence of gallium bromide solution (Ga3+ 0.017m, Br- 0.051m) at 300bar and 605K.xdi foi reescrito e salvo na pasta C:\\Users\\izaque23003\\OneDrive - ILUM ESCOLA DE CIÊNCIA\\ilum_3s\\ip_3\\base_dados_fase1\\SSHADE\\dados_campos_novos\\ Ga K edge XAS fluorescence of gallium bromide solution (Ga3+ 0.017m, Br- 0.051m) at 300bar and 605K.xdi_new.xdi\n",
      "C:\\Users\\izaque23003\\OneDrive - ILUM ESCOLA DE CIÊNCIA\\ilum_3s\\ip_3\\base_dados_fase1\\SSHADE\\dados_campos_novos\\ Ga K edge XAS fluorescence of gallium bromide solution (Ga3+ 0.017m, Br- 0.051m) at 300bar and 630K.xdi_new.xdi\n",
      "O arquivo C:\\Users\\izaque23003\\Downloads\\ip3\\SSHADE\\convertidos\\Ga\\ Ga K edge XAS fluorescence of gallium bromide solution (Ga3+ 0.017m, Br- 0.051m) at 300bar and 630K.xdi foi reescrito e salvo na pasta C:\\Users\\izaque23003\\OneDrive - ILUM ESCOLA DE CIÊNCIA\\ilum_3s\\ip_3\\base_dados_fase1\\SSHADE\\dados_campos_novos\\ Ga K edge XAS fluorescence of gallium bromide solution (Ga3+ 0.017m, Br- 0.051m) at 300bar and 630K.xdi_new.xdi\n",
      "C:\\Users\\izaque23003\\OneDrive - ILUM ESCOLA DE CIÊNCIA\\ilum_3s\\ip_3\\base_dados_fase1\\SSHADE\\dados_campos_novos\\ Ga K edge XAS fluorescence of gallium bromide solution (Ga3+ 0.017m, Br- 0.051m) at 300bar and 650K.xdi_new.xdi\n",
      "O arquivo C:\\Users\\izaque23003\\Downloads\\ip3\\SSHADE\\convertidos\\Ga\\ Ga K edge XAS fluorescence of gallium bromide solution (Ga3+ 0.017m, Br- 0.051m) at 300bar and 650K.xdi foi reescrito e salvo na pasta C:\\Users\\izaque23003\\OneDrive - ILUM ESCOLA DE CIÊNCIA\\ilum_3s\\ip_3\\base_dados_fase1\\SSHADE\\dados_campos_novos\\ Ga K edge XAS fluorescence of gallium bromide solution (Ga3+ 0.017m, Br- 0.051m) at 300bar and 650K.xdi_new.xdi\n",
      "C:\\Users\\izaque23003\\OneDrive - ILUM ESCOLA DE CIÊNCIA\\ilum_3s\\ip_3\\base_dados_fase1\\SSHADE\\dados_campos_novos\\ Ga K edge XAS fluorescence of gallium bromide solution (Ga3+ 0.017m, Br- 0.051m) at 300bar and 670K.xdi_new.xdi\n",
      "O arquivo C:\\Users\\izaque23003\\Downloads\\ip3\\SSHADE\\convertidos\\Ga\\ Ga K edge XAS fluorescence of gallium bromide solution (Ga3+ 0.017m, Br- 0.051m) at 300bar and 670K.xdi foi reescrito e salvo na pasta C:\\Users\\izaque23003\\OneDrive - ILUM ESCOLA DE CIÊNCIA\\ilum_3s\\ip_3\\base_dados_fase1\\SSHADE\\dados_campos_novos\\ Ga K edge XAS fluorescence of gallium bromide solution (Ga3+ 0.017m, Br- 0.051m) at 300bar and 670K.xdi_new.xdi\n",
      "C:\\Users\\izaque23003\\OneDrive - ILUM ESCOLA DE CIÊNCIA\\ilum_3s\\ip_3\\base_dados_fase1\\SSHADE\\dados_campos_novos\\ Ga K edge XAS fluorescence of gallium bromide solution (Ga3+ 0.17m, Br- 0.51m) at 300bar and 300K.xdi_new.xdi\n",
      "O arquivo C:\\Users\\izaque23003\\Downloads\\ip3\\SSHADE\\convertidos\\Ga\\ Ga K edge XAS fluorescence of gallium bromide solution (Ga3+ 0.17m, Br- 0.51m) at 300bar and 300K.xdi foi reescrito e salvo na pasta C:\\Users\\izaque23003\\OneDrive - ILUM ESCOLA DE CIÊNCIA\\ilum_3s\\ip_3\\base_dados_fase1\\SSHADE\\dados_campos_novos\\ Ga K edge XAS fluorescence of gallium bromide solution (Ga3+ 0.17m, Br- 0.51m) at 300bar and 300K.xdi_new.xdi\n",
      "C:\\Users\\izaque23003\\OneDrive - ILUM ESCOLA DE CIÊNCIA\\ilum_3s\\ip_3\\base_dados_fase1\\SSHADE\\dados_campos_novos\\ Ga K edge XAS fluorescence of gallium bromide solution (Ga3+ 0.17m, Br- 0.51m) at 300bar and 370K.xdi_new.xdi\n",
      "O arquivo C:\\Users\\izaque23003\\Downloads\\ip3\\SSHADE\\convertidos\\Ga\\ Ga K edge XAS fluorescence of gallium bromide solution (Ga3+ 0.17m, Br- 0.51m) at 300bar and 370K.xdi foi reescrito e salvo na pasta C:\\Users\\izaque23003\\OneDrive - ILUM ESCOLA DE CIÊNCIA\\ilum_3s\\ip_3\\base_dados_fase1\\SSHADE\\dados_campos_novos\\ Ga K edge XAS fluorescence of gallium bromide solution (Ga3+ 0.17m, Br- 0.51m) at 300bar and 370K.xdi_new.xdi\n",
      "C:\\Users\\izaque23003\\OneDrive - ILUM ESCOLA DE CIÊNCIA\\ilum_3s\\ip_3\\base_dados_fase1\\SSHADE\\dados_campos_novos\\ Ga K edge XAS fluorescence of gallium bromide solution (Ga3+ 0.17m, Br- 0.51m) at 300bar and 470K.xdi_new.xdi\n",
      "O arquivo C:\\Users\\izaque23003\\Downloads\\ip3\\SSHADE\\convertidos\\Ga\\ Ga K edge XAS fluorescence of gallium bromide solution (Ga3+ 0.17m, Br- 0.51m) at 300bar and 470K.xdi foi reescrito e salvo na pasta C:\\Users\\izaque23003\\OneDrive - ILUM ESCOLA DE CIÊNCIA\\ilum_3s\\ip_3\\base_dados_fase1\\SSHADE\\dados_campos_novos\\ Ga K edge XAS fluorescence of gallium bromide solution (Ga3+ 0.17m, Br- 0.51m) at 300bar and 470K.xdi_new.xdi\n",
      "C:\\Users\\izaque23003\\OneDrive - ILUM ESCOLA DE CIÊNCIA\\ilum_3s\\ip_3\\base_dados_fase1\\SSHADE\\dados_campos_novos\\ Ga K edge XAS fluorescence of gallium bromide solution (Ga3+ 0.17m, Br- 0.51m) at 300bar and 560K.xdi_new.xdi\n",
      "O arquivo C:\\Users\\izaque23003\\Downloads\\ip3\\SSHADE\\convertidos\\Ga\\ Ga K edge XAS fluorescence of gallium bromide solution (Ga3+ 0.17m, Br- 0.51m) at 300bar and 560K.xdi foi reescrito e salvo na pasta C:\\Users\\izaque23003\\OneDrive - ILUM ESCOLA DE CIÊNCIA\\ilum_3s\\ip_3\\base_dados_fase1\\SSHADE\\dados_campos_novos\\ Ga K edge XAS fluorescence of gallium bromide solution (Ga3+ 0.17m, Br- 0.51m) at 300bar and 560K.xdi_new.xdi\n",
      "C:\\Users\\izaque23003\\OneDrive - ILUM ESCOLA DE CIÊNCIA\\ilum_3s\\ip_3\\base_dados_fase1\\SSHADE\\dados_campos_novos\\ Ga K edge XAS fluorescence of gallium bromide solution (Ga3+ 0.17m, Br- 0.51m) at 300bar and 605K.xdi_new.xdi\n",
      "O arquivo C:\\Users\\izaque23003\\Downloads\\ip3\\SSHADE\\convertidos\\Ga\\ Ga K edge XAS fluorescence of gallium bromide solution (Ga3+ 0.17m, Br- 0.51m) at 300bar and 605K.xdi foi reescrito e salvo na pasta C:\\Users\\izaque23003\\OneDrive - ILUM ESCOLA DE CIÊNCIA\\ilum_3s\\ip_3\\base_dados_fase1\\SSHADE\\dados_campos_novos\\ Ga K edge XAS fluorescence of gallium bromide solution (Ga3+ 0.17m, Br- 0.51m) at 300bar and 605K.xdi_new.xdi\n"
     ]
    },
    {
     "name": "stdout",
     "output_type": "stream",
     "text": [
      "C:\\Users\\izaque23003\\OneDrive - ILUM ESCOLA DE CIÊNCIA\\ilum_3s\\ip_3\\base_dados_fase1\\SSHADE\\dados_campos_novos\\ Ga K edge XAS fluorescence of gallium bromide solution (Ga3+ 0.17m, Br- 0.51m) at 300bar and 630K.xdi_new.xdi\n",
      "O arquivo C:\\Users\\izaque23003\\Downloads\\ip3\\SSHADE\\convertidos\\Ga\\ Ga K edge XAS fluorescence of gallium bromide solution (Ga3+ 0.17m, Br- 0.51m) at 300bar and 630K.xdi foi reescrito e salvo na pasta C:\\Users\\izaque23003\\OneDrive - ILUM ESCOLA DE CIÊNCIA\\ilum_3s\\ip_3\\base_dados_fase1\\SSHADE\\dados_campos_novos\\ Ga K edge XAS fluorescence of gallium bromide solution (Ga3+ 0.17m, Br- 0.51m) at 300bar and 630K.xdi_new.xdi\n",
      "C:\\Users\\izaque23003\\OneDrive - ILUM ESCOLA DE CIÊNCIA\\ilum_3s\\ip_3\\base_dados_fase1\\SSHADE\\dados_campos_novos\\ Ga K edge XAS fluorescence of gallium bromide solution (Ga3+ 0.17m, Br- 0.51m) at 300bar and 650K.xdi_new.xdi\n",
      "O arquivo C:\\Users\\izaque23003\\Downloads\\ip3\\SSHADE\\convertidos\\Ga\\ Ga K edge XAS fluorescence of gallium bromide solution (Ga3+ 0.17m, Br- 0.51m) at 300bar and 650K.xdi foi reescrito e salvo na pasta C:\\Users\\izaque23003\\OneDrive - ILUM ESCOLA DE CIÊNCIA\\ilum_3s\\ip_3\\base_dados_fase1\\SSHADE\\dados_campos_novos\\ Ga K edge XAS fluorescence of gallium bromide solution (Ga3+ 0.17m, Br- 0.51m) at 300bar and 650K.xdi_new.xdi\n",
      "C:\\Users\\izaque23003\\OneDrive - ILUM ESCOLA DE CIÊNCIA\\ilum_3s\\ip_3\\base_dados_fase1\\SSHADE\\dados_campos_novos\\ Hg L3 edge XAS HERFD of cinnabar at 10K.xdi_new.xdi\n",
      "O arquivo C:\\Users\\izaque23003\\Downloads\\ip3\\SSHADE\\convertidos\\Hg\\ Hg L3 edge XAS HERFD of cinnabar at 10K.xdi foi reescrito e salvo na pasta C:\\Users\\izaque23003\\OneDrive - ILUM ESCOLA DE CIÊNCIA\\ilum_3s\\ip_3\\base_dados_fase1\\SSHADE\\dados_campos_novos\\ Hg L3 edge XAS HERFD of cinnabar at 10K.xdi_new.xdi\n",
      "C:\\Users\\izaque23003\\OneDrive - ILUM ESCOLA DE CIÊNCIA\\ilum_3s\\ip_3\\base_dados_fase1\\SSHADE\\dados_campos_novos\\ Hg L3 edge XAS HERFD of cinnabar at room temperature.xdi_new.xdi\n",
      "O arquivo C:\\Users\\izaque23003\\Downloads\\ip3\\SSHADE\\convertidos\\Hg\\ Hg L3 edge XAS HERFD of cinnabar at room temperature.xdi foi reescrito e salvo na pasta C:\\Users\\izaque23003\\OneDrive - ILUM ESCOLA DE CIÊNCIA\\ilum_3s\\ip_3\\base_dados_fase1\\SSHADE\\dados_campos_novos\\ Hg L3 edge XAS HERFD of cinnabar at room temperature.xdi_new.xdi\n",
      "C:\\Users\\izaque23003\\OneDrive - ILUM ESCOLA DE CIÊNCIA\\ilum_3s\\ip_3\\base_dados_fase1\\SSHADE\\dados_campos_novos\\ Hg L3 edge XAS HERFD of Hg(Cysteine)2 at pH=11.6 at 10K.xdi_new.xdi\n",
      "O arquivo C:\\Users\\izaque23003\\Downloads\\ip3\\SSHADE\\convertidos\\Hg\\ Hg L3 edge XAS HERFD of Hg(Cysteine)2 at pH=11.6 at 10K.xdi foi reescrito e salvo na pasta C:\\Users\\izaque23003\\OneDrive - ILUM ESCOLA DE CIÊNCIA\\ilum_3s\\ip_3\\base_dados_fase1\\SSHADE\\dados_campos_novos\\ Hg L3 edge XAS HERFD of Hg(Cysteine)2 at pH=11.6 at 10K.xdi_new.xdi\n",
      "C:\\Users\\izaque23003\\OneDrive - ILUM ESCOLA DE CIÊNCIA\\ilum_3s\\ip_3\\base_dados_fase1\\SSHADE\\dados_campos_novos\\ Hg L3 edge XAS HERFD of Hg(Cysteine)2 at pH=3 at 10K.xdi_new.xdi\n",
      "O arquivo C:\\Users\\izaque23003\\Downloads\\ip3\\SSHADE\\convertidos\\Hg\\ Hg L3 edge XAS HERFD of Hg(Cysteine)2 at pH=3 at 10K.xdi foi reescrito e salvo na pasta C:\\Users\\izaque23003\\OneDrive - ILUM ESCOLA DE CIÊNCIA\\ilum_3s\\ip_3\\base_dados_fase1\\SSHADE\\dados_campos_novos\\ Hg L3 edge XAS HERFD of Hg(Cysteine)2 at pH=3 at 10K.xdi_new.xdi\n",
      "C:\\Users\\izaque23003\\OneDrive - ILUM ESCOLA DE CIÊNCIA\\ilum_3s\\ip_3\\base_dados_fase1\\SSHADE\\dados_campos_novos\\ Hg L3 edge XAS HERFD of Hg(Cysteine)4 at 10K.xdi_new.xdi\n",
      "O arquivo C:\\Users\\izaque23003\\Downloads\\ip3\\SSHADE\\convertidos\\Hg\\ Hg L3 edge XAS HERFD of Hg(Cysteine)4 at 10K.xdi foi reescrito e salvo na pasta C:\\Users\\izaque23003\\OneDrive - ILUM ESCOLA DE CIÊNCIA\\ilum_3s\\ip_3\\base_dados_fase1\\SSHADE\\dados_campos_novos\\ Hg L3 edge XAS HERFD of Hg(Cysteine)4 at 10K.xdi_new.xdi\n",
      "C:\\Users\\izaque23003\\OneDrive - ILUM ESCOLA DE CIÊNCIA\\ilum_3s\\ip_3\\base_dados_fase1\\SSHADE\\dados_campos_novos\\ Hg L3 edge XAS HERFD of metacinnabar at 10K.xdi_new.xdi\n",
      "O arquivo C:\\Users\\izaque23003\\Downloads\\ip3\\SSHADE\\convertidos\\Hg\\ Hg L3 edge XAS HERFD of metacinnabar at 10K.xdi foi reescrito e salvo na pasta C:\\Users\\izaque23003\\OneDrive - ILUM ESCOLA DE CIÊNCIA\\ilum_3s\\ip_3\\base_dados_fase1\\SSHADE\\dados_campos_novos\\ Hg L3 edge XAS HERFD of metacinnabar at 10K.xdi_new.xdi\n",
      "C:\\Users\\izaque23003\\OneDrive - ILUM ESCOLA DE CIÊNCIA\\ilum_3s\\ip_3\\base_dados_fase1\\SSHADE\\dados_campos_novos\\ Hg L3 edge XAS HERFD of metacinnabar at room temperature.xdi_new.xdi\n",
      "O arquivo C:\\Users\\izaque23003\\Downloads\\ip3\\SSHADE\\convertidos\\Hg\\ Hg L3 edge XAS HERFD of metacinnabar at room temperature.xdi foi reescrito e salvo na pasta C:\\Users\\izaque23003\\OneDrive - ILUM ESCOLA DE CIÊNCIA\\ilum_3s\\ip_3\\base_dados_fase1\\SSHADE\\dados_campos_novos\\ Hg L3 edge XAS HERFD of metacinnabar at room temperature.xdi_new.xdi\n",
      "C:\\Users\\izaque23003\\OneDrive - ILUM ESCOLA DE CIÊNCIA\\ilum_3s\\ip_3\\base_dados_fase1\\SSHADE\\dados_campos_novos\\ K-beta1,3 XES of synthetic cementite Fe3C at ambient conditions.xdi_new.xdi\n",
      "O arquivo C:\\Users\\izaque23003\\Downloads\\ip3\\SSHADE\\convertidos\\K\\ K-beta1,3 XES of synthetic cementite Fe3C at ambient conditions.xdi foi reescrito e salvo na pasta C:\\Users\\izaque23003\\OneDrive - ILUM ESCOLA DE CIÊNCIA\\ilum_3s\\ip_3\\base_dados_fase1\\SSHADE\\dados_campos_novos\\ K-beta1,3 XES of synthetic cementite Fe3C at ambient conditions.xdi_new.xdi\n",
      "C:\\Users\\izaque23003\\OneDrive - ILUM ESCOLA DE CIÊNCIA\\ilum_3s\\ip_3\\base_dados_fase1\\SSHADE\\dados_campos_novos\\ K-beta1,3 XES of synthetic HÃ¤gg-carbide Fe5C2 at ambient conditions.xdi_new.xdi\n",
      "O arquivo C:\\Users\\izaque23003\\Downloads\\ip3\\SSHADE\\convertidos\\K\\ K-beta1,3 XES of synthetic HÃ¤gg-carbide Fe5C2 at ambient conditions.xdi foi reescrito e salvo na pasta C:\\Users\\izaque23003\\OneDrive - ILUM ESCOLA DE CIÊNCIA\\ilum_3s\\ip_3\\base_dados_fase1\\SSHADE\\dados_campos_novos\\ K-beta1,3 XES of synthetic HÃ¤gg-carbide Fe5C2 at ambient conditions.xdi_new.xdi\n",
      "C:\\Users\\izaque23003\\OneDrive - ILUM ESCOLA DE CIÊNCIA\\ilum_3s\\ip_3\\base_dados_fase1\\SSHADE\\dados_campos_novos\\ K-beta1,3 XES of synthetic iron(II) oxide FeO at ambient conditions.xdi_new.xdi\n",
      "O arquivo C:\\Users\\izaque23003\\Downloads\\ip3\\SSHADE\\convertidos\\K\\ K-beta1,3 XES of synthetic iron(II) oxide FeO at ambient conditions.xdi foi reescrito e salvo na pasta C:\\Users\\izaque23003\\OneDrive - ILUM ESCOLA DE CIÊNCIA\\ilum_3s\\ip_3\\base_dados_fase1\\SSHADE\\dados_campos_novos\\ K-beta1,3 XES of synthetic iron(II) oxide FeO at ambient conditions.xdi_new.xdi\n",
      "C:\\Users\\izaque23003\\OneDrive - ILUM ESCOLA DE CIÊNCIA\\ilum_3s\\ip_3\\base_dados_fase1\\SSHADE\\dados_campos_novos\\ K-beta1,3 XES of synthetic maghemite gamma-Fe2O3 at ambient conditions.xdi_new.xdi\n",
      "O arquivo C:\\Users\\izaque23003\\Downloads\\ip3\\SSHADE\\convertidos\\K\\ K-beta1,3 XES of synthetic maghemite gamma-Fe2O3 at ambient conditions.xdi foi reescrito e salvo na pasta C:\\Users\\izaque23003\\OneDrive - ILUM ESCOLA DE CIÊNCIA\\ilum_3s\\ip_3\\base_dados_fase1\\SSHADE\\dados_campos_novos\\ K-beta1,3 XES of synthetic maghemite gamma-Fe2O3 at ambient conditions.xdi_new.xdi\n",
      "C:\\Users\\izaque23003\\OneDrive - ILUM ESCOLA DE CIÊNCIA\\ilum_3s\\ip_3\\base_dados_fase1\\SSHADE\\dados_campos_novos\\ K-beta1,3 XES of synthetic magnetite Fe3O4 at ambient conditions.xdi_new.xdi\n",
      "O arquivo C:\\Users\\izaque23003\\Downloads\\ip3\\SSHADE\\convertidos\\K\\ K-beta1,3 XES of synthetic magnetite Fe3O4 at ambient conditions.xdi foi reescrito e salvo na pasta C:\\Users\\izaque23003\\OneDrive - ILUM ESCOLA DE CIÊNCIA\\ilum_3s\\ip_3\\base_dados_fase1\\SSHADE\\dados_campos_novos\\ K-beta1,3 XES of synthetic magnetite Fe3O4 at ambient conditions.xdi_new.xdi\n",
      "C:\\Users\\izaque23003\\OneDrive - ILUM ESCOLA DE CIÊNCIA\\ilum_3s\\ip_3\\base_dados_fase1\\SSHADE\\dados_campos_novos\\ K-beta2,5 XES of synthetic cementite Fe3C at ambient conditions.xdi_new.xdi\n",
      "O arquivo C:\\Users\\izaque23003\\Downloads\\ip3\\SSHADE\\convertidos\\K\\ K-beta2,5 XES of synthetic cementite Fe3C at ambient conditions.xdi foi reescrito e salvo na pasta C:\\Users\\izaque23003\\OneDrive - ILUM ESCOLA DE CIÊNCIA\\ilum_3s\\ip_3\\base_dados_fase1\\SSHADE\\dados_campos_novos\\ K-beta2,5 XES of synthetic cementite Fe3C at ambient conditions.xdi_new.xdi\n",
      "C:\\Users\\izaque23003\\OneDrive - ILUM ESCOLA DE CIÊNCIA\\ilum_3s\\ip_3\\base_dados_fase1\\SSHADE\\dados_campos_novos\\ K-beta2,5 XES of synthetic HÃ¤gg-carbide Fe5C2 at ambient conditions.xdi_new.xdi\n",
      "O arquivo C:\\Users\\izaque23003\\Downloads\\ip3\\SSHADE\\convertidos\\K\\ K-beta2,5 XES of synthetic HÃ¤gg-carbide Fe5C2 at ambient conditions.xdi foi reescrito e salvo na pasta C:\\Users\\izaque23003\\OneDrive - ILUM ESCOLA DE CIÊNCIA\\ilum_3s\\ip_3\\base_dados_fase1\\SSHADE\\dados_campos_novos\\ K-beta2,5 XES of synthetic HÃ¤gg-carbide Fe5C2 at ambient conditions.xdi_new.xdi\n",
      "C:\\Users\\izaque23003\\OneDrive - ILUM ESCOLA DE CIÊNCIA\\ilum_3s\\ip_3\\base_dados_fase1\\SSHADE\\dados_campos_novos\\ K-beta2,5 XES of synthetic iron(II) oxide FeO at ambient conditions.xdi_new.xdi\n",
      "O arquivo C:\\Users\\izaque23003\\Downloads\\ip3\\SSHADE\\convertidos\\K\\ K-beta2,5 XES of synthetic iron(II) oxide FeO at ambient conditions.xdi foi reescrito e salvo na pasta C:\\Users\\izaque23003\\OneDrive - ILUM ESCOLA DE CIÊNCIA\\ilum_3s\\ip_3\\base_dados_fase1\\SSHADE\\dados_campos_novos\\ K-beta2,5 XES of synthetic iron(II) oxide FeO at ambient conditions.xdi_new.xdi\n",
      "C:\\Users\\izaque23003\\OneDrive - ILUM ESCOLA DE CIÊNCIA\\ilum_3s\\ip_3\\base_dados_fase1\\SSHADE\\dados_campos_novos\\ K-beta2,5 XES of synthetic maghemite gamma-Fe2O3 at ambient conditions.xdi_new.xdi\n",
      "O arquivo C:\\Users\\izaque23003\\Downloads\\ip3\\SSHADE\\convertidos\\K\\ K-beta2,5 XES of synthetic maghemite gamma-Fe2O3 at ambient conditions.xdi foi reescrito e salvo na pasta C:\\Users\\izaque23003\\OneDrive - ILUM ESCOLA DE CIÊNCIA\\ilum_3s\\ip_3\\base_dados_fase1\\SSHADE\\dados_campos_novos\\ K-beta2,5 XES of synthetic maghemite gamma-Fe2O3 at ambient conditions.xdi_new.xdi\n",
      "C:\\Users\\izaque23003\\OneDrive - ILUM ESCOLA DE CIÊNCIA\\ilum_3s\\ip_3\\base_dados_fase1\\SSHADE\\dados_campos_novos\\ K-beta2,5 XES of synthetic magnetite Fe3O4 at ambient conditions.xdi_new.xdi\n",
      "O arquivo C:\\Users\\izaque23003\\Downloads\\ip3\\SSHADE\\convertidos\\K\\ K-beta2,5 XES of synthetic magnetite Fe3O4 at ambient conditions.xdi foi reescrito e salvo na pasta C:\\Users\\izaque23003\\OneDrive - ILUM ESCOLA DE CIÊNCIA\\ilum_3s\\ip_3\\base_dados_fase1\\SSHADE\\dados_campos_novos\\ K-beta2,5 XES of synthetic magnetite Fe3O4 at ambient conditions.xdi_new.xdi\n",
      "C:\\Users\\izaque23003\\OneDrive - ILUM ESCOLA DE CIÊNCIA\\ilum_3s\\ip_3\\base_dados_fase1\\SSHADE\\dados_campos_novos\\ Mn K edge XAS HERFD of synthetic Mn2+-nitronyl-nitroxide 2D magnet at 10K.xdi_new.xdi\n",
      "O arquivo C:\\Users\\izaque23003\\Downloads\\ip3\\SSHADE\\convertidos\\Mn\\ Mn K edge XAS HERFD of synthetic Mn2+-nitronyl-nitroxide 2D magnet at 10K.xdi foi reescrito e salvo na pasta C:\\Users\\izaque23003\\OneDrive - ILUM ESCOLA DE CIÊNCIA\\ilum_3s\\ip_3\\base_dados_fase1\\SSHADE\\dados_campos_novos\\ Mn K edge XAS HERFD of synthetic Mn2+-nitronyl-nitroxide 2D magnet at 10K.xdi_new.xdi\n",
      "C:\\Users\\izaque23003\\OneDrive - ILUM ESCOLA DE CIÊNCIA\\ilum_3s\\ip_3\\base_dados_fase1\\SSHADE\\dados_campos_novos\\ Mn K edge XAS HERFD of synthetic Mn3+Â­-hydroxylamine at 10K.xdi_new.xdi\n"
     ]
    },
    {
     "name": "stdout",
     "output_type": "stream",
     "text": [
      "O arquivo C:\\Users\\izaque23003\\Downloads\\ip3\\SSHADE\\convertidos\\Mn\\ Mn K edge XAS HERFD of synthetic Mn3+Â­-hydroxylamine at 10K.xdi foi reescrito e salvo na pasta C:\\Users\\izaque23003\\OneDrive - ILUM ESCOLA DE CIÊNCIA\\ilum_3s\\ip_3\\base_dados_fase1\\SSHADE\\dados_campos_novos\\ Mn K edge XAS HERFD of synthetic Mn3+Â­-hydroxylamine at 10K.xdi_new.xdi\n",
      "C:\\Users\\izaque23003\\OneDrive - ILUM ESCOLA DE CIÊNCIA\\ilum_3s\\ip_3\\base_dados_fase1\\SSHADE\\dados_campos_novos\\ Mn K edge XAS transmission of Mn metallic reference at ambient conditions.xdi_new.xdi\n",
      "O arquivo C:\\Users\\izaque23003\\Downloads\\ip3\\SSHADE\\convertidos\\Mn\\ Mn K edge XAS transmission of Mn metallic reference at ambient conditions.xdi foi reescrito e salvo na pasta C:\\Users\\izaque23003\\OneDrive - ILUM ESCOLA DE CIÊNCIA\\ilum_3s\\ip_3\\base_dados_fase1\\SSHADE\\dados_campos_novos\\ Mn K edge XAS transmission of Mn metallic reference at ambient conditions.xdi_new.xdi\n",
      "C:\\Users\\izaque23003\\OneDrive - ILUM ESCOLA DE CIÊNCIA\\ilum_3s\\ip_3\\base_dados_fase1\\SSHADE\\dados_campos_novos\\ Mn K edge XAS transmission of Mn metallic reference foil at ambient conditions.xdi_new.xdi\n",
      "O arquivo C:\\Users\\izaque23003\\Downloads\\ip3\\SSHADE\\convertidos\\Mn\\ Mn K edge XAS transmission of Mn metallic reference foil at ambient conditions.xdi foi reescrito e salvo na pasta C:\\Users\\izaque23003\\OneDrive - ILUM ESCOLA DE CIÊNCIA\\ilum_3s\\ip_3\\base_dados_fase1\\SSHADE\\dados_campos_novos\\ Mn K edge XAS transmission of Mn metallic reference foil at ambient conditions.xdi_new.xdi\n",
      "C:\\Users\\izaque23003\\OneDrive - ILUM ESCOLA DE CIÊNCIA\\ilum_3s\\ip_3\\base_dados_fase1\\SSHADE\\dados_campos_novos\\ Mo K edge XAS transmission of Mo metallic reference foil at ambient conditions.xdi_new.xdi\n",
      "O arquivo C:\\Users\\izaque23003\\Downloads\\ip3\\SSHADE\\convertidos\\Mo\\ Mo K edge XAS transmission of Mo metallic reference foil at ambient conditions.xdi foi reescrito e salvo na pasta C:\\Users\\izaque23003\\OneDrive - ILUM ESCOLA DE CIÊNCIA\\ilum_3s\\ip_3\\base_dados_fase1\\SSHADE\\dados_campos_novos\\ Mo K edge XAS transmission of Mo metallic reference foil at ambient conditions.xdi_new.xdi\n",
      "C:\\Users\\izaque23003\\OneDrive - ILUM ESCOLA DE CIÊNCIA\\ilum_3s\\ip_3\\base_dados_fase1\\SSHADE\\dados_campos_novos\\ Mo K edge XAS transmission of molybdenum dioxyde MoO2.xdi_new.xdi\n",
      "O arquivo C:\\Users\\izaque23003\\Downloads\\ip3\\SSHADE\\convertidos\\Mo\\ Mo K edge XAS transmission of molybdenum dioxyde MoO2.xdi foi reescrito e salvo na pasta C:\\Users\\izaque23003\\OneDrive - ILUM ESCOLA DE CIÊNCIA\\ilum_3s\\ip_3\\base_dados_fase1\\SSHADE\\dados_campos_novos\\ Mo K edge XAS transmission of molybdenum dioxyde MoO2.xdi_new.xdi\n",
      "C:\\Users\\izaque23003\\OneDrive - ILUM ESCOLA DE CIÊNCIA\\ilum_3s\\ip_3\\base_dados_fase1\\SSHADE\\dados_campos_novos\\ Mo K edge XAS transmission of Na2MoO4 at ambient conditions.xdi_new.xdi\n",
      "O arquivo C:\\Users\\izaque23003\\Downloads\\ip3\\SSHADE\\convertidos\\Mo\\ Mo K edge XAS transmission of Na2MoO4 at ambient conditions.xdi foi reescrito e salvo na pasta C:\\Users\\izaque23003\\OneDrive - ILUM ESCOLA DE CIÊNCIA\\ilum_3s\\ip_3\\base_dados_fase1\\SSHADE\\dados_campos_novos\\ Mo K edge XAS transmission of Na2MoO4 at ambient conditions.xdi_new.xdi\n",
      "C:\\Users\\izaque23003\\OneDrive - ILUM ESCOLA DE CIÊNCIA\\ilum_3s\\ip_3\\base_dados_fase1\\SSHADE\\dados_campos_novos\\ Nb K edge XAS transmission of Nb metallic reference foil at ambient conditions.xdi_new.xdi\n",
      "O arquivo C:\\Users\\izaque23003\\Downloads\\ip3\\SSHADE\\convertidos\\Nb\\ Nb K edge XAS transmission of Nb metallic reference foil at ambient conditions.xdi foi reescrito e salvo na pasta C:\\Users\\izaque23003\\OneDrive - ILUM ESCOLA DE CIÊNCIA\\ilum_3s\\ip_3\\base_dados_fase1\\SSHADE\\dados_campos_novos\\ Nb K edge XAS transmission of Nb metallic reference foil at ambient conditions.xdi_new.xdi\n",
      "C:\\Users\\izaque23003\\OneDrive - ILUM ESCOLA DE CIÊNCIA\\ilum_3s\\ip_3\\base_dados_fase1\\SSHADE\\dados_campos_novos\\ Ni K edge XAS fluorescence of $Ni (H_2O)_6 SO_4$ at 10K.xdi_new.xdi\n",
      "O arquivo C:\\Users\\izaque23003\\Downloads\\ip3\\SSHADE\\convertidos\\Ni\\ Ni K edge XAS fluorescence of $Ni (H_2O)_6 SO_4$ at 10K.xdi foi reescrito e salvo na pasta C:\\Users\\izaque23003\\OneDrive - ILUM ESCOLA DE CIÊNCIA\\ilum_3s\\ip_3\\base_dados_fase1\\SSHADE\\dados_campos_novos\\ Ni K edge XAS fluorescence of $Ni (H_2O)_6 SO_4$ at 10K.xdi_new.xdi\n",
      "C:\\Users\\izaque23003\\OneDrive - ILUM ESCOLA DE CIÊNCIA\\ilum_3s\\ip_3\\base_dados_fase1\\SSHADE\\dados_campos_novos\\ Ni K edge XAS fluorescence of $Ni NTA(CysNH_2)_3$ at pH=7.5 and at 10K.xdi_new.xdi\n",
      "O arquivo C:\\Users\\izaque23003\\Downloads\\ip3\\SSHADE\\convertidos\\Ni\\ Ni K edge XAS fluorescence of $Ni NTA(CysNH_2)_3$ at pH=7.5 and at 10K.xdi foi reescrito e salvo na pasta C:\\Users\\izaque23003\\OneDrive - ILUM ESCOLA DE CIÊNCIA\\ilum_3s\\ip_3\\base_dados_fase1\\SSHADE\\dados_campos_novos\\ Ni K edge XAS fluorescence of $Ni NTA(CysNH_2)_3$ at pH=7.5 and at 10K.xdi_new.xdi\n",
      "C:\\Users\\izaque23003\\OneDrive - ILUM ESCOLA DE CIÊNCIA\\ilum_3s\\ip_3\\base_dados_fase1\\SSHADE\\dados_campos_novos\\ Ni K edge XAS fluorescence of $Ni NTA(CysNH_2)_3$ at pH=9.6 and at 10K.xdi_new.xdi\n",
      "O arquivo C:\\Users\\izaque23003\\Downloads\\ip3\\SSHADE\\convertidos\\Ni\\ Ni K edge XAS fluorescence of $Ni NTA(CysNH_2)_3$ at pH=9.6 and at 10K.xdi foi reescrito e salvo na pasta C:\\Users\\izaque23003\\OneDrive - ILUM ESCOLA DE CIÊNCIA\\ilum_3s\\ip_3\\base_dados_fase1\\SSHADE\\dados_campos_novos\\ Ni K edge XAS fluorescence of $Ni NTA(CysNH_2)_3$ at pH=9.6 and at 10K.xdi_new.xdi\n",
      "C:\\Users\\izaque23003\\OneDrive - ILUM ESCOLA DE CIÊNCIA\\ilum_3s\\ip_3\\base_dados_fase1\\SSHADE\\dados_campos_novos\\ Ni K edge XAS fluorescence of Nickel(cyclam)acetonitrile perchlorate at 10K.xdi_new.xdi\n",
      "O arquivo C:\\Users\\izaque23003\\Downloads\\ip3\\SSHADE\\convertidos\\Ni\\ Ni K edge XAS fluorescence of Nickel(cyclam)acetonitrile perchlorate at 10K.xdi foi reescrito e salvo na pasta C:\\Users\\izaque23003\\OneDrive - ILUM ESCOLA DE CIÊNCIA\\ilum_3s\\ip_3\\base_dados_fase1\\SSHADE\\dados_campos_novos\\ Ni K edge XAS fluorescence of Nickel(cyclam)acetonitrile perchlorate at 10K.xdi_new.xdi\n",
      "C:\\Users\\izaque23003\\OneDrive - ILUM ESCOLA DE CIÊNCIA\\ilum_3s\\ip_3\\base_dados_fase1\\SSHADE\\dados_campos_novos\\ Ni K edge XAS fluorescence of square planar Nickel(II) with Ni-N2S2 coordination at 16K.xdi_new.xdi\n",
      "O arquivo C:\\Users\\izaque23003\\Downloads\\ip3\\SSHADE\\convertidos\\Ni\\ Ni K edge XAS fluorescence of square planar Nickel(II) with Ni-N2S2 coordination at 16K.xdi foi reescrito e salvo na pasta C:\\Users\\izaque23003\\OneDrive - ILUM ESCOLA DE CIÊNCIA\\ilum_3s\\ip_3\\base_dados_fase1\\SSHADE\\dados_campos_novos\\ Ni K edge XAS fluorescence of square planar Nickel(II) with Ni-N2S2 coordination at 16K.xdi_new.xdi\n",
      "C:\\Users\\izaque23003\\OneDrive - ILUM ESCOLA DE CIÊNCIA\\ilum_3s\\ip_3\\base_dados_fase1\\SSHADE\\dados_campos_novos\\ Ni K edge XAS fluorescence of square planar Nickel(II) with Ni-S4 coordination at 16K.xdi_new.xdi\n",
      "O arquivo C:\\Users\\izaque23003\\Downloads\\ip3\\SSHADE\\convertidos\\Ni\\ Ni K edge XAS fluorescence of square planar Nickel(II) with Ni-S4 coordination at 16K.xdi foi reescrito e salvo na pasta C:\\Users\\izaque23003\\OneDrive - ILUM ESCOLA DE CIÊNCIA\\ilum_3s\\ip_3\\base_dados_fase1\\SSHADE\\dados_campos_novos\\ Ni K edge XAS fluorescence of square planar Nickel(II) with Ni-S4 coordination at 16K.xdi_new.xdi\n",
      "C:\\Users\\izaque23003\\OneDrive - ILUM ESCOLA DE CIÊNCIA\\ilum_3s\\ip_3\\base_dados_fase1\\SSHADE\\dados_campos_novos\\ Ni K edge XAS transmission of Nickel(cyclam), 2Cl at 10K.xdi_new.xdi\n",
      "O arquivo C:\\Users\\izaque23003\\Downloads\\ip3\\SSHADE\\convertidos\\Ni\\ Ni K edge XAS transmission of Nickel(cyclam), 2Cl at 10K.xdi foi reescrito e salvo na pasta C:\\Users\\izaque23003\\OneDrive - ILUM ESCOLA DE CIÊNCIA\\ilum_3s\\ip_3\\base_dados_fase1\\SSHADE\\dados_campos_novos\\ Ni K edge XAS transmission of Nickel(cyclam), 2Cl at 10K.xdi_new.xdi\n",
      "C:\\Users\\izaque23003\\OneDrive - ILUM ESCOLA DE CIÊNCIA\\ilum_3s\\ip_3\\base_dados_fase1\\SSHADE\\dados_campos_novos\\ Ni K edge XAS transmission of Nickel(II) acetylacetonate dihydrate at 10K.xdi_new.xdi\n",
      "O arquivo C:\\Users\\izaque23003\\Downloads\\ip3\\SSHADE\\convertidos\\Ni\\ Ni K edge XAS transmission of Nickel(II) acetylacetonate dihydrate at 10K.xdi foi reescrito e salvo na pasta C:\\Users\\izaque23003\\OneDrive - ILUM ESCOLA DE CIÊNCIA\\ilum_3s\\ip_3\\base_dados_fase1\\SSHADE\\dados_campos_novos\\ Ni K edge XAS transmission of Nickel(II) acetylacetonate dihydrate at 10K.xdi_new.xdi\n",
      "C:\\Users\\izaque23003\\OneDrive - ILUM ESCOLA DE CIÊNCIA\\ilum_3s\\ip_3\\base_dados_fase1\\SSHADE\\dados_campos_novos\\ Ni K edge XAS transmission of NiL(N2S2) at 10K.xdi_new.xdi\n",
      "O arquivo C:\\Users\\izaque23003\\Downloads\\ip3\\SSHADE\\convertidos\\Ni\\ Ni K edge XAS transmission of NiL(N2S2) at 10K.xdi foi reescrito e salvo na pasta C:\\Users\\izaque23003\\OneDrive - ILUM ESCOLA DE CIÊNCIA\\ilum_3s\\ip_3\\base_dados_fase1\\SSHADE\\dados_campos_novos\\ Ni K edge XAS transmission of NiL(N2S2) at 10K.xdi_new.xdi\n",
      "C:\\Users\\izaque23003\\OneDrive - ILUM ESCOLA DE CIÊNCIA\\ilum_3s\\ip_3\\base_dados_fase1\\SSHADE\\dados_campos_novos\\ Pb L3 edge XAS transmission of Pb metallic reference foil at ambient conditions.xdi_new.xdi\n",
      "O arquivo C:\\Users\\izaque23003\\Downloads\\ip3\\SSHADE\\convertidos\\Pb\\ Pb L3 edge XAS transmission of Pb metallic reference foil at ambient conditions.xdi foi reescrito e salvo na pasta C:\\Users\\izaque23003\\OneDrive - ILUM ESCOLA DE CIÊNCIA\\ilum_3s\\ip_3\\base_dados_fase1\\SSHADE\\dados_campos_novos\\ Pb L3 edge XAS transmission of Pb metallic reference foil at ambient conditions.xdi_new.xdi\n",
      "C:\\Users\\izaque23003\\OneDrive - ILUM ESCOLA DE CIÊNCIA\\ilum_3s\\ip_3\\base_dados_fase1\\SSHADE\\dados_campos_novos\\ Pd K edge XAS fluorescence of 1 wt.% Pd_SiO2 at RT under H2 (after heating at 300C under H2).xdi_new.xdi\n",
      "O arquivo C:\\Users\\izaque23003\\Downloads\\ip3\\SSHADE\\convertidos\\Pd\\ Pd K edge XAS fluorescence of 1 wt.% Pd_SiO2 at RT under H2 (after heating at 300C under H2).xdi foi reescrito e salvo na pasta C:\\Users\\izaque23003\\OneDrive - ILUM ESCOLA DE CIÊNCIA\\ilum_3s\\ip_3\\base_dados_fase1\\SSHADE\\dados_campos_novos\\ Pd K edge XAS fluorescence of 1 wt.% Pd_SiO2 at RT under H2 (after heating at 300C under H2).xdi_new.xdi\n",
      "C:\\Users\\izaque23003\\OneDrive - ILUM ESCOLA DE CIÊNCIA\\ilum_3s\\ip_3\\base_dados_fase1\\SSHADE\\dados_campos_novos\\ Pd K edge XAS fluorescence of 1 wt.% Pd_SiO2 at RT under He (after heating at 300C under H2).xdi_new.xdi\n",
      "O arquivo C:\\Users\\izaque23003\\Downloads\\ip3\\SSHADE\\convertidos\\Pd\\ Pd K edge XAS fluorescence of 1 wt.% Pd_SiO2 at RT under He (after heating at 300C under H2).xdi foi reescrito e salvo na pasta C:\\Users\\izaque23003\\OneDrive - ILUM ESCOLA DE CIÊNCIA\\ilum_3s\\ip_3\\base_dados_fase1\\SSHADE\\dados_campos_novos\\ Pd K edge XAS fluorescence of 1 wt.% Pd_SiO2 at RT under He (after heating at 300C under H2).xdi_new.xdi\n"
     ]
    },
    {
     "name": "stdout",
     "output_type": "stream",
     "text": [
      "C:\\Users\\izaque23003\\OneDrive - ILUM ESCOLA DE CIÊNCIA\\ilum_3s\\ip_3\\base_dados_fase1\\SSHADE\\dados_campos_novos\\ Pd K edge XAS fluorescence of PdO at RT.xdi_new.xdi\n",
      "O arquivo C:\\Users\\izaque23003\\Downloads\\ip3\\SSHADE\\convertidos\\Pd\\ Pd K edge XAS fluorescence of PdO at RT.xdi foi reescrito e salvo na pasta C:\\Users\\izaque23003\\OneDrive - ILUM ESCOLA DE CIÊNCIA\\ilum_3s\\ip_3\\base_dados_fase1\\SSHADE\\dados_campos_novos\\ Pd K edge XAS fluorescence of PdO at RT.xdi_new.xdi\n",
      "C:\\Users\\izaque23003\\OneDrive - ILUM ESCOLA DE CIÊNCIA\\ilum_3s\\ip_3\\base_dados_fase1\\SSHADE\\dados_campos_novos\\ Pd K edge XAS transmission of Pd metallic foil at 300K.xdi_new.xdi\n",
      "O arquivo C:\\Users\\izaque23003\\Downloads\\ip3\\SSHADE\\convertidos\\Pd\\ Pd K edge XAS transmission of Pd metallic foil at 300K.xdi foi reescrito e salvo na pasta C:\\Users\\izaque23003\\OneDrive - ILUM ESCOLA DE CIÊNCIA\\ilum_3s\\ip_3\\base_dados_fase1\\SSHADE\\dados_campos_novos\\ Pd K edge XAS transmission of Pd metallic foil at 300K.xdi_new.xdi\n",
      "C:\\Users\\izaque23003\\OneDrive - ILUM ESCOLA DE CIÊNCIA\\ilum_3s\\ip_3\\base_dados_fase1\\SSHADE\\dados_campos_novos\\ Pt L3 edge XAS fluorescence of $L1_0$ CoPt deposited on silicium (grazing incidence.xdi_new.xdi\n",
      "O arquivo C:\\Users\\izaque23003\\Downloads\\ip3\\SSHADE\\convertidos\\Pt\\ Pt L3 edge XAS fluorescence of $L1_0$ CoPt deposited on silicium (grazing incidence.xdi foi reescrito e salvo na pasta C:\\Users\\izaque23003\\OneDrive - ILUM ESCOLA DE CIÊNCIA\\ilum_3s\\ip_3\\base_dados_fase1\\SSHADE\\dados_campos_novos\\ Pt L3 edge XAS fluorescence of $L1_0$ CoPt deposited on silicium (grazing incidence.xdi_new.xdi\n",
      "C:\\Users\\izaque23003\\OneDrive - ILUM ESCOLA DE CIÊNCIA\\ilum_3s\\ip_3\\base_dados_fase1\\SSHADE\\dados_campos_novos\\ Pt L3 edge XAS fluorescence of $L1_0$ CoPt deposited on silicium (normal incidence.xdi_new.xdi\n",
      "O arquivo C:\\Users\\izaque23003\\Downloads\\ip3\\SSHADE\\convertidos\\Pt\\ Pt L3 edge XAS fluorescence of $L1_0$ CoPt deposited on silicium (normal incidence.xdi foi reescrito e salvo na pasta C:\\Users\\izaque23003\\OneDrive - ILUM ESCOLA DE CIÊNCIA\\ilum_3s\\ip_3\\base_dados_fase1\\SSHADE\\dados_campos_novos\\ Pt L3 edge XAS fluorescence of $L1_0$ CoPt deposited on silicium (normal incidence.xdi_new.xdi\n",
      "C:\\Users\\izaque23003\\OneDrive - ILUM ESCOLA DE CIÊNCIA\\ilum_3s\\ip_3\\base_dados_fase1\\SSHADE\\dados_campos_novos\\ Pt L3 edge XAS fluorescence of $L1_0$ FePt deposited on silicium (grazing incidence.xdi_new.xdi\n",
      "O arquivo C:\\Users\\izaque23003\\Downloads\\ip3\\SSHADE\\convertidos\\Pt\\ Pt L3 edge XAS fluorescence of $L1_0$ FePt deposited on silicium (grazing incidence.xdi foi reescrito e salvo na pasta C:\\Users\\izaque23003\\OneDrive - ILUM ESCOLA DE CIÊNCIA\\ilum_3s\\ip_3\\base_dados_fase1\\SSHADE\\dados_campos_novos\\ Pt L3 edge XAS fluorescence of $L1_0$ FePt deposited on silicium (grazing incidence.xdi_new.xdi\n",
      "C:\\Users\\izaque23003\\OneDrive - ILUM ESCOLA DE CIÊNCIA\\ilum_3s\\ip_3\\base_dados_fase1\\SSHADE\\dados_campos_novos\\ Pt L3 edge XAS fluorescence of $L1_0$ FePt deposited on silicium (normal incidence.xdi_new.xdi\n",
      "O arquivo C:\\Users\\izaque23003\\Downloads\\ip3\\SSHADE\\convertidos\\Pt\\ Pt L3 edge XAS fluorescence of $L1_0$ FePt deposited on silicium (normal incidence.xdi foi reescrito e salvo na pasta C:\\Users\\izaque23003\\OneDrive - ILUM ESCOLA DE CIÊNCIA\\ilum_3s\\ip_3\\base_dados_fase1\\SSHADE\\dados_campos_novos\\ Pt L3 edge XAS fluorescence of $L1_0$ FePt deposited on silicium (normal incidence.xdi_new.xdi\n",
      "C:\\Users\\izaque23003\\OneDrive - ILUM ESCOLA DE CIÊNCIA\\ilum_3s\\ip_3\\base_dados_fase1\\SSHADE\\dados_campos_novos\\ Pt L3 edge XAS fluorescence of CoFePt deposited on silicium (grazing incidence.xdi_new.xdi\n",
      "O arquivo C:\\Users\\izaque23003\\Downloads\\ip3\\SSHADE\\convertidos\\Pt\\ Pt L3 edge XAS fluorescence of CoFePt deposited on silicium (grazing incidence.xdi foi reescrito e salvo na pasta C:\\Users\\izaque23003\\OneDrive - ILUM ESCOLA DE CIÊNCIA\\ilum_3s\\ip_3\\base_dados_fase1\\SSHADE\\dados_campos_novos\\ Pt L3 edge XAS fluorescence of CoFePt deposited on silicium (grazing incidence.xdi_new.xdi\n",
      "C:\\Users\\izaque23003\\OneDrive - ILUM ESCOLA DE CIÊNCIA\\ilum_3s\\ip_3\\base_dados_fase1\\SSHADE\\dados_campos_novos\\ Pt L3 edge XAS fluorescence of CoFePt deposited on silicium (normal incidence.xdi_new.xdi\n",
      "O arquivo C:\\Users\\izaque23003\\Downloads\\ip3\\SSHADE\\convertidos\\Pt\\ Pt L3 edge XAS fluorescence of CoFePt deposited on silicium (normal incidence.xdi foi reescrito e salvo na pasta C:\\Users\\izaque23003\\OneDrive - ILUM ESCOLA DE CIÊNCIA\\ilum_3s\\ip_3\\base_dados_fase1\\SSHADE\\dados_campos_novos\\ Pt L3 edge XAS fluorescence of CoFePt deposited on silicium (normal incidence.xdi_new.xdi\n",
      "C:\\Users\\izaque23003\\OneDrive - ILUM ESCOLA DE CIÊNCIA\\ilum_3s\\ip_3\\base_dados_fase1\\SSHADE\\dados_campos_novos\\ Pt L3 edge XAS fluorescence of H2PtCl6 aq 0.007m at 600bar and 30Â°C in fluorescence mode.xdi_new.xdi\n",
      "O arquivo C:\\Users\\izaque23003\\Downloads\\ip3\\SSHADE\\convertidos\\Pt\\ Pt L3 edge XAS fluorescence of H2PtCl6 aq 0.007m at 600bar and 30Â°C in fluorescence mode.xdi foi reescrito e salvo na pasta C:\\Users\\izaque23003\\OneDrive - ILUM ESCOLA DE CIÊNCIA\\ilum_3s\\ip_3\\base_dados_fase1\\SSHADE\\dados_campos_novos\\ Pt L3 edge XAS fluorescence of H2PtCl6 aq 0.007m at 600bar and 30Â°C in fluorescence mode.xdi_new.xdi\n",
      "C:\\Users\\izaque23003\\OneDrive - ILUM ESCOLA DE CIÊNCIA\\ilum_3s\\ip_3\\base_dados_fase1\\SSHADE\\dados_campos_novos\\ Pt L3 edge XAS fluorescence of K2PtCl4 aq 0.0148m at 700bar and 30Â°C in fluorescence mode.xdi_new.xdi\n",
      "O arquivo C:\\Users\\izaque23003\\Downloads\\ip3\\SSHADE\\convertidos\\Pt\\ Pt L3 edge XAS fluorescence of K2PtCl4 aq 0.0148m at 700bar and 30Â°C in fluorescence mode.xdi foi reescrito e salvo na pasta C:\\Users\\izaque23003\\OneDrive - ILUM ESCOLA DE CIÊNCIA\\ilum_3s\\ip_3\\base_dados_fase1\\SSHADE\\dados_campos_novos\\ Pt L3 edge XAS fluorescence of K2PtCl4 aq 0.0148m at 700bar and 30Â°C in fluorescence mode.xdi_new.xdi\n",
      "C:\\Users\\izaque23003\\OneDrive - ILUM ESCOLA DE CIÊNCIA\\ilum_3s\\ip_3\\base_dados_fase1\\SSHADE\\dados_campos_novos\\ Pt L3 edge XAS HERFD of (NH4)2Pt(S5)3 mixed with BN at 1bar and 25Â°C.xdi_new.xdi\n",
      "O arquivo C:\\Users\\izaque23003\\Downloads\\ip3\\SSHADE\\convertidos\\Pt\\ Pt L3 edge XAS HERFD of (NH4)2Pt(S5)3 mixed with BN at 1bar and 25Â°C.xdi foi reescrito e salvo na pasta C:\\Users\\izaque23003\\OneDrive - ILUM ESCOLA DE CIÊNCIA\\ilum_3s\\ip_3\\base_dados_fase1\\SSHADE\\dados_campos_novos\\ Pt L3 edge XAS HERFD of (NH4)2Pt(S5)3 mixed with BN at 1bar and 25Â°C.xdi_new.xdi\n",
      "C:\\Users\\izaque23003\\OneDrive - ILUM ESCOLA DE CIÊNCIA\\ilum_3s\\ip_3\\base_dados_fase1\\SSHADE\\dados_campos_novos\\ Pt L3 edge XAS HERFD of Carboplatin mixed with BN at 1bar and 25Â°C.xdi_new.xdi\n",
      "O arquivo C:\\Users\\izaque23003\\Downloads\\ip3\\SSHADE\\convertidos\\Pt\\ Pt L3 edge XAS HERFD of Carboplatin mixed with BN at 1bar and 25Â°C.xdi foi reescrito e salvo na pasta C:\\Users\\izaque23003\\OneDrive - ILUM ESCOLA DE CIÊNCIA\\ilum_3s\\ip_3\\base_dados_fase1\\SSHADE\\dados_campos_novos\\ Pt L3 edge XAS HERFD of Carboplatin mixed with BN at 1bar and 25Â°C.xdi_new.xdi\n",
      "C:\\Users\\izaque23003\\OneDrive - ILUM ESCOLA DE CIÊNCIA\\ilum_3s\\ip_3\\base_dados_fase1\\SSHADE\\dados_campos_novos\\ Pt L3 edge XAS HERFD of K2PtCl4 mixed with BN at 1bar and 25Â°C.xdi_new.xdi\n",
      "O arquivo C:\\Users\\izaque23003\\Downloads\\ip3\\SSHADE\\convertidos\\Pt\\ Pt L3 edge XAS HERFD of K2PtCl4 mixed with BN at 1bar and 25Â°C.xdi foi reescrito e salvo na pasta C:\\Users\\izaque23003\\OneDrive - ILUM ESCOLA DE CIÊNCIA\\ilum_3s\\ip_3\\base_dados_fase1\\SSHADE\\dados_campos_novos\\ Pt L3 edge XAS HERFD of K2PtCl4 mixed with BN at 1bar and 25Â°C.xdi_new.xdi\n",
      "C:\\Users\\izaque23003\\OneDrive - ILUM ESCOLA DE CIÊNCIA\\ilum_3s\\ip_3\\base_dados_fase1\\SSHADE\\dados_campos_novos\\ Pt L3 edge XAS HERFD of K2PtCl6 mixed with BN at 1bar and 25Â°C.xdi_new.xdi\n",
      "O arquivo C:\\Users\\izaque23003\\Downloads\\ip3\\SSHADE\\convertidos\\Pt\\ Pt L3 edge XAS HERFD of K2PtCl6 mixed with BN at 1bar and 25Â°C.xdi foi reescrito e salvo na pasta C:\\Users\\izaque23003\\OneDrive - ILUM ESCOLA DE CIÊNCIA\\ilum_3s\\ip_3\\base_dados_fase1\\SSHADE\\dados_campos_novos\\ Pt L3 edge XAS HERFD of K2PtCl6 mixed with BN at 1bar and 25Â°C.xdi_new.xdi\n",
      "C:\\Users\\izaque23003\\OneDrive - ILUM ESCOLA DE CIÊNCIA\\ilum_3s\\ip_3\\base_dados_fase1\\SSHADE\\dados_campos_novos\\ Pt L3 edge XAS HERFD of metallic Pt powder at ambient conditions.xdi_new.xdi\n",
      "O arquivo C:\\Users\\izaque23003\\Downloads\\ip3\\SSHADE\\convertidos\\Pt\\ Pt L3 edge XAS HERFD of metallic Pt powder at ambient conditions.xdi foi reescrito e salvo na pasta C:\\Users\\izaque23003\\OneDrive - ILUM ESCOLA DE CIÊNCIA\\ilum_3s\\ip_3\\base_dados_fase1\\SSHADE\\dados_campos_novos\\ Pt L3 edge XAS HERFD of metallic Pt powder at ambient conditions.xdi_new.xdi\n"
     ]
    },
    {
     "name": "stdout",
     "output_type": "stream",
     "text": [
      "C:\\Users\\izaque23003\\OneDrive - ILUM ESCOLA DE CIÊNCIA\\ilum_3s\\ip_3\\base_dados_fase1\\SSHADE\\dados_campos_novos\\ Pt L3 edge XAS HERFD of PtO2 mixed with BN at 1bar and 25Â°C.xdi_new.xdi\n",
      "O arquivo C:\\Users\\izaque23003\\Downloads\\ip3\\SSHADE\\convertidos\\Pt\\ Pt L3 edge XAS HERFD of PtO2 mixed with BN at 1bar and 25Â°C.xdi foi reescrito e salvo na pasta C:\\Users\\izaque23003\\OneDrive - ILUM ESCOLA DE CIÊNCIA\\ilum_3s\\ip_3\\base_dados_fase1\\SSHADE\\dados_campos_novos\\ Pt L3 edge XAS HERFD of PtO2 mixed with BN at 1bar and 25Â°C.xdi_new.xdi\n",
      "C:\\Users\\izaque23003\\OneDrive - ILUM ESCOLA DE CIÊNCIA\\ilum_3s\\ip_3\\base_dados_fase1\\SSHADE\\dados_campos_novos\\ Pt L3 edge XAS HERFD of PtS-h mixed with BN at 1bar and 25Â°C.xdi_new.xdi\n",
      "O arquivo C:\\Users\\izaque23003\\Downloads\\ip3\\SSHADE\\convertidos\\Pt\\ Pt L3 edge XAS HERFD of PtS-h mixed with BN at 1bar and 25Â°C.xdi foi reescrito e salvo na pasta C:\\Users\\izaque23003\\OneDrive - ILUM ESCOLA DE CIÊNCIA\\ilum_3s\\ip_3\\base_dados_fase1\\SSHADE\\dados_campos_novos\\ Pt L3 edge XAS HERFD of PtS-h mixed with BN at 1bar and 25Â°C.xdi_new.xdi\n",
      "C:\\Users\\izaque23003\\OneDrive - ILUM ESCOLA DE CIÊNCIA\\ilum_3s\\ip_3\\base_dados_fase1\\SSHADE\\dados_campos_novos\\ Pt L3 edge XAS HERFD of PtS2-c mixed with BN at 1bar and 25Â°C.xdi_new.xdi\n",
      "O arquivo C:\\Users\\izaque23003\\Downloads\\ip3\\SSHADE\\convertidos\\Pt\\ Pt L3 edge XAS HERFD of PtS2-c mixed with BN at 1bar and 25Â°C.xdi foi reescrito e salvo na pasta C:\\Users\\izaque23003\\OneDrive - ILUM ESCOLA DE CIÊNCIA\\ilum_3s\\ip_3\\base_dados_fase1\\SSHADE\\dados_campos_novos\\ Pt L3 edge XAS HERFD of PtS2-c mixed with BN at 1bar and 25Â°C.xdi_new.xdi\n",
      "C:\\Users\\izaque23003\\OneDrive - ILUM ESCOLA DE CIÊNCIA\\ilum_3s\\ip_3\\base_dados_fase1\\SSHADE\\dados_campos_novos\\ Pt L3 edge XAS transmission of (NH4)2Pt(S5)3 mixed with BN at 1bar and 25Â°C.xdi_new.xdi\n",
      "O arquivo C:\\Users\\izaque23003\\Downloads\\ip3\\SSHADE\\convertidos\\Pt\\ Pt L3 edge XAS transmission of (NH4)2Pt(S5)3 mixed with BN at 1bar and 25Â°C.xdi foi reescrito e salvo na pasta C:\\Users\\izaque23003\\OneDrive - ILUM ESCOLA DE CIÊNCIA\\ilum_3s\\ip_3\\base_dados_fase1\\SSHADE\\dados_campos_novos\\ Pt L3 edge XAS transmission of (NH4)2Pt(S5)3 mixed with BN at 1bar and 25Â°C.xdi_new.xdi\n",
      "C:\\Users\\izaque23003\\OneDrive - ILUM ESCOLA DE CIÊNCIA\\ilum_3s\\ip_3\\base_dados_fase1\\SSHADE\\dados_campos_novos\\ Pt L3 edge XAS transmission of Carboplatin mixed with BN at 1bar and 25Â°C.xdi_new.xdi\n",
      "O arquivo C:\\Users\\izaque23003\\Downloads\\ip3\\SSHADE\\convertidos\\Pt\\ Pt L3 edge XAS transmission of Carboplatin mixed with BN at 1bar and 25Â°C.xdi foi reescrito e salvo na pasta C:\\Users\\izaque23003\\OneDrive - ILUM ESCOLA DE CIÊNCIA\\ilum_3s\\ip_3\\base_dados_fase1\\SSHADE\\dados_campos_novos\\ Pt L3 edge XAS transmission of Carboplatin mixed with BN at 1bar and 25Â°C.xdi_new.xdi\n",
      "C:\\Users\\izaque23003\\OneDrive - ILUM ESCOLA DE CIÊNCIA\\ilum_3s\\ip_3\\base_dados_fase1\\SSHADE\\dados_campos_novos\\ Pt L3 edge XAS transmission of H2PtCl6 aq 0.007m at 600bar and 30Â°C in transmission mode.xdi_new.xdi\n",
      "O arquivo C:\\Users\\izaque23003\\Downloads\\ip3\\SSHADE\\convertidos\\Pt\\ Pt L3 edge XAS transmission of H2PtCl6 aq 0.007m at 600bar and 30Â°C in transmission mode.xdi foi reescrito e salvo na pasta C:\\Users\\izaque23003\\OneDrive - ILUM ESCOLA DE CIÊNCIA\\ilum_3s\\ip_3\\base_dados_fase1\\SSHADE\\dados_campos_novos\\ Pt L3 edge XAS transmission of H2PtCl6 aq 0.007m at 600bar and 30Â°C in transmission mode.xdi_new.xdi\n",
      "C:\\Users\\izaque23003\\OneDrive - ILUM ESCOLA DE CIÊNCIA\\ilum_3s\\ip_3\\base_dados_fase1\\SSHADE\\dados_campos_novos\\ Pt L3 edge XAS transmission of K2PtCl4 aq 0.0148m at 700bar and 30Â°C in transmission mode.xdi_new.xdi\n",
      "O arquivo C:\\Users\\izaque23003\\Downloads\\ip3\\SSHADE\\convertidos\\Pt\\ Pt L3 edge XAS transmission of K2PtCl4 aq 0.0148m at 700bar and 30Â°C in transmission mode.xdi foi reescrito e salvo na pasta C:\\Users\\izaque23003\\OneDrive - ILUM ESCOLA DE CIÊNCIA\\ilum_3s\\ip_3\\base_dados_fase1\\SSHADE\\dados_campos_novos\\ Pt L3 edge XAS transmission of K2PtCl4 aq 0.0148m at 700bar and 30Â°C in transmission mode.xdi_new.xdi\n",
      "C:\\Users\\izaque23003\\OneDrive - ILUM ESCOLA DE CIÊNCIA\\ilum_3s\\ip_3\\base_dados_fase1\\SSHADE\\dados_campos_novos\\ Pt L3 edge XAS transmission of K2PtCl4 mixed with BN at 1bar and 25Â°C.xdi_new.xdi\n",
      "O arquivo C:\\Users\\izaque23003\\Downloads\\ip3\\SSHADE\\convertidos\\Pt\\ Pt L3 edge XAS transmission of K2PtCl4 mixed with BN at 1bar and 25Â°C.xdi foi reescrito e salvo na pasta C:\\Users\\izaque23003\\OneDrive - ILUM ESCOLA DE CIÊNCIA\\ilum_3s\\ip_3\\base_dados_fase1\\SSHADE\\dados_campos_novos\\ Pt L3 edge XAS transmission of K2PtCl4 mixed with BN at 1bar and 25Â°C.xdi_new.xdi\n",
      "C:\\Users\\izaque23003\\OneDrive - ILUM ESCOLA DE CIÊNCIA\\ilum_3s\\ip_3\\base_dados_fase1\\SSHADE\\dados_campos_novos\\ Pt L3 edge XAS transmission of K2PtCl4-b at 25Â°C in transmission mode.xdi_new.xdi\n",
      "O arquivo C:\\Users\\izaque23003\\Downloads\\ip3\\SSHADE\\convertidos\\Pt\\ Pt L3 edge XAS transmission of K2PtCl4-b at 25Â°C in transmission mode.xdi foi reescrito e salvo na pasta C:\\Users\\izaque23003\\OneDrive - ILUM ESCOLA DE CIÊNCIA\\ilum_3s\\ip_3\\base_dados_fase1\\SSHADE\\dados_campos_novos\\ Pt L3 edge XAS transmission of K2PtCl4-b at 25Â°C in transmission mode.xdi_new.xdi\n",
      "C:\\Users\\izaque23003\\OneDrive - ILUM ESCOLA DE CIÊNCIA\\ilum_3s\\ip_3\\base_dados_fase1\\SSHADE\\dados_campos_novos\\ Pt L3 edge XAS transmission of K2PtCl6 mixed with BN at 1bar and 25Â°C.xdi_new.xdi\n",
      "O arquivo C:\\Users\\izaque23003\\Downloads\\ip3\\SSHADE\\convertidos\\Pt\\ Pt L3 edge XAS transmission of K2PtCl6 mixed with BN at 1bar and 25Â°C.xdi foi reescrito e salvo na pasta C:\\Users\\izaque23003\\OneDrive - ILUM ESCOLA DE CIÊNCIA\\ilum_3s\\ip_3\\base_dados_fase1\\SSHADE\\dados_campos_novos\\ Pt L3 edge XAS transmission of K2PtCl6 mixed with BN at 1bar and 25Â°C.xdi_new.xdi\n",
      "C:\\Users\\izaque23003\\OneDrive - ILUM ESCOLA DE CIÊNCIA\\ilum_3s\\ip_3\\base_dados_fase1\\SSHADE\\dados_campos_novos\\ Pt L3 edge XAS transmission of K2PtCl6-b at 25Â°C in transmission mode.xdi_new.xdi\n",
      "O arquivo C:\\Users\\izaque23003\\Downloads\\ip3\\SSHADE\\convertidos\\Pt\\ Pt L3 edge XAS transmission of K2PtCl6-b at 25Â°C in transmission mode.xdi foi reescrito e salvo na pasta C:\\Users\\izaque23003\\OneDrive - ILUM ESCOLA DE CIÊNCIA\\ilum_3s\\ip_3\\base_dados_fase1\\SSHADE\\dados_campos_novos\\ Pt L3 edge XAS transmission of K2PtCl6-b at 25Â°C in transmission mode.xdi_new.xdi\n",
      "C:\\Users\\izaque23003\\OneDrive - ILUM ESCOLA DE CIÊNCIA\\ilum_3s\\ip_3\\base_dados_fase1\\SSHADE\\dados_campos_novos\\ Pt L3 edge XAS transmission of PtO2 mixed with BN at 1bar and 25Â°C.xdi_new.xdi\n",
      "O arquivo C:\\Users\\izaque23003\\Downloads\\ip3\\SSHADE\\convertidos\\Pt\\ Pt L3 edge XAS transmission of PtO2 mixed with BN at 1bar and 25Â°C.xdi foi reescrito e salvo na pasta C:\\Users\\izaque23003\\OneDrive - ILUM ESCOLA DE CIÊNCIA\\ilum_3s\\ip_3\\base_dados_fase1\\SSHADE\\dados_campos_novos\\ Pt L3 edge XAS transmission of PtO2 mixed with BN at 1bar and 25Â°C.xdi_new.xdi\n",
      "C:\\Users\\izaque23003\\OneDrive - ILUM ESCOLA DE CIÊNCIA\\ilum_3s\\ip_3\\base_dados_fase1\\SSHADE\\dados_campos_novos\\ Pt L3 edge XAS transmission of PtS-h mixed with BN at 1bar and 25Â°C.xdi_new.xdi\n",
      "O arquivo C:\\Users\\izaque23003\\Downloads\\ip3\\SSHADE\\convertidos\\Pt\\ Pt L3 edge XAS transmission of PtS-h mixed with BN at 1bar and 25Â°C.xdi foi reescrito e salvo na pasta C:\\Users\\izaque23003\\OneDrive - ILUM ESCOLA DE CIÊNCIA\\ilum_3s\\ip_3\\base_dados_fase1\\SSHADE\\dados_campos_novos\\ Pt L3 edge XAS transmission of PtS-h mixed with BN at 1bar and 25Â°C.xdi_new.xdi\n",
      "C:\\Users\\izaque23003\\OneDrive - ILUM ESCOLA DE CIÊNCIA\\ilum_3s\\ip_3\\base_dados_fase1\\SSHADE\\dados_campos_novos\\ Pt L3 edge XAS transmission of PtS-s mixed with BN at 1bar and 25Â°C.xdi_new.xdi\n",
      "O arquivo C:\\Users\\izaque23003\\Downloads\\ip3\\SSHADE\\convertidos\\Pt\\ Pt L3 edge XAS transmission of PtS-s mixed with BN at 1bar and 25Â°C.xdi foi reescrito e salvo na pasta C:\\Users\\izaque23003\\OneDrive - ILUM ESCOLA DE CIÊNCIA\\ilum_3s\\ip_3\\base_dados_fase1\\SSHADE\\dados_campos_novos\\ Pt L3 edge XAS transmission of PtS-s mixed with BN at 1bar and 25Â°C.xdi_new.xdi\n",
      "C:\\Users\\izaque23003\\OneDrive - ILUM ESCOLA DE CIÊNCIA\\ilum_3s\\ip_3\\base_dados_fase1\\SSHADE\\dados_campos_novos\\ Pt L3 edge XAS transmission of PtS2-c mixed with BN at 1bar and 25Â°C.xdi_new.xdi\n",
      "O arquivo C:\\Users\\izaque23003\\Downloads\\ip3\\SSHADE\\convertidos\\Pt\\ Pt L3 edge XAS transmission of PtS2-c mixed with BN at 1bar and 25Â°C.xdi foi reescrito e salvo na pasta C:\\Users\\izaque23003\\OneDrive - ILUM ESCOLA DE CIÊNCIA\\ilum_3s\\ip_3\\base_dados_fase1\\SSHADE\\dados_campos_novos\\ Pt L3 edge XAS transmission of PtS2-c mixed with BN at 1bar and 25Â°C.xdi_new.xdi\n",
      "C:\\Users\\izaque23003\\OneDrive - ILUM ESCOLA DE CIÊNCIA\\ilum_3s\\ip_3\\base_dados_fase1\\SSHADE\\dados_campos_novos\\ Pt L3 edge XAS transmission of PtS2-s mixed with BN at 1bar and 25Â°C.xdi_new.xdi\n",
      "O arquivo C:\\Users\\izaque23003\\Downloads\\ip3\\SSHADE\\convertidos\\Pt\\ Pt L3 edge XAS transmission of PtS2-s mixed with BN at 1bar and 25Â°C.xdi foi reescrito e salvo na pasta C:\\Users\\izaque23003\\OneDrive - ILUM ESCOLA DE CIÊNCIA\\ilum_3s\\ip_3\\base_dados_fase1\\SSHADE\\dados_campos_novos\\ Pt L3 edge XAS transmission of PtS2-s mixed with BN at 1bar and 25Â°C.xdi_new.xdi\n",
      "C:\\Users\\izaque23003\\OneDrive - ILUM ESCOLA DE CIÊNCIA\\ilum_3s\\ip_3\\base_dados_fase1\\SSHADE\\dados_campos_novos\\ Se K edge XAS HERFD of Red Se0 at 10K.xdi_new.xdi\n",
      "O arquivo C:\\Users\\izaque23003\\Downloads\\ip3\\SSHADE\\convertidos\\Se\\ Se K edge XAS HERFD of Red Se0 at 10K.xdi foi reescrito e salvo na pasta C:\\Users\\izaque23003\\OneDrive - ILUM ESCOLA DE CIÊNCIA\\ilum_3s\\ip_3\\base_dados_fase1\\SSHADE\\dados_campos_novos\\ Se K edge XAS HERFD of Red Se0 at 10K.xdi_new.xdi\n",
      "C:\\Users\\izaque23003\\OneDrive - ILUM ESCOLA DE CIÊNCIA\\ilum_3s\\ip_3\\base_dados_fase1\\SSHADE\\dados_campos_novos\\ Se K edge XAS HERFD of Se urea at 10K.xdi_new.xdi\n",
      "O arquivo C:\\Users\\izaque23003\\Downloads\\ip3\\SSHADE\\convertidos\\Se\\ Se K edge XAS HERFD of Se urea at 10K.xdi foi reescrito e salvo na pasta C:\\Users\\izaque23003\\OneDrive - ILUM ESCOLA DE CIÊNCIA\\ilum_3s\\ip_3\\base_dados_fase1\\SSHADE\\dados_campos_novos\\ Se K edge XAS HERFD of Se urea at 10K.xdi_new.xdi\n",
      "C:\\Users\\izaque23003\\OneDrive - ILUM ESCOLA DE CIÊNCIA\\ilum_3s\\ip_3\\base_dados_fase1\\SSHADE\\dados_campos_novos\\ Se K edge XAS HERFD of Se-cystamine dihydrochloride at 10K.xdi_new.xdi\n",
      "O arquivo C:\\Users\\izaque23003\\Downloads\\ip3\\SSHADE\\convertidos\\Se\\ Se K edge XAS HERFD of Se-cystamine dihydrochloride at 10K.xdi foi reescrito e salvo na pasta C:\\Users\\izaque23003\\OneDrive - ILUM ESCOLA DE CIÊNCIA\\ilum_3s\\ip_3\\base_dados_fase1\\SSHADE\\dados_campos_novos\\ Se K edge XAS HERFD of Se-cystamine dihydrochloride at 10K.xdi_new.xdi\n",
      "C:\\Users\\izaque23003\\OneDrive - ILUM ESCOLA DE CIÊNCIA\\ilum_3s\\ip_3\\base_dados_fase1\\SSHADE\\dados_campos_novos\\ Se K edge XAS HERFD of Se-cysteine at 10K.xdi_new.xdi\n",
      "O arquivo C:\\Users\\izaque23003\\Downloads\\ip3\\SSHADE\\convertidos\\Se\\ Se K edge XAS HERFD of Se-cysteine at 10K.xdi foi reescrito e salvo na pasta C:\\Users\\izaque23003\\OneDrive - ILUM ESCOLA DE CIÊNCIA\\ilum_3s\\ip_3\\base_dados_fase1\\SSHADE\\dados_campos_novos\\ Se K edge XAS HERFD of Se-cysteine at 10K.xdi_new.xdi\n",
      "C:\\Users\\izaque23003\\OneDrive - ILUM ESCOLA DE CIÊNCIA\\ilum_3s\\ip_3\\base_dados_fase1\\SSHADE\\dados_campos_novos\\ Se K edge XAS HERFD of Se-cystine at 10K.xdi_new.xdi\n",
      "O arquivo C:\\Users\\izaque23003\\Downloads\\ip3\\SSHADE\\convertidos\\Se\\ Se K edge XAS HERFD of Se-cystine at 10K.xdi foi reescrito e salvo na pasta C:\\Users\\izaque23003\\OneDrive - ILUM ESCOLA DE CIÊNCIA\\ilum_3s\\ip_3\\base_dados_fase1\\SSHADE\\dados_campos_novos\\ Se K edge XAS HERFD of Se-cystine at 10K.xdi_new.xdi\n",
      "C:\\Users\\izaque23003\\OneDrive - ILUM ESCOLA DE CIÊNCIA\\ilum_3s\\ip_3\\base_dados_fase1\\SSHADE\\dados_campos_novos\\ Se K edge XAS HERFD of Se-cystine solution at 10K.xdi_new.xdi\n",
      "O arquivo C:\\Users\\izaque23003\\Downloads\\ip3\\SSHADE\\convertidos\\Se\\ Se K edge XAS HERFD of Se-cystine solution at 10K.xdi foi reescrito e salvo na pasta C:\\Users\\izaque23003\\OneDrive - ILUM ESCOLA DE CIÊNCIA\\ilum_3s\\ip_3\\base_dados_fase1\\SSHADE\\dados_campos_novos\\ Se K edge XAS HERFD of Se-cystine solution at 10K.xdi_new.xdi\n",
      "C:\\Users\\izaque23003\\OneDrive - ILUM ESCOLA DE CIÊNCIA\\ilum_3s\\ip_3\\base_dados_fase1\\SSHADE\\dados_campos_novos\\ Se K edge XAS HERFD of Se-diglutathione solution at 10K.xdi_new.xdi\n",
      "O arquivo C:\\Users\\izaque23003\\Downloads\\ip3\\SSHADE\\convertidos\\Se\\ Se K edge XAS HERFD of Se-diglutathione solution at 10K.xdi foi reescrito e salvo na pasta C:\\Users\\izaque23003\\OneDrive - ILUM ESCOLA DE CIÊNCIA\\ilum_3s\\ip_3\\base_dados_fase1\\SSHADE\\dados_campos_novos\\ Se K edge XAS HERFD of Se-diglutathione solution at 10K.xdi_new.xdi\n"
     ]
    },
    {
     "name": "stdout",
     "output_type": "stream",
     "text": [
      "C:\\Users\\izaque23003\\OneDrive - ILUM ESCOLA DE CIÊNCIA\\ilum_3s\\ip_3\\base_dados_fase1\\SSHADE\\dados_campos_novos\\ Se K edge XAS HERFD of Se-glutathione peroxydase solution at 10K.xdi_new.xdi\n",
      "O arquivo C:\\Users\\izaque23003\\Downloads\\ip3\\SSHADE\\convertidos\\Se\\ Se K edge XAS HERFD of Se-glutathione peroxydase solution at 10K.xdi foi reescrito e salvo na pasta C:\\Users\\izaque23003\\OneDrive - ILUM ESCOLA DE CIÊNCIA\\ilum_3s\\ip_3\\base_dados_fase1\\SSHADE\\dados_campos_novos\\ Se K edge XAS HERFD of Se-glutathione peroxydase solution at 10K.xdi_new.xdi\n",
      "C:\\Users\\izaque23003\\OneDrive - ILUM ESCOLA DE CIÊNCIA\\ilum_3s\\ip_3\\base_dados_fase1\\SSHADE\\dados_campos_novos\\ Se K edge XAS HERFD of Se-methionine at 10K.xdi_new.xdi\n",
      "O arquivo C:\\Users\\izaque23003\\Downloads\\ip3\\SSHADE\\convertidos\\Se\\ Se K edge XAS HERFD of Se-methionine at 10K.xdi foi reescrito e salvo na pasta C:\\Users\\izaque23003\\OneDrive - ILUM ESCOLA DE CIÊNCIA\\ilum_3s\\ip_3\\base_dados_fase1\\SSHADE\\dados_campos_novos\\ Se K edge XAS HERFD of Se-methionine at 10K.xdi_new.xdi\n",
      "C:\\Users\\izaque23003\\OneDrive - ILUM ESCOLA DE CIÊNCIA\\ilum_3s\\ip_3\\base_dados_fase1\\SSHADE\\dados_campos_novos\\ Se K edge XAS HERFD of Se-methionine solution at 10K.xdi_new.xdi\n",
      "O arquivo C:\\Users\\izaque23003\\Downloads\\ip3\\SSHADE\\convertidos\\Se\\ Se K edge XAS HERFD of Se-methionine solution at 10K.xdi foi reescrito e salvo na pasta C:\\Users\\izaque23003\\OneDrive - ILUM ESCOLA DE CIÊNCIA\\ilum_3s\\ip_3\\base_dados_fase1\\SSHADE\\dados_campos_novos\\ Se K edge XAS HERFD of Se-methionine solution at 10K.xdi_new.xdi\n",
      "C:\\Users\\izaque23003\\OneDrive - ILUM ESCOLA DE CIÊNCIA\\ilum_3s\\ip_3\\base_dados_fase1\\SSHADE\\dados_campos_novos\\ Se K edge XAS HERFD of sodium selenate SeVI at 10K.xdi_new.xdi\n",
      "O arquivo C:\\Users\\izaque23003\\Downloads\\ip3\\SSHADE\\convertidos\\Se\\ Se K edge XAS HERFD of sodium selenate SeVI at 10K.xdi foi reescrito e salvo na pasta C:\\Users\\izaque23003\\OneDrive - ILUM ESCOLA DE CIÊNCIA\\ilum_3s\\ip_3\\base_dados_fase1\\SSHADE\\dados_campos_novos\\ Se K edge XAS HERFD of sodium selenate SeVI at 10K.xdi_new.xdi\n",
      "C:\\Users\\izaque23003\\OneDrive - ILUM ESCOLA DE CIÊNCIA\\ilum_3s\\ip_3\\base_dados_fase1\\SSHADE\\dados_campos_novos\\ Se K edge XAS HERFD of sodium selenide SeII at 10K.xdi_new.xdi\n",
      "O arquivo C:\\Users\\izaque23003\\Downloads\\ip3\\SSHADE\\convertidos\\Se\\ Se K edge XAS HERFD of sodium selenide SeII at 10K.xdi foi reescrito e salvo na pasta C:\\Users\\izaque23003\\OneDrive - ILUM ESCOLA DE CIÊNCIA\\ilum_3s\\ip_3\\base_dados_fase1\\SSHADE\\dados_campos_novos\\ Se K edge XAS HERFD of sodium selenide SeII at 10K.xdi_new.xdi\n",
      "C:\\Users\\izaque23003\\OneDrive - ILUM ESCOLA DE CIÊNCIA\\ilum_3s\\ip_3\\base_dados_fase1\\SSHADE\\dados_campos_novos\\ Se K edge XAS HERFD of sodium selenite SeIV at 10K.xdi_new.xdi\n",
      "O arquivo C:\\Users\\izaque23003\\Downloads\\ip3\\SSHADE\\convertidos\\Se\\ Se K edge XAS HERFD of sodium selenite SeIV at 10K.xdi foi reescrito e salvo na pasta C:\\Users\\izaque23003\\OneDrive - ILUM ESCOLA DE CIÊNCIA\\ilum_3s\\ip_3\\base_dados_fase1\\SSHADE\\dados_campos_novos\\ Se K edge XAS HERFD of sodium selenite SeIV at 10K.xdi_new.xdi\n",
      "C:\\Users\\izaque23003\\OneDrive - ILUM ESCOLA DE CIÊNCIA\\ilum_3s\\ip_3\\base_dados_fase1\\SSHADE\\dados_campos_novos\\ Ti K edge XAS transmission of Ti metallic reference foil at ambient conditions.xdi_new.xdi\n",
      "O arquivo C:\\Users\\izaque23003\\Downloads\\ip3\\SSHADE\\convertidos\\Ti\\ Ti K edge XAS transmission of Ti metallic reference foil at ambient conditions.xdi foi reescrito e salvo na pasta C:\\Users\\izaque23003\\OneDrive - ILUM ESCOLA DE CIÊNCIA\\ilum_3s\\ip_3\\base_dados_fase1\\SSHADE\\dados_campos_novos\\ Ti K edge XAS transmission of Ti metallic reference foil at ambient conditions.xdi_new.xdi\n",
      "C:\\Users\\izaque23003\\OneDrive - ILUM ESCOLA DE CIÊNCIA\\ilum_3s\\ip_3\\base_dados_fase1\\SSHADE\\dados_campos_novos\\ U L3 edge XAS HERFD of U(IV)-uraninite at ambient pressure and temperature.xdi_new.xdi\n",
      "O arquivo C:\\Users\\izaque23003\\Downloads\\ip3\\SSHADE\\convertidos\\U\\ U L3 edge XAS HERFD of U(IV)-uraninite at ambient pressure and temperature.xdi foi reescrito e salvo na pasta C:\\Users\\izaque23003\\OneDrive - ILUM ESCOLA DE CIÊNCIA\\ilum_3s\\ip_3\\base_dados_fase1\\SSHADE\\dados_campos_novos\\ U L3 edge XAS HERFD of U(IV)-uraninite at ambient pressure and temperature.xdi_new.xdi\n",
      "C:\\Users\\izaque23003\\OneDrive - ILUM ESCOLA DE CIÊNCIA\\ilum_3s\\ip_3\\base_dados_fase1\\SSHADE\\dados_campos_novos\\ U L3 edge XAS HERFD of U(VI)-uranyl at ambient temperature and 600 bars.xdi_new.xdi\n",
      "O arquivo C:\\Users\\izaque23003\\Downloads\\ip3\\SSHADE\\convertidos\\U\\ U L3 edge XAS HERFD of U(VI)-uranyl at ambient temperature and 600 bars.xdi foi reescrito e salvo na pasta C:\\Users\\izaque23003\\OneDrive - ILUM ESCOLA DE CIÊNCIA\\ilum_3s\\ip_3\\base_dados_fase1\\SSHADE\\dados_campos_novos\\ U L3 edge XAS HERFD of U(VI)-uranyl at ambient temperature and 600 bars.xdi_new.xdi\n",
      "C:\\Users\\izaque23003\\OneDrive - ILUM ESCOLA DE CIÊNCIA\\ilum_3s\\ip_3\\base_dados_fase1\\SSHADE\\dados_campos_novos\\ V K edge XAS HERFD of Solution of Sodium orthovanadate Na3VO4.2H2O in MilliQ water at pH 12.5 - 5000 mg_l of V.xdi_new.xdi\n",
      "O arquivo C:\\Users\\izaque23003\\Downloads\\ip3\\SSHADE\\convertidos\\V\\ V K edge XAS HERFD of Solution of Sodium orthovanadate Na3VO4.2H2O in MilliQ water at pH 12.5 - 5000 mg_l of V.xdi foi reescrito e salvo na pasta C:\\Users\\izaque23003\\OneDrive - ILUM ESCOLA DE CIÊNCIA\\ilum_3s\\ip_3\\base_dados_fase1\\SSHADE\\dados_campos_novos\\ V K edge XAS HERFD of Solution of Sodium orthovanadate Na3VO4.2H2O in MilliQ water at pH 12.5 - 5000 mg_l of V.xdi_new.xdi\n",
      "C:\\Users\\izaque23003\\OneDrive - ILUM ESCOLA DE CIÊNCIA\\ilum_3s\\ip_3\\base_dados_fase1\\SSHADE\\dados_campos_novos\\ V K edge XAS HERFD of Solution of Vanadyl sulfate VOSO4.5H2O in MilliQ water at pH 2.8 - 3000 mg_l of V.xdi_new.xdi\n",
      "O arquivo C:\\Users\\izaque23003\\Downloads\\ip3\\SSHADE\\convertidos\\V\\ V K edge XAS HERFD of Solution of Vanadyl sulfate VOSO4.5H2O in MilliQ water at pH 2.8 - 3000 mg_l of V.xdi foi reescrito e salvo na pasta C:\\Users\\izaque23003\\OneDrive - ILUM ESCOLA DE CIÊNCIA\\ilum_3s\\ip_3\\base_dados_fase1\\SSHADE\\dados_campos_novos\\ V K edge XAS HERFD of Solution of Vanadyl sulfate VOSO4.5H2O in MilliQ water at pH 2.8 - 3000 mg_l of V.xdi_new.xdi\n",
      "C:\\Users\\izaque23003\\OneDrive - ILUM ESCOLA DE CIÊNCIA\\ilum_3s\\ip_3\\base_dados_fase1\\SSHADE\\dados_campos_novos\\ W L3 edge XAS fluorescence of (NH4)6H2W12O40 Ammonium Metatungstate aqueous solution at 10K.xdi_new.xdi\n",
      "O arquivo C:\\Users\\izaque23003\\Downloads\\ip3\\SSHADE\\convertidos\\W\\ W L3 edge XAS fluorescence of (NH4)6H2W12O40 Ammonium Metatungstate aqueous solution at 10K.xdi foi reescrito e salvo na pasta C:\\Users\\izaque23003\\OneDrive - ILUM ESCOLA DE CIÊNCIA\\ilum_3s\\ip_3\\base_dados_fase1\\SSHADE\\dados_campos_novos\\ W L3 edge XAS fluorescence of (NH4)6H2W12O40 Ammonium Metatungstate aqueous solution at 10K.xdi_new.xdi\n",
      "C:\\Users\\izaque23003\\OneDrive - ILUM ESCOLA DE CIÊNCIA\\ilum_3s\\ip_3\\base_dados_fase1\\SSHADE\\dados_campos_novos\\ W L3 edge XAS fluorescence of (NH4)6H2W12O40 Ammonium Metatungstate pellet at 10K.xdi_new.xdi\n",
      "O arquivo C:\\Users\\izaque23003\\Downloads\\ip3\\SSHADE\\convertidos\\W\\ W L3 edge XAS fluorescence of (NH4)6H2W12O40 Ammonium Metatungstate pellet at 10K.xdi foi reescrito e salvo na pasta C:\\Users\\izaque23003\\OneDrive - ILUM ESCOLA DE CIÊNCIA\\ilum_3s\\ip_3\\base_dados_fase1\\SSHADE\\dados_campos_novos\\ W L3 edge XAS fluorescence of (NH4)6H2W12O40 Ammonium Metatungstate pellet at 10K.xdi_new.xdi\n",
      "C:\\Users\\izaque23003\\OneDrive - ILUM ESCOLA DE CIÊNCIA\\ilum_3s\\ip_3\\base_dados_fase1\\SSHADE\\dados_campos_novos\\ W L3 edge XAS fluorescence of WO3.H20 Tungstic Acid pellet at 10K.xdi_new.xdi\n",
      "O arquivo C:\\Users\\izaque23003\\Downloads\\ip3\\SSHADE\\convertidos\\W\\ W L3 edge XAS fluorescence of WO3.H20 Tungstic Acid pellet at 10K.xdi foi reescrito e salvo na pasta C:\\Users\\izaque23003\\OneDrive - ILUM ESCOLA DE CIÊNCIA\\ilum_3s\\ip_3\\base_dados_fase1\\SSHADE\\dados_campos_novos\\ W L3 edge XAS fluorescence of WO3.H20 Tungstic Acid pellet at 10K.xdi_new.xdi\n",
      "C:\\Users\\izaque23003\\OneDrive - ILUM ESCOLA DE CIÊNCIA\\ilum_3s\\ip_3\\base_dados_fase1\\SSHADE\\dados_campos_novos\\ W L3 edge XAS transmission of (NH4)6H2W12O40 Ammonium Metatungstate aqueous solution at 10K.xdi_new.xdi\n",
      "O arquivo C:\\Users\\izaque23003\\Downloads\\ip3\\SSHADE\\convertidos\\W\\ W L3 edge XAS transmission of (NH4)6H2W12O40 Ammonium Metatungstate aqueous solution at 10K.xdi foi reescrito e salvo na pasta C:\\Users\\izaque23003\\OneDrive - ILUM ESCOLA DE CIÊNCIA\\ilum_3s\\ip_3\\base_dados_fase1\\SSHADE\\dados_campos_novos\\ W L3 edge XAS transmission of (NH4)6H2W12O40 Ammonium Metatungstate aqueous solution at 10K.xdi_new.xdi\n",
      "C:\\Users\\izaque23003\\OneDrive - ILUM ESCOLA DE CIÊNCIA\\ilum_3s\\ip_3\\base_dados_fase1\\SSHADE\\dados_campos_novos\\ W L3 edge XAS transmission of (NH4)6H2W12O40 Ammonium Metatungstate pellet at 10K.xdi_new.xdi\n",
      "O arquivo C:\\Users\\izaque23003\\Downloads\\ip3\\SSHADE\\convertidos\\W\\ W L3 edge XAS transmission of (NH4)6H2W12O40 Ammonium Metatungstate pellet at 10K.xdi foi reescrito e salvo na pasta C:\\Users\\izaque23003\\OneDrive - ILUM ESCOLA DE CIÊNCIA\\ilum_3s\\ip_3\\base_dados_fase1\\SSHADE\\dados_campos_novos\\ W L3 edge XAS transmission of (NH4)6H2W12O40 Ammonium Metatungstate pellet at 10K.xdi_new.xdi\n",
      "C:\\Users\\izaque23003\\OneDrive - ILUM ESCOLA DE CIÊNCIA\\ilum_3s\\ip_3\\base_dados_fase1\\SSHADE\\dados_campos_novos\\ W L3 edge XAS transmission of Na2WO4 sodium tungstate aqueous solution at 10K.xdi_new.xdi\n",
      "O arquivo C:\\Users\\izaque23003\\Downloads\\ip3\\SSHADE\\convertidos\\W\\ W L3 edge XAS transmission of Na2WO4 sodium tungstate aqueous solution at 10K.xdi foi reescrito e salvo na pasta C:\\Users\\izaque23003\\OneDrive - ILUM ESCOLA DE CIÊNCIA\\ilum_3s\\ip_3\\base_dados_fase1\\SSHADE\\dados_campos_novos\\ W L3 edge XAS transmission of Na2WO4 sodium tungstate aqueous solution at 10K.xdi_new.xdi\n",
      "C:\\Users\\izaque23003\\OneDrive - ILUM ESCOLA DE CIÊNCIA\\ilum_3s\\ip_3\\base_dados_fase1\\SSHADE\\dados_campos_novos\\ W L3 edge XAS transmission of Na2WO4 sodium tungstate pellet at 10K.xdi_new.xdi\n",
      "O arquivo C:\\Users\\izaque23003\\Downloads\\ip3\\SSHADE\\convertidos\\W\\ W L3 edge XAS transmission of Na2WO4 sodium tungstate pellet at 10K.xdi foi reescrito e salvo na pasta C:\\Users\\izaque23003\\OneDrive - ILUM ESCOLA DE CIÊNCIA\\ilum_3s\\ip_3\\base_dados_fase1\\SSHADE\\dados_campos_novos\\ W L3 edge XAS transmission of Na2WO4 sodium tungstate pellet at 10K.xdi_new.xdi\n",
      "C:\\Users\\izaque23003\\OneDrive - ILUM ESCOLA DE CIÊNCIA\\ilum_3s\\ip_3\\base_dados_fase1\\SSHADE\\dados_campos_novos\\ W L3 edge XAS transmission of WO3.H20 Tungstic Acid pellet at 10K.xdi_new.xdi\n",
      "O arquivo C:\\Users\\izaque23003\\Downloads\\ip3\\SSHADE\\convertidos\\W\\ W L3 edge XAS transmission of WO3.H20 Tungstic Acid pellet at 10K.xdi foi reescrito e salvo na pasta C:\\Users\\izaque23003\\OneDrive - ILUM ESCOLA DE CIÊNCIA\\ilum_3s\\ip_3\\base_dados_fase1\\SSHADE\\dados_campos_novos\\ W L3 edge XAS transmission of WO3.H20 Tungstic Acid pellet at 10K.xdi_new.xdi\n",
      "C:\\Users\\izaque23003\\OneDrive - ILUM ESCOLA DE CIÊNCIA\\ilum_3s\\ip_3\\base_dados_fase1\\SSHADE\\dados_campos_novos\\ Y K edge XAS fluorescence of yttrium(III) solution at hydrothermal conditions (Y 0.011m Cl 0.79m HCl 0.75m) at 800 bar and 200Â°C.xdi_new.xdi\n",
      "O arquivo C:\\Users\\izaque23003\\Downloads\\ip3\\SSHADE\\convertidos\\Y\\ Y K edge XAS fluorescence of yttrium(III) solution at hydrothermal conditions (Y 0.011m Cl 0.79m HCl 0.75m) at 800 bar and 200Â°C.xdi foi reescrito e salvo na pasta C:\\Users\\izaque23003\\OneDrive - ILUM ESCOLA DE CIÊNCIA\\ilum_3s\\ip_3\\base_dados_fase1\\SSHADE\\dados_campos_novos\\ Y K edge XAS fluorescence of yttrium(III) solution at hydrothermal conditions (Y 0.011m Cl 0.79m HCl 0.75m) at 800 bar and 200Â°C.xdi_new.xdi\n",
      "C:\\Users\\izaque23003\\OneDrive - ILUM ESCOLA DE CIÊNCIA\\ilum_3s\\ip_3\\base_dados_fase1\\SSHADE\\dados_campos_novos\\ Y K edge XAS fluorescence of yttrium(III) solution at hydrothermal conditions (Y 0.011m Cl 0.79m HCl 0.75m) at 800 bar and 300Â°C.xdi_new.xdi\n",
      "O arquivo C:\\Users\\izaque23003\\Downloads\\ip3\\SSHADE\\convertidos\\Y\\ Y K edge XAS fluorescence of yttrium(III) solution at hydrothermal conditions (Y 0.011m Cl 0.79m HCl 0.75m) at 800 bar and 300Â°C.xdi foi reescrito e salvo na pasta C:\\Users\\izaque23003\\OneDrive - ILUM ESCOLA DE CIÊNCIA\\ilum_3s\\ip_3\\base_dados_fase1\\SSHADE\\dados_campos_novos\\ Y K edge XAS fluorescence of yttrium(III) solution at hydrothermal conditions (Y 0.011m Cl 0.79m HCl 0.75m) at 800 bar and 300Â°C.xdi_new.xdi\n",
      "C:\\Users\\izaque23003\\OneDrive - ILUM ESCOLA DE CIÊNCIA\\ilum_3s\\ip_3\\base_dados_fase1\\SSHADE\\dados_campos_novos\\ Y K edge XAS fluorescence of yttrium(III) solution at hydrothermal conditions (Y 0.011m Cl 0.79m HCl 0.75m) at 800 bar and 30Â°C.xdi_new.xdi\n"
     ]
    },
    {
     "name": "stdout",
     "output_type": "stream",
     "text": [
      "O arquivo C:\\Users\\izaque23003\\Downloads\\ip3\\SSHADE\\convertidos\\Y\\ Y K edge XAS fluorescence of yttrium(III) solution at hydrothermal conditions (Y 0.011m Cl 0.79m HCl 0.75m) at 800 bar and 30Â°C.xdi foi reescrito e salvo na pasta C:\\Users\\izaque23003\\OneDrive - ILUM ESCOLA DE CIÊNCIA\\ilum_3s\\ip_3\\base_dados_fase1\\SSHADE\\dados_campos_novos\\ Y K edge XAS fluorescence of yttrium(III) solution at hydrothermal conditions (Y 0.011m Cl 0.79m HCl 0.75m) at 800 bar and 30Â°C.xdi_new.xdi\n",
      "C:\\Users\\izaque23003\\OneDrive - ILUM ESCOLA DE CIÊNCIA\\ilum_3s\\ip_3\\base_dados_fase1\\SSHADE\\dados_campos_novos\\ Y K edge XAS fluorescence of yttrium(III) solution at hydrothermal conditions (Y 0.011m Cl 0.79m HCl 0.75m) at 800 bar and 350Â°C.xdi_new.xdi\n",
      "O arquivo C:\\Users\\izaque23003\\Downloads\\ip3\\SSHADE\\convertidos\\Y\\ Y K edge XAS fluorescence of yttrium(III) solution at hydrothermal conditions (Y 0.011m Cl 0.79m HCl 0.75m) at 800 bar and 350Â°C.xdi foi reescrito e salvo na pasta C:\\Users\\izaque23003\\OneDrive - ILUM ESCOLA DE CIÊNCIA\\ilum_3s\\ip_3\\base_dados_fase1\\SSHADE\\dados_campos_novos\\ Y K edge XAS fluorescence of yttrium(III) solution at hydrothermal conditions (Y 0.011m Cl 0.79m HCl 0.75m) at 800 bar and 350Â°C.xdi_new.xdi\n",
      "C:\\Users\\izaque23003\\OneDrive - ILUM ESCOLA DE CIÊNCIA\\ilum_3s\\ip_3\\base_dados_fase1\\SSHADE\\dados_campos_novos\\ Y K edge XAS fluorescence of yttrium(III) solution at hydrothermal conditions (Y 0.011m Cl 0.79m HCl 0.75m) at 800 bar and 450Â°C.xdi_new.xdi\n",
      "O arquivo C:\\Users\\izaque23003\\Downloads\\ip3\\SSHADE\\convertidos\\Y\\ Y K edge XAS fluorescence of yttrium(III) solution at hydrothermal conditions (Y 0.011m Cl 0.79m HCl 0.75m) at 800 bar and 450Â°C.xdi foi reescrito e salvo na pasta C:\\Users\\izaque23003\\OneDrive - ILUM ESCOLA DE CIÊNCIA\\ilum_3s\\ip_3\\base_dados_fase1\\SSHADE\\dados_campos_novos\\ Y K edge XAS fluorescence of yttrium(III) solution at hydrothermal conditions (Y 0.011m Cl 0.79m HCl 0.75m) at 800 bar and 450Â°C.xdi_new.xdi\n",
      "C:\\Users\\izaque23003\\OneDrive - ILUM ESCOLA DE CIÊNCIA\\ilum_3s\\ip_3\\base_dados_fase1\\SSHADE\\dados_campos_novos\\ Y K edge XAS fluorescence of yttrium(III) solution at hydrothermal conditions (Y 0.011m Cl 10.02m Li 9.49m HCl 0.5m, 800 bar 30Â°C) at 800 bar and 200Â°C.xdi_new.xdi\n",
      "O arquivo C:\\Users\\izaque23003\\Downloads\\ip3\\SSHADE\\convertidos\\Y\\ Y K edge XAS fluorescence of yttrium(III) solution at hydrothermal conditions (Y 0.011m Cl 10.02m Li 9.49m HCl 0.5m, 800 bar 30Â°C) at 800 bar and 200Â°C.xdi foi reescrito e salvo na pasta C:\\Users\\izaque23003\\OneDrive - ILUM ESCOLA DE CIÊNCIA\\ilum_3s\\ip_3\\base_dados_fase1\\SSHADE\\dados_campos_novos\\ Y K edge XAS fluorescence of yttrium(III) solution at hydrothermal conditions (Y 0.011m Cl 10.02m Li 9.49m HCl 0.5m, 800 bar 30Â°C) at 800 bar and 200Â°C.xdi_new.xdi\n",
      "C:\\Users\\izaque23003\\OneDrive - ILUM ESCOLA DE CIÊNCIA\\ilum_3s\\ip_3\\base_dados_fase1\\SSHADE\\dados_campos_novos\\ Y K edge XAS fluorescence of yttrium(III) solution at hydrothermal conditions (Y 0.011m Cl 10.02m Li 9.49m HCl 0.5m, 800 bar 30Â°C) at 800 bar and 300Â°C.xdi_new.xdi\n",
      "O arquivo C:\\Users\\izaque23003\\Downloads\\ip3\\SSHADE\\convertidos\\Y\\ Y K edge XAS fluorescence of yttrium(III) solution at hydrothermal conditions (Y 0.011m Cl 10.02m Li 9.49m HCl 0.5m, 800 bar 30Â°C) at 800 bar and 300Â°C.xdi foi reescrito e salvo na pasta C:\\Users\\izaque23003\\OneDrive - ILUM ESCOLA DE CIÊNCIA\\ilum_3s\\ip_3\\base_dados_fase1\\SSHADE\\dados_campos_novos\\ Y K edge XAS fluorescence of yttrium(III) solution at hydrothermal conditions (Y 0.011m Cl 10.02m Li 9.49m HCl 0.5m, 800 bar 30Â°C) at 800 bar and 300Â°C.xdi_new.xdi\n",
      "C:\\Users\\izaque23003\\OneDrive - ILUM ESCOLA DE CIÊNCIA\\ilum_3s\\ip_3\\base_dados_fase1\\SSHADE\\dados_campos_novos\\ Y K edge XAS fluorescence of yttrium(III) solution at hydrothermal conditions (Y 0.011m Cl 10.02m Li 9.49m HCl 0.5m, 800 bar 30Â°C) at 800 bar and 30Â°C.xdi_new.xdi\n",
      "O arquivo C:\\Users\\izaque23003\\Downloads\\ip3\\SSHADE\\convertidos\\Y\\ Y K edge XAS fluorescence of yttrium(III) solution at hydrothermal conditions (Y 0.011m Cl 10.02m Li 9.49m HCl 0.5m, 800 bar 30Â°C) at 800 bar and 30Â°C.xdi foi reescrito e salvo na pasta C:\\Users\\izaque23003\\OneDrive - ILUM ESCOLA DE CIÊNCIA\\ilum_3s\\ip_3\\base_dados_fase1\\SSHADE\\dados_campos_novos\\ Y K edge XAS fluorescence of yttrium(III) solution at hydrothermal conditions (Y 0.011m Cl 10.02m Li 9.49m HCl 0.5m, 800 bar 30Â°C) at 800 bar and 30Â°C.xdi_new.xdi\n",
      "C:\\Users\\izaque23003\\OneDrive - ILUM ESCOLA DE CIÊNCIA\\ilum_3s\\ip_3\\base_dados_fase1\\SSHADE\\dados_campos_novos\\ Y K edge XAS fluorescence of yttrium(III) solution at hydrothermal conditions (Y 0.011m Cl 10.02m Li 9.49m HCl 0.5m, 800 bar 30Â°C) at 800 bar and 350Â°C.xdi_new.xdi\n",
      "O arquivo C:\\Users\\izaque23003\\Downloads\\ip3\\SSHADE\\convertidos\\Y\\ Y K edge XAS fluorescence of yttrium(III) solution at hydrothermal conditions (Y 0.011m Cl 10.02m Li 9.49m HCl 0.5m, 800 bar 30Â°C) at 800 bar and 350Â°C.xdi foi reescrito e salvo na pasta C:\\Users\\izaque23003\\OneDrive - ILUM ESCOLA DE CIÊNCIA\\ilum_3s\\ip_3\\base_dados_fase1\\SSHADE\\dados_campos_novos\\ Y K edge XAS fluorescence of yttrium(III) solution at hydrothermal conditions (Y 0.011m Cl 10.02m Li 9.49m HCl 0.5m, 800 bar 30Â°C) at 800 bar and 350Â°C.xdi_new.xdi\n",
      "C:\\Users\\izaque23003\\OneDrive - ILUM ESCOLA DE CIÊNCIA\\ilum_3s\\ip_3\\base_dados_fase1\\SSHADE\\dados_campos_novos\\ Y K edge XAS fluorescence of yttrium(III) solution at hydrothermal conditions (Y 0.011m Cl 10.02m Li 9.49m HCl 0.5m, 800 bar 30Â°C) at 800 bar and 400Â°C.xdi_new.xdi\n",
      "O arquivo C:\\Users\\izaque23003\\Downloads\\ip3\\SSHADE\\convertidos\\Y\\ Y K edge XAS fluorescence of yttrium(III) solution at hydrothermal conditions (Y 0.011m Cl 10.02m Li 9.49m HCl 0.5m, 800 bar 30Â°C) at 800 bar and 400Â°C.xdi foi reescrito e salvo na pasta C:\\Users\\izaque23003\\OneDrive - ILUM ESCOLA DE CIÊNCIA\\ilum_3s\\ip_3\\base_dados_fase1\\SSHADE\\dados_campos_novos\\ Y K edge XAS fluorescence of yttrium(III) solution at hydrothermal conditions (Y 0.011m Cl 10.02m Li 9.49m HCl 0.5m, 800 bar 30Â°C) at 800 bar and 400Â°C.xdi_new.xdi\n",
      "C:\\Users\\izaque23003\\OneDrive - ILUM ESCOLA DE CIÊNCIA\\ilum_3s\\ip_3\\base_dados_fase1\\SSHADE\\dados_campos_novos\\ Y K edge XAS fluorescence of yttrium(III) solution at hydrothermal conditions (Y 0.011m Cl 10.02m Li 9.49m HCl 0.5m, 800 bar 30Â°C) at 800 bar and 450Â°C.xdi_new.xdi\n",
      "O arquivo C:\\Users\\izaque23003\\Downloads\\ip3\\SSHADE\\convertidos\\Y\\ Y K edge XAS fluorescence of yttrium(III) solution at hydrothermal conditions (Y 0.011m Cl 10.02m Li 9.49m HCl 0.5m, 800 bar 30Â°C) at 800 bar and 450Â°C.xdi foi reescrito e salvo na pasta C:\\Users\\izaque23003\\OneDrive - ILUM ESCOLA DE CIÊNCIA\\ilum_3s\\ip_3\\base_dados_fase1\\SSHADE\\dados_campos_novos\\ Y K edge XAS fluorescence of yttrium(III) solution at hydrothermal conditions (Y 0.011m Cl 10.02m Li 9.49m HCl 0.5m, 800 bar 30Â°C) at 800 bar and 450Â°C.xdi_new.xdi\n",
      "C:\\Users\\izaque23003\\OneDrive - ILUM ESCOLA DE CIÊNCIA\\ilum_3s\\ip_3\\base_dados_fase1\\SSHADE\\dados_campos_novos\\ Y K edge XAS fluorescence of yttrium(III) solution at hydrothermal conditions (Y 0.012m Cl 2.52m Na 1.99m HCl 0.5m) at 800 bar and 200Â°C.xdi_new.xdi\n",
      "O arquivo C:\\Users\\izaque23003\\Downloads\\ip3\\SSHADE\\convertidos\\Y\\ Y K edge XAS fluorescence of yttrium(III) solution at hydrothermal conditions (Y 0.012m Cl 2.52m Na 1.99m HCl 0.5m) at 800 bar and 200Â°C.xdi foi reescrito e salvo na pasta C:\\Users\\izaque23003\\OneDrive - ILUM ESCOLA DE CIÊNCIA\\ilum_3s\\ip_3\\base_dados_fase1\\SSHADE\\dados_campos_novos\\ Y K edge XAS fluorescence of yttrium(III) solution at hydrothermal conditions (Y 0.012m Cl 2.52m Na 1.99m HCl 0.5m) at 800 bar and 200Â°C.xdi_new.xdi\n",
      "C:\\Users\\izaque23003\\OneDrive - ILUM ESCOLA DE CIÊNCIA\\ilum_3s\\ip_3\\base_dados_fase1\\SSHADE\\dados_campos_novos\\ Y K edge XAS fluorescence of yttrium(III) solution at hydrothermal conditions (Y 0.012m Cl 2.52m Na 1.99m HCl 0.5m) at 800 bar and 300Â°C.xdi_new.xdi\n",
      "O arquivo C:\\Users\\izaque23003\\Downloads\\ip3\\SSHADE\\convertidos\\Y\\ Y K edge XAS fluorescence of yttrium(III) solution at hydrothermal conditions (Y 0.012m Cl 2.52m Na 1.99m HCl 0.5m) at 800 bar and 300Â°C.xdi foi reescrito e salvo na pasta C:\\Users\\izaque23003\\OneDrive - ILUM ESCOLA DE CIÊNCIA\\ilum_3s\\ip_3\\base_dados_fase1\\SSHADE\\dados_campos_novos\\ Y K edge XAS fluorescence of yttrium(III) solution at hydrothermal conditions (Y 0.012m Cl 2.52m Na 1.99m HCl 0.5m) at 800 bar and 300Â°C.xdi_new.xdi\n",
      "C:\\Users\\izaque23003\\OneDrive - ILUM ESCOLA DE CIÊNCIA\\ilum_3s\\ip_3\\base_dados_fase1\\SSHADE\\dados_campos_novos\\ Y K edge XAS fluorescence of yttrium(III) solution at hydrothermal conditions (Y 0.012m Cl 2.52m Na 1.99m HCl 0.5m) at 800 bar and 30Â°C.xdi_new.xdi\n",
      "O arquivo C:\\Users\\izaque23003\\Downloads\\ip3\\SSHADE\\convertidos\\Y\\ Y K edge XAS fluorescence of yttrium(III) solution at hydrothermal conditions (Y 0.012m Cl 2.52m Na 1.99m HCl 0.5m) at 800 bar and 30Â°C.xdi foi reescrito e salvo na pasta C:\\Users\\izaque23003\\OneDrive - ILUM ESCOLA DE CIÊNCIA\\ilum_3s\\ip_3\\base_dados_fase1\\SSHADE\\dados_campos_novos\\ Y K edge XAS fluorescence of yttrium(III) solution at hydrothermal conditions (Y 0.012m Cl 2.52m Na 1.99m HCl 0.5m) at 800 bar and 30Â°C.xdi_new.xdi\n",
      "C:\\Users\\izaque23003\\OneDrive - ILUM ESCOLA DE CIÊNCIA\\ilum_3s\\ip_3\\base_dados_fase1\\SSHADE\\dados_campos_novos\\ Y K edge XAS fluorescence of yttrium(III) solution at hydrothermal conditions (Y 0.012m Cl 2.52m Na 1.99m HCl 0.5m) at 800 bar and 350Â°C.xdi_new.xdi\n",
      "O arquivo C:\\Users\\izaque23003\\Downloads\\ip3\\SSHADE\\convertidos\\Y\\ Y K edge XAS fluorescence of yttrium(III) solution at hydrothermal conditions (Y 0.012m Cl 2.52m Na 1.99m HCl 0.5m) at 800 bar and 350Â°C.xdi foi reescrito e salvo na pasta C:\\Users\\izaque23003\\OneDrive - ILUM ESCOLA DE CIÊNCIA\\ilum_3s\\ip_3\\base_dados_fase1\\SSHADE\\dados_campos_novos\\ Y K edge XAS fluorescence of yttrium(III) solution at hydrothermal conditions (Y 0.012m Cl 2.52m Na 1.99m HCl 0.5m) at 800 bar and 350Â°C.xdi_new.xdi\n",
      "C:\\Users\\izaque23003\\OneDrive - ILUM ESCOLA DE CIÊNCIA\\ilum_3s\\ip_3\\base_dados_fase1\\SSHADE\\dados_campos_novos\\ Y K edge XAS fluorescence of yttrium(III) solution at hydrothermal conditions (Y 0.01m Cl 0.03m HCl 0.002m) at 800 bar and 200Â°C.xdi_new.xdi\n"
     ]
    },
    {
     "name": "stdout",
     "output_type": "stream",
     "text": [
      "O arquivo C:\\Users\\izaque23003\\Downloads\\ip3\\SSHADE\\convertidos\\Y\\ Y K edge XAS fluorescence of yttrium(III) solution at hydrothermal conditions (Y 0.01m Cl 0.03m HCl 0.002m) at 800 bar and 200Â°C.xdi foi reescrito e salvo na pasta C:\\Users\\izaque23003\\OneDrive - ILUM ESCOLA DE CIÊNCIA\\ilum_3s\\ip_3\\base_dados_fase1\\SSHADE\\dados_campos_novos\\ Y K edge XAS fluorescence of yttrium(III) solution at hydrothermal conditions (Y 0.01m Cl 0.03m HCl 0.002m) at 800 bar and 200Â°C.xdi_new.xdi\n",
      "C:\\Users\\izaque23003\\OneDrive - ILUM ESCOLA DE CIÊNCIA\\ilum_3s\\ip_3\\base_dados_fase1\\SSHADE\\dados_campos_novos\\ Y K edge XAS fluorescence of yttrium(III) solution at hydrothermal conditions (Y 0.01m Cl 0.03m HCl 0.002m) at 800 bar and 300Â°C.xdi_new.xdi\n",
      "O arquivo C:\\Users\\izaque23003\\Downloads\\ip3\\SSHADE\\convertidos\\Y\\ Y K edge XAS fluorescence of yttrium(III) solution at hydrothermal conditions (Y 0.01m Cl 0.03m HCl 0.002m) at 800 bar and 300Â°C.xdi foi reescrito e salvo na pasta C:\\Users\\izaque23003\\OneDrive - ILUM ESCOLA DE CIÊNCIA\\ilum_3s\\ip_3\\base_dados_fase1\\SSHADE\\dados_campos_novos\\ Y K edge XAS fluorescence of yttrium(III) solution at hydrothermal conditions (Y 0.01m Cl 0.03m HCl 0.002m) at 800 bar and 300Â°C.xdi_new.xdi\n",
      "C:\\Users\\izaque23003\\OneDrive - ILUM ESCOLA DE CIÊNCIA\\ilum_3s\\ip_3\\base_dados_fase1\\SSHADE\\dados_campos_novos\\ Y K edge XAS fluorescence of yttrium(III) solution at hydrothermal conditions (Y 0.01m Cl 0.03m HCl 0.002m) at 800 bar and 30Â°C.xdi_new.xdi\n",
      "O arquivo C:\\Users\\izaque23003\\Downloads\\ip3\\SSHADE\\convertidos\\Y\\ Y K edge XAS fluorescence of yttrium(III) solution at hydrothermal conditions (Y 0.01m Cl 0.03m HCl 0.002m) at 800 bar and 30Â°C.xdi foi reescrito e salvo na pasta C:\\Users\\izaque23003\\OneDrive - ILUM ESCOLA DE CIÊNCIA\\ilum_3s\\ip_3\\base_dados_fase1\\SSHADE\\dados_campos_novos\\ Y K edge XAS fluorescence of yttrium(III) solution at hydrothermal conditions (Y 0.01m Cl 0.03m HCl 0.002m) at 800 bar and 30Â°C.xdi_new.xdi\n",
      "C:\\Users\\izaque23003\\OneDrive - ILUM ESCOLA DE CIÊNCIA\\ilum_3s\\ip_3\\base_dados_fase1\\SSHADE\\dados_campos_novos\\ Y K edge XAS fluorescence of yttrium(III) solution at hydrothermal conditions (Y 0.01m Cl 0.03m HCl 0.002m) at 800 bar and 350Â°C.xdi_new.xdi\n",
      "O arquivo C:\\Users\\izaque23003\\Downloads\\ip3\\SSHADE\\convertidos\\Y\\ Y K edge XAS fluorescence of yttrium(III) solution at hydrothermal conditions (Y 0.01m Cl 0.03m HCl 0.002m) at 800 bar and 350Â°C.xdi foi reescrito e salvo na pasta C:\\Users\\izaque23003\\OneDrive - ILUM ESCOLA DE CIÊNCIA\\ilum_3s\\ip_3\\base_dados_fase1\\SSHADE\\dados_campos_novos\\ Y K edge XAS fluorescence of yttrium(III) solution at hydrothermal conditions (Y 0.01m Cl 0.03m HCl 0.002m) at 800 bar and 350Â°C.xdi_new.xdi\n",
      "C:\\Users\\izaque23003\\OneDrive - ILUM ESCOLA DE CIÊNCIA\\ilum_3s\\ip_3\\base_dados_fase1\\SSHADE\\dados_campos_novos\\ Y K edge XAS fluorescence of yttrium(III) solution at hydrothermal conditions (Y 0.01m Cl 0.03m HCl 0.002m) at 800 bar and 400Â°C.xdi_new.xdi\n",
      "O arquivo C:\\Users\\izaque23003\\Downloads\\ip3\\SSHADE\\convertidos\\Y\\ Y K edge XAS fluorescence of yttrium(III) solution at hydrothermal conditions (Y 0.01m Cl 0.03m HCl 0.002m) at 800 bar and 400Â°C.xdi foi reescrito e salvo na pasta C:\\Users\\izaque23003\\OneDrive - ILUM ESCOLA DE CIÊNCIA\\ilum_3s\\ip_3\\base_dados_fase1\\SSHADE\\dados_campos_novos\\ Y K edge XAS fluorescence of yttrium(III) solution at hydrothermal conditions (Y 0.01m Cl 0.03m HCl 0.002m) at 800 bar and 400Â°C.xdi_new.xdi\n",
      "C:\\Users\\izaque23003\\OneDrive - ILUM ESCOLA DE CIÊNCIA\\ilum_3s\\ip_3\\base_dados_fase1\\SSHADE\\dados_campos_novos\\ Y K edge XAS fluorescence of yttrium(III) solution at hydrothermal conditions (Y 0.92m Cl 2.76m) at 800 bar and 200Â°C.xdi_new.xdi\n",
      "O arquivo C:\\Users\\izaque23003\\Downloads\\ip3\\SSHADE\\convertidos\\Y\\ Y K edge XAS fluorescence of yttrium(III) solution at hydrothermal conditions (Y 0.92m Cl 2.76m) at 800 bar and 200Â°C.xdi foi reescrito e salvo na pasta C:\\Users\\izaque23003\\OneDrive - ILUM ESCOLA DE CIÊNCIA\\ilum_3s\\ip_3\\base_dados_fase1\\SSHADE\\dados_campos_novos\\ Y K edge XAS fluorescence of yttrium(III) solution at hydrothermal conditions (Y 0.92m Cl 2.76m) at 800 bar and 200Â°C.xdi_new.xdi\n",
      "C:\\Users\\izaque23003\\OneDrive - ILUM ESCOLA DE CIÊNCIA\\ilum_3s\\ip_3\\base_dados_fase1\\SSHADE\\dados_campos_novos\\ Y K edge XAS fluorescence of yttrium(III) solution at hydrothermal conditions (Y 0.92m Cl 2.76m) at 800 bar and 300Â°C.xdi_new.xdi\n",
      "O arquivo C:\\Users\\izaque23003\\Downloads\\ip3\\SSHADE\\convertidos\\Y\\ Y K edge XAS fluorescence of yttrium(III) solution at hydrothermal conditions (Y 0.92m Cl 2.76m) at 800 bar and 300Â°C.xdi foi reescrito e salvo na pasta C:\\Users\\izaque23003\\OneDrive - ILUM ESCOLA DE CIÊNCIA\\ilum_3s\\ip_3\\base_dados_fase1\\SSHADE\\dados_campos_novos\\ Y K edge XAS fluorescence of yttrium(III) solution at hydrothermal conditions (Y 0.92m Cl 2.76m) at 800 bar and 300Â°C.xdi_new.xdi\n",
      "C:\\Users\\izaque23003\\OneDrive - ILUM ESCOLA DE CIÊNCIA\\ilum_3s\\ip_3\\base_dados_fase1\\SSHADE\\dados_campos_novos\\ Y K edge XAS fluorescence of yttrium(III) solution at hydrothermal conditions (Y 0.92m Cl 2.76m) at 800 bar and 30Â°C.xdi_new.xdi\n",
      "O arquivo C:\\Users\\izaque23003\\Downloads\\ip3\\SSHADE\\convertidos\\Y\\ Y K edge XAS fluorescence of yttrium(III) solution at hydrothermal conditions (Y 0.92m Cl 2.76m) at 800 bar and 30Â°C.xdi foi reescrito e salvo na pasta C:\\Users\\izaque23003\\OneDrive - ILUM ESCOLA DE CIÊNCIA\\ilum_3s\\ip_3\\base_dados_fase1\\SSHADE\\dados_campos_novos\\ Y K edge XAS fluorescence of yttrium(III) solution at hydrothermal conditions (Y 0.92m Cl 2.76m) at 800 bar and 30Â°C.xdi_new.xdi\n",
      "C:\\Users\\izaque23003\\OneDrive - ILUM ESCOLA DE CIÊNCIA\\ilum_3s\\ip_3\\base_dados_fase1\\SSHADE\\dados_campos_novos\\ Y K edge XAS fluorescence of yttrium(III) solution at hydrothermal conditions (Y 0.92m Cl 2.76m) at 800 bar and 350Â°C.xdi_new.xdi\n",
      "O arquivo C:\\Users\\izaque23003\\Downloads\\ip3\\SSHADE\\convertidos\\Y\\ Y K edge XAS fluorescence of yttrium(III) solution at hydrothermal conditions (Y 0.92m Cl 2.76m) at 800 bar and 350Â°C.xdi foi reescrito e salvo na pasta C:\\Users\\izaque23003\\OneDrive - ILUM ESCOLA DE CIÊNCIA\\ilum_3s\\ip_3\\base_dados_fase1\\SSHADE\\dados_campos_novos\\ Y K edge XAS fluorescence of yttrium(III) solution at hydrothermal conditions (Y 0.92m Cl 2.76m) at 800 bar and 350Â°C.xdi_new.xdi\n",
      "C:\\Users\\izaque23003\\OneDrive - ILUM ESCOLA DE CIÊNCIA\\ilum_3s\\ip_3\\base_dados_fase1\\SSHADE\\dados_campos_novos\\ Y K edge XAS fluorescence of yttrium(III) solution at hydrothermal conditions (Y 0.92m Cl 2.76m) at 800 bar and 400Â°C.xdi_new.xdi\n",
      "O arquivo C:\\Users\\izaque23003\\Downloads\\ip3\\SSHADE\\convertidos\\Y\\ Y K edge XAS fluorescence of yttrium(III) solution at hydrothermal conditions (Y 0.92m Cl 2.76m) at 800 bar and 400Â°C.xdi foi reescrito e salvo na pasta C:\\Users\\izaque23003\\OneDrive - ILUM ESCOLA DE CIÊNCIA\\ilum_3s\\ip_3\\base_dados_fase1\\SSHADE\\dados_campos_novos\\ Y K edge XAS fluorescence of yttrium(III) solution at hydrothermal conditions (Y 0.92m Cl 2.76m) at 800 bar and 400Â°C.xdi_new.xdi\n",
      "C:\\Users\\izaque23003\\OneDrive - ILUM ESCOLA DE CIÊNCIA\\ilum_3s\\ip_3\\base_dados_fase1\\SSHADE\\dados_campos_novos\\ Y K edge XAS fluorescence of yttrium(III) solution at hydrothermal conditions (Y 0.92m Cl 2.76m) at 800 bar and 450Â°C.xdi_new.xdi\n",
      "O arquivo C:\\Users\\izaque23003\\Downloads\\ip3\\SSHADE\\convertidos\\Y\\ Y K edge XAS fluorescence of yttrium(III) solution at hydrothermal conditions (Y 0.92m Cl 2.76m) at 800 bar and 450Â°C.xdi foi reescrito e salvo na pasta C:\\Users\\izaque23003\\OneDrive - ILUM ESCOLA DE CIÊNCIA\\ilum_3s\\ip_3\\base_dados_fase1\\SSHADE\\dados_campos_novos\\ Y K edge XAS fluorescence of yttrium(III) solution at hydrothermal conditions (Y 0.92m Cl 2.76m) at 800 bar and 450Â°C.xdi_new.xdi\n",
      "C:\\Users\\izaque23003\\OneDrive - ILUM ESCOLA DE CIÊNCIA\\ilum_3s\\ip_3\\base_dados_fase1\\SSHADE\\dados_campos_novos\\ Y K edge XAS transmission of synthetic yttrium oxide Y2O3 at ambient conditions.xdi_new.xdi\n",
      "O arquivo C:\\Users\\izaque23003\\Downloads\\ip3\\SSHADE\\convertidos\\Y\\ Y K edge XAS transmission of synthetic yttrium oxide Y2O3 at ambient conditions.xdi foi reescrito e salvo na pasta C:\\Users\\izaque23003\\OneDrive - ILUM ESCOLA DE CIÊNCIA\\ilum_3s\\ip_3\\base_dados_fase1\\SSHADE\\dados_campos_novos\\ Y K edge XAS transmission of synthetic yttrium oxide Y2O3 at ambient conditions.xdi_new.xdi\n",
      "C:\\Users\\izaque23003\\OneDrive - ILUM ESCOLA DE CIÊNCIA\\ilum_3s\\ip_3\\base_dados_fase1\\SSHADE\\dados_campos_novos\\ Zn K edge XAS HERFD of aqueous Zn(Cysteine)4 at 10K.xdi_new.xdi\n"
     ]
    },
    {
     "name": "stdout",
     "output_type": "stream",
     "text": [
      "O arquivo C:\\Users\\izaque23003\\Downloads\\ip3\\SSHADE\\convertidos\\Zn\\ Zn K edge XAS HERFD of aqueous Zn(Cysteine)4 at 10K.xdi foi reescrito e salvo na pasta C:\\Users\\izaque23003\\OneDrive - ILUM ESCOLA DE CIÊNCIA\\ilum_3s\\ip_3\\base_dados_fase1\\SSHADE\\dados_campos_novos\\ Zn K edge XAS HERFD of aqueous Zn(Cysteine)4 at 10K.xdi_new.xdi\n",
      "C:\\Users\\izaque23003\\OneDrive - ILUM ESCOLA DE CIÊNCIA\\ilum_3s\\ip_3\\base_dados_fase1\\SSHADE\\dados_campos_novos\\ Zn K edge XAS HERFD of aqueous Zn(Histidine)4 at 10K.xdi_new.xdi\n",
      "O arquivo C:\\Users\\izaque23003\\Downloads\\ip3\\SSHADE\\convertidos\\Zn\\ Zn K edge XAS HERFD of aqueous Zn(Histidine)4 at 10K.xdi foi reescrito e salvo na pasta C:\\Users\\izaque23003\\OneDrive - ILUM ESCOLA DE CIÊNCIA\\ilum_3s\\ip_3\\base_dados_fase1\\SSHADE\\dados_campos_novos\\ Zn K edge XAS HERFD of aqueous Zn(Histidine)4 at 10K.xdi_new.xdi\n",
      "C:\\Users\\izaque23003\\OneDrive - ILUM ESCOLA DE CIÊNCIA\\ilum_3s\\ip_3\\base_dados_fase1\\SSHADE\\dados_campos_novos\\ Zn K edge XAS HERFD of aqueous Zn(Malate)3 at 10K.xdi_new.xdi\n",
      "O arquivo C:\\Users\\izaque23003\\Downloads\\ip3\\SSHADE\\convertidos\\Zn\\ Zn K edge XAS HERFD of aqueous Zn(Malate)3 at 10K.xdi foi reescrito e salvo na pasta C:\\Users\\izaque23003\\OneDrive - ILUM ESCOLA DE CIÊNCIA\\ilum_3s\\ip_3\\base_dados_fase1\\SSHADE\\dados_campos_novos\\ Zn K edge XAS HERFD of aqueous Zn(Malate)3 at 10K.xdi_new.xdi\n",
      "C:\\Users\\izaque23003\\OneDrive - ILUM ESCOLA DE CIÊNCIA\\ilum_3s\\ip_3\\base_dados_fase1\\SSHADE\\dados_campos_novos\\ Zn K edge XAS HERFD of hydrated Zn ion ($Zn(H_2O)_6^{2+}$) at 10K.xdi_new.xdi\n",
      "O arquivo C:\\Users\\izaque23003\\Downloads\\ip3\\SSHADE\\convertidos\\Zn\\ Zn K edge XAS HERFD of hydrated Zn ion ($Zn(H_2O)_6^{2+}$) at 10K.xdi foi reescrito e salvo na pasta C:\\Users\\izaque23003\\OneDrive - ILUM ESCOLA DE CIÊNCIA\\ilum_3s\\ip_3\\base_dados_fase1\\SSHADE\\dados_campos_novos\\ Zn K edge XAS HERFD of hydrated Zn ion ($Zn(H_2O)_6^{2+}$) at 10K.xdi_new.xdi\n",
      "C:\\Users\\izaque23003\\OneDrive - ILUM ESCOLA DE CIÊNCIA\\ilum_3s\\ip_3\\base_dados_fase1\\SSHADE\\dados_campos_novos\\ Zn K edge XAS HERFD of Zn diethyldithiocarbamate at 10K.xdi_new.xdi\n",
      "O arquivo C:\\Users\\izaque23003\\Downloads\\ip3\\SSHADE\\convertidos\\Zn\\ Zn K edge XAS HERFD of Zn diethyldithiocarbamate at 10K.xdi foi reescrito e salvo na pasta C:\\Users\\izaque23003\\OneDrive - ILUM ESCOLA DE CIÊNCIA\\ilum_3s\\ip_3\\base_dados_fase1\\SSHADE\\dados_campos_novos\\ Zn K edge XAS HERFD of Zn diethyldithiocarbamate at 10K.xdi_new.xdi\n",
      "C:\\Users\\izaque23003\\OneDrive - ILUM ESCOLA DE CIÊNCIA\\ilum_3s\\ip_3\\base_dados_fase1\\SSHADE\\dados_campos_novos\\ Zn K edge XAS HERFD of Zn phthalocyanine at 10K.xdi_new.xdi\n",
      "O arquivo C:\\Users\\izaque23003\\Downloads\\ip3\\SSHADE\\convertidos\\Zn\\ Zn K edge XAS HERFD of Zn phthalocyanine at 10K.xdi foi reescrito e salvo na pasta C:\\Users\\izaque23003\\OneDrive - ILUM ESCOLA DE CIÊNCIA\\ilum_3s\\ip_3\\base_dados_fase1\\SSHADE\\dados_campos_novos\\ Zn K edge XAS HERFD of Zn phthalocyanine at 10K.xdi_new.xdi\n",
      "C:\\Users\\izaque23003\\OneDrive - ILUM ESCOLA DE CIÊNCIA\\ilum_3s\\ip_3\\base_dados_fase1\\SSHADE\\dados_campos_novos\\ Zn K edge XAS HERFD of ZnCys2His2 peptide at 10K.xdi_new.xdi\n",
      "O arquivo C:\\Users\\izaque23003\\Downloads\\ip3\\SSHADE\\convertidos\\Zn\\ Zn K edge XAS HERFD of ZnCys2His2 peptide at 10K.xdi foi reescrito e salvo na pasta C:\\Users\\izaque23003\\OneDrive - ILUM ESCOLA DE CIÊNCIA\\ilum_3s\\ip_3\\base_dados_fase1\\SSHADE\\dados_campos_novos\\ Zn K edge XAS HERFD of ZnCys2His2 peptide at 10K.xdi_new.xdi\n",
      "C:\\Users\\izaque23003\\OneDrive - ILUM ESCOLA DE CIÊNCIA\\ilum_3s\\ip_3\\base_dados_fase1\\SSHADE\\dados_campos_novos\\ Zn K edge XAS HERFD of ZnCys3His peptide at 10K.xdi_new.xdi\n",
      "O arquivo C:\\Users\\izaque23003\\Downloads\\ip3\\SSHADE\\convertidos\\Zn\\ Zn K edge XAS HERFD of ZnCys3His peptide at 10K.xdi foi reescrito e salvo na pasta C:\\Users\\izaque23003\\OneDrive - ILUM ESCOLA DE CIÊNCIA\\ilum_3s\\ip_3\\base_dados_fase1\\SSHADE\\dados_campos_novos\\ Zn K edge XAS HERFD of ZnCys3His peptide at 10K.xdi_new.xdi\n",
      "C:\\Users\\izaque23003\\OneDrive - ILUM ESCOLA DE CIÊNCIA\\ilum_3s\\ip_3\\base_dados_fase1\\SSHADE\\dados_campos_novos\\ Zn K edge XAS HERFD of ZnCys4 peptide at 10K.xdi_new.xdi\n",
      "O arquivo C:\\Users\\izaque23003\\Downloads\\ip3\\SSHADE\\convertidos\\Zn\\ Zn K edge XAS HERFD of ZnCys4 peptide at 10K.xdi foi reescrito e salvo na pasta C:\\Users\\izaque23003\\OneDrive - ILUM ESCOLA DE CIÊNCIA\\ilum_3s\\ip_3\\base_dados_fase1\\SSHADE\\dados_campos_novos\\ Zn K edge XAS HERFD of ZnCys4 peptide at 10K.xdi_new.xdi\n",
      "C:\\Users\\izaque23003\\OneDrive - ILUM ESCOLA DE CIÊNCIA\\ilum_3s\\ip_3\\base_dados_fase1\\SSHADE\\dados_campos_novos\\ Zn K edge XAS HERFD of ZnO Zn oxide wurtzite at 10K.xdi_new.xdi\n",
      "O arquivo C:\\Users\\izaque23003\\Downloads\\ip3\\SSHADE\\convertidos\\Zn\\ Zn K edge XAS HERFD of ZnO Zn oxide wurtzite at 10K.xdi foi reescrito e salvo na pasta C:\\Users\\izaque23003\\OneDrive - ILUM ESCOLA DE CIÊNCIA\\ilum_3s\\ip_3\\base_dados_fase1\\SSHADE\\dados_campos_novos\\ Zn K edge XAS HERFD of ZnO Zn oxide wurtzite at 10K.xdi_new.xdi\n",
      "C:\\Users\\izaque23003\\OneDrive - ILUM ESCOLA DE CIÊNCIA\\ilum_3s\\ip_3\\base_dados_fase1\\SSHADE\\dados_campos_novos\\ Zn K edge XAS HERFD of ZnS Zn sulfide sphalerite at 10K.xdi_new.xdi\n",
      "O arquivo C:\\Users\\izaque23003\\Downloads\\ip3\\SSHADE\\convertidos\\Zn\\ Zn K edge XAS HERFD of ZnS Zn sulfide sphalerite at 10K.xdi foi reescrito e salvo na pasta C:\\Users\\izaque23003\\OneDrive - ILUM ESCOLA DE CIÊNCIA\\ilum_3s\\ip_3\\base_dados_fase1\\SSHADE\\dados_campos_novos\\ Zn K edge XAS HERFD of ZnS Zn sulfide sphalerite at 10K.xdi_new.xdi\n",
      "C:\\Users\\izaque23003\\OneDrive - ILUM ESCOLA DE CIÊNCIA\\ilum_3s\\ip_3\\base_dados_fase1\\SSHADE\\dados_campos_novos\\ Zn K edge XAS transmission of Zn metallic reference foil at ambient conditions.xdi_new.xdi\n",
      "O arquivo C:\\Users\\izaque23003\\Downloads\\ip3\\SSHADE\\convertidos\\Zn\\ Zn K edge XAS transmission of Zn metallic reference foil at ambient conditions.xdi foi reescrito e salvo na pasta C:\\Users\\izaque23003\\OneDrive - ILUM ESCOLA DE CIÊNCIA\\ilum_3s\\ip_3\\base_dados_fase1\\SSHADE\\dados_campos_novos\\ Zn K edge XAS transmission of Zn metallic reference foil at ambient conditions.xdi_new.xdi\n",
      "C:\\Users\\izaque23003\\OneDrive - ILUM ESCOLA DE CIÊNCIA\\ilum_3s\\ip_3\\base_dados_fase1\\SSHADE\\dados_campos_novos\\ Zr K edge XAS fluorescence of haplogranite Zr F glass at ambient conditions.xdi_new.xdi\n",
      "O arquivo C:\\Users\\izaque23003\\Downloads\\ip3\\SSHADE\\convertidos\\Zr\\ Zr K edge XAS fluorescence of haplogranite Zr F glass at ambient conditions.xdi foi reescrito e salvo na pasta C:\\Users\\izaque23003\\OneDrive - ILUM ESCOLA DE CIÊNCIA\\ilum_3s\\ip_3\\base_dados_fase1\\SSHADE\\dados_campos_novos\\ Zr K edge XAS fluorescence of haplogranite Zr F glass at ambient conditions.xdi_new.xdi\n",
      "C:\\Users\\izaque23003\\OneDrive - ILUM ESCOLA DE CIÊNCIA\\ilum_3s\\ip_3\\base_dados_fase1\\SSHADE\\dados_campos_novos\\ Zr K edge XAS fluorescence of haplogranite Zr glass at ambient conditions.xdi_new.xdi\n",
      "O arquivo C:\\Users\\izaque23003\\Downloads\\ip3\\SSHADE\\convertidos\\Zr\\ Zr K edge XAS fluorescence of haplogranite Zr glass at ambient conditions.xdi foi reescrito e salvo na pasta C:\\Users\\izaque23003\\OneDrive - ILUM ESCOLA DE CIÊNCIA\\ilum_3s\\ip_3\\base_dados_fase1\\SSHADE\\dados_campos_novos\\ Zr K edge XAS fluorescence of haplogranite Zr glass at ambient conditions.xdi_new.xdi\n",
      "C:\\Users\\izaque23003\\OneDrive - ILUM ESCOLA DE CIÊNCIA\\ilum_3s\\ip_3\\base_dados_fase1\\SSHADE\\dados_campos_novos\\ Zr K edge XAS fluorescence of Na2Si2O5 Zr F glass at ambient conditions.xdi_new.xdi\n",
      "O arquivo C:\\Users\\izaque23003\\Downloads\\ip3\\SSHADE\\convertidos\\Zr\\ Zr K edge XAS fluorescence of Na2Si2O5 Zr F glass at ambient conditions.xdi foi reescrito e salvo na pasta C:\\Users\\izaque23003\\OneDrive - ILUM ESCOLA DE CIÊNCIA\\ilum_3s\\ip_3\\base_dados_fase1\\SSHADE\\dados_campos_novos\\ Zr K edge XAS fluorescence of Na2Si2O5 Zr F glass at ambient conditions.xdi_new.xdi\n",
      "C:\\Users\\izaque23003\\OneDrive - ILUM ESCOLA DE CIÊNCIA\\ilum_3s\\ip_3\\base_dados_fase1\\SSHADE\\dados_campos_novos\\ Zr K edge XAS fluorescence of Na2Si2O5 Zr glass at ambient conditions.xdi_new.xdi\n",
      "O arquivo C:\\Users\\izaque23003\\Downloads\\ip3\\SSHADE\\convertidos\\Zr\\ Zr K edge XAS fluorescence of Na2Si2O5 Zr glass at ambient conditions.xdi foi reescrito e salvo na pasta C:\\Users\\izaque23003\\OneDrive - ILUM ESCOLA DE CIÊNCIA\\ilum_3s\\ip_3\\base_dados_fase1\\SSHADE\\dados_campos_novos\\ Zr K edge XAS fluorescence of Na2Si2O5 Zr glass at ambient conditions.xdi_new.xdi\n",
      "C:\\Users\\izaque23003\\OneDrive - ILUM ESCOLA DE CIÊNCIA\\ilum_3s\\ip_3\\base_dados_fase1\\SSHADE\\dados_campos_novos\\ Zr K edge XAS fluorescence of natural eudialyte Na4(Ca,Ce,Fe,Mn,Y,La,Sr,K)3ZrSi8O22(OH,Cl)2 at ambient conditions.xdi_new.xdi\n"
     ]
    },
    {
     "name": "stdout",
     "output_type": "stream",
     "text": [
      "O arquivo C:\\Users\\izaque23003\\Downloads\\ip3\\SSHADE\\convertidos\\Zr\\ Zr K edge XAS fluorescence of natural eudialyte Na4(Ca,Ce,Fe,Mn,Y,La,Sr,K)3ZrSi8O22(OH,Cl)2 at ambient conditions.xdi foi reescrito e salvo na pasta C:\\Users\\izaque23003\\OneDrive - ILUM ESCOLA DE CIÊNCIA\\ilum_3s\\ip_3\\base_dados_fase1\\SSHADE\\dados_campos_novos\\ Zr K edge XAS fluorescence of natural eudialyte Na4(Ca,Ce,Fe,Mn,Y,La,Sr,K)3ZrSi8O22(OH,Cl)2 at ambient conditions.xdi_new.xdi\n",
      "C:\\Users\\izaque23003\\OneDrive - ILUM ESCOLA DE CIÊNCIA\\ilum_3s\\ip_3\\base_dados_fase1\\SSHADE\\dados_campos_novos\\ Zr K edge XAS fluorescence of natural vlasovite Na2ZrSi4O11 at ambient conditions.xdi_new.xdi\n",
      "O arquivo C:\\Users\\izaque23003\\Downloads\\ip3\\SSHADE\\convertidos\\Zr\\ Zr K edge XAS fluorescence of natural vlasovite Na2ZrSi4O11 at ambient conditions.xdi foi reescrito e salvo na pasta C:\\Users\\izaque23003\\OneDrive - ILUM ESCOLA DE CIÊNCIA\\ilum_3s\\ip_3\\base_dados_fase1\\SSHADE\\dados_campos_novos\\ Zr K edge XAS fluorescence of natural vlasovite Na2ZrSi4O11 at ambient conditions.xdi_new.xdi\n",
      "C:\\Users\\izaque23003\\OneDrive - ILUM ESCOLA DE CIÊNCIA\\ilum_3s\\ip_3\\base_dados_fase1\\SSHADE\\dados_campos_novos\\ Zr K edge XAS fluorescence of solution of Zr (5000ppm) in HCl (2.5 wt%) at ambient conditions.xdi_new.xdi\n",
      "O arquivo C:\\Users\\izaque23003\\Downloads\\ip3\\SSHADE\\convertidos\\Zr\\ Zr K edge XAS fluorescence of solution of Zr (5000ppm) in HCl (2.5 wt%) at ambient conditions.xdi foi reescrito e salvo na pasta C:\\Users\\izaque23003\\OneDrive - ILUM ESCOLA DE CIÊNCIA\\ilum_3s\\ip_3\\base_dados_fase1\\SSHADE\\dados_campos_novos\\ Zr K edge XAS fluorescence of solution of Zr (5000ppm) in HCl (2.5 wt%) at ambient conditions.xdi_new.xdi\n",
      "C:\\Users\\izaque23003\\OneDrive - ILUM ESCOLA DE CIÊNCIA\\ilum_3s\\ip_3\\base_dados_fase1\\SSHADE\\dados_campos_novos\\ Zr K edge XAS fluorescence of synthetic baddeleyite ZrO2 at ambient conditions.xdi_new.xdi\n",
      "O arquivo C:\\Users\\izaque23003\\Downloads\\ip3\\SSHADE\\convertidos\\Zr\\ Zr K edge XAS fluorescence of synthetic baddeleyite ZrO2 at ambient conditions.xdi foi reescrito e salvo na pasta C:\\Users\\izaque23003\\OneDrive - ILUM ESCOLA DE CIÊNCIA\\ilum_3s\\ip_3\\base_dados_fase1\\SSHADE\\dados_campos_novos\\ Zr K edge XAS fluorescence of synthetic baddeleyite ZrO2 at ambient conditions.xdi_new.xdi\n",
      "C:\\Users\\izaque23003\\OneDrive - ILUM ESCOLA DE CIÊNCIA\\ilum_3s\\ip_3\\base_dados_fase1\\SSHADE\\dados_campos_novos\\ Zr K edge XAS fluorescence of synthetic zircon ZrSiO4 at ambient conditions.xdi_new.xdi\n",
      "O arquivo C:\\Users\\izaque23003\\Downloads\\ip3\\SSHADE\\convertidos\\Zr\\ Zr K edge XAS fluorescence of synthetic zircon ZrSiO4 at ambient conditions.xdi foi reescrito e salvo na pasta C:\\Users\\izaque23003\\OneDrive - ILUM ESCOLA DE CIÊNCIA\\ilum_3s\\ip_3\\base_dados_fase1\\SSHADE\\dados_campos_novos\\ Zr K edge XAS fluorescence of synthetic zircon ZrSiO4 at ambient conditions.xdi_new.xdi\n",
      "C:\\Users\\izaque23003\\OneDrive - ILUM ESCOLA DE CIÊNCIA\\ilum_3s\\ip_3\\base_dados_fase1\\SSHADE\\dados_campos_novos\\ Zr K edge XAS transmission of Zr metallic reference foil at ambient conditions.xdi_new.xdi\n",
      "O arquivo C:\\Users\\izaque23003\\Downloads\\ip3\\SSHADE\\convertidos\\Zr\\ Zr K edge XAS transmission of Zr metallic reference foil at ambient conditions.xdi foi reescrito e salvo na pasta C:\\Users\\izaque23003\\OneDrive - ILUM ESCOLA DE CIÊNCIA\\ilum_3s\\ip_3\\base_dados_fase1\\SSHADE\\dados_campos_novos\\ Zr K edge XAS transmission of Zr metallic reference foil at ambient conditions.xdi_new.xdi\n"
     ]
    }
   ],
   "source": [
    "for file in arquivo:   \n",
    "    novo_caminho= reescreve(file)\n",
    "    print(f'O arquivo {file} foi reescrito e salvo na pasta {novo_caminho}')"
   ]
  },
  {
   "cell_type": "markdown",
   "id": "3fb9cf60",
   "metadata": {},
   "source": [
    "# Referências Bibliográficas"
   ]
  },
  {
   "cell_type": "markdown",
   "id": "4252af10",
   "metadata": {},
   "source": [
    "[1] https://github.com/XraySpectroscopy/XAS-Data-Interchange/blob/master/specification/spec.md#structure-of-the-header-section\n",
    "\n"
   ]
  }
 ],
 "metadata": {
  "kernelspec": {
   "display_name": "ilumpy",
   "language": "python",
   "name": "ilumpy"
  },
  "language_info": {
   "codemirror_mode": {
    "name": "ipython",
    "version": 3
   },
   "file_extension": ".py",
   "mimetype": "text/x-python",
   "name": "python",
   "nbconvert_exporter": "python",
   "pygments_lexer": "ipython3",
   "version": "3.10.8"
  }
 },
 "nbformat": 4,
 "nbformat_minor": 5
}
